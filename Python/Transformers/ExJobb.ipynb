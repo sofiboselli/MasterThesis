{
 "cells": [
  {
   "cell_type": "code",
   "execution_count": 1,
   "metadata": {},
   "outputs": [],
   "source": [
    "import numpy as np\n",
    "from pymatreader import read_mat\n",
    "import os\n",
    "from torch.utils.data import Dataset\n",
    "import torch\n",
    "import librosa\n",
    "import scipy\n",
    "import matplotlib.pyplot as plt\n",
    "from tqdm import tqdm\n",
    "from mne.filter import filter_data,resample\n",
    "from scipy.stats import zscore\n",
    "from scipy.io import wavfile\n",
    "from nnAudio import features"
   ]
  },
  {
   "cell_type": "code",
   "execution_count": 2,
   "metadata": {},
   "outputs": [
    {
     "name": "stdout",
     "output_type": "stream",
     "text": [
      "STFT kernels created, time used = 0.0895 seconds\n",
      "STFT filter created, time used = 0.0100 seconds\n",
      "Gammatone filter created, time used = 0.0100 seconds\n"
     ]
    }
   ],
   "source": [
    "gam = features.Gammatonegram(hop_length=1,n_fft=2048,sr=16000)"
   ]
  },
  {
   "cell_type": "code",
   "execution_count": 2,
   "metadata": {},
   "outputs": [],
   "source": [
    "def load_subject(i):\n",
    "\n",
    "    dir = \"C:/Users/gauta/Thesis/ExJobb/ID\" + str(1000+i) +\"/PreprocIV_ID\" +str(1000+i)+ \"_mast.mat\"\n",
    "    temp_data = read_mat(dir)\n",
    "    temp_data = temp_data['ICAcleaned_data_allsess']\n",
    "    data = np.vstack([np.array(temp_data['ICAcleaned_data_allsess'][i]['trial'])[:,0:64,256*20:256*53] for i in range(len(temp_data['ICAcleaned_data_allsess']))])\n",
    "    attended = [\"C:/Users/gauta/Thesis/ExJobb/Files_Audio/\" + temp_data['ICAcleaned_data_allsess'][k]['targetfiles'][i].split('\\\\')[-1] for k in range(len(temp_data['ICAcleaned_data_allsess'])) for i in range(20)]\n",
    "    masker = [\"C:/Users/gauta/Thesis/ExJobb/Files_Audio/\" + temp_data['ICAcleaned_data_allsess'][k]['maskerfiles'][i].split('\\\\')[-1] for k in range(len(temp_data['ICAcleaned_data_allsess'])) for i in range(20)]\n",
    "    \n",
    "\n",
    "    return (data,attended,masker)"
   ]
  },
  {
   "cell_type": "code",
   "execution_count": 3,
   "metadata": {},
   "outputs": [],
   "source": [
    "def load_subject(i):\n",
    "\n",
    "    dir = \"C:/Users/gauta/Thesis/ExJobb/ID\" + str(1000+i) +\"/PreprocIV_ID\" +str(1000+i)+ \"_mast.mat\"\n",
    "    temp_data = read_mat(dir)\n",
    "    temp_data = temp_data['ICAcleaned_data_allsess']\n",
    "\n",
    "    return temp_data"
   ]
  },
  {
   "cell_type": "code",
   "execution_count": 4,
   "metadata": {},
   "outputs": [],
   "source": [
    "def cvt2env(dirs):\n",
    "    sr = 16000\n",
    "    wav = np.array([librosa.load(dir,sr=16000)[0] for dir in dirs])\n",
    "    env = np.abs(scipy.signal.hilbert(np.array(wav,dtype=np.float64)))\n",
    "    #env = filter_data(env,sr,None,50,verbose=False,n_jobs='cuda')\n",
    "    env = scipy.signal.resample_poly(env,128,sr,axis=-1)\n",
    "    env = np.expand_dims(env,1)\n",
    "    spec = librosa.feature.melspectrogram(y=wav,hop_length=125,n_fft=2048,n_mels=128,sr=sr)[:,:,1:]\n",
    "    #spec = filter_data(np.array(spec[1:],dtype=np.float64),sr,None,50,verbose=False,n_jobs='cuda')\n",
    "    env = np.concatenate([spec,env],axis=1)\n",
    "    return np.array(env)\n"
   ]
  },
  {
   "cell_type": "code",
   "execution_count": 5,
   "metadata": {},
   "outputs": [],
   "source": [
    "def cvt2dirs(dirs):\n",
    "    dirs =  list(map(lambda x: x.split('\\\\')[-1],dirs))\n",
    "    out = [a+b for a,b in zip([\"C:/Users/gauta/Thesis/ExJobb/Files_Audio/\"]*20,dirs)]\n",
    "    return out"
   ]
  },
  {
   "cell_type": "code",
   "execution_count": 6,
   "metadata": {},
   "outputs": [],
   "source": [
    "mode = [\"offos\",\"onos\",\"offpol\",\"onpol\"]"
   ]
  },
  {
   "cell_type": "code",
   "execution_count": 8,
   "metadata": {},
   "outputs": [
    {
     "name": "stderr",
     "output_type": "stream",
     "text": [
      "  6%|▋         | 2/32 [01:36<24:04, 48.16s/it]\n"
     ]
    },
    {
     "ename": "KeyboardInterrupt",
     "evalue": "",
     "output_type": "error",
     "traceback": [
      "\u001b[1;31m---------------------------------------------------------------------------\u001b[0m",
      "\u001b[1;31mKeyboardInterrupt\u001b[0m                         Traceback (most recent call last)",
      "Cell \u001b[1;32mIn[8], line 10\u001b[0m\n\u001b[0;32m      8\u001b[0m EEG \u001b[38;5;241m=\u001b[39m resample(EEG,\u001b[38;5;241m128\u001b[39m,\u001b[38;5;241m256\u001b[39m)\n\u001b[0;32m      9\u001b[0m \u001b[38;5;66;03m#EEG = filter_data(EEG,64,0.5,None,verbose=False,n_jobs='cuda')\u001b[39;00m\n\u001b[1;32m---> 10\u001b[0m attended \u001b[38;5;241m=\u001b[39m \u001b[43mcvt2env\u001b[49m\u001b[43m(\u001b[49m\u001b[43mcvt2dirs\u001b[49m\u001b[43m(\u001b[49m\u001b[43mtrial\u001b[49m\u001b[43m[\u001b[49m\u001b[38;5;124;43m'\u001b[39;49m\u001b[38;5;124;43mtargetfiles\u001b[39;49m\u001b[38;5;124;43m'\u001b[39;49m\u001b[43m]\u001b[49m\u001b[43m)\u001b[49m\u001b[43m)\u001b[49m\n\u001b[0;32m     11\u001b[0m masker \u001b[38;5;241m=\u001b[39m cvt2env(cvt2dirs(trial[\u001b[38;5;124m'\u001b[39m\u001b[38;5;124mmaskerfiles\u001b[39m\u001b[38;5;124m'\u001b[39m]))\n\u001b[0;32m     12\u001b[0m \u001b[38;5;28;01mfor\u001b[39;00m k,(eeg,att,mas) \u001b[38;5;129;01min\u001b[39;00m \u001b[38;5;28menumerate\u001b[39m(\u001b[38;5;28mzip\u001b[39m(EEG,attended,masker)):\n",
      "Cell \u001b[1;32mIn[4], line 8\u001b[0m, in \u001b[0;36mcvt2env\u001b[1;34m(dirs)\u001b[0m\n\u001b[0;32m      6\u001b[0m env \u001b[38;5;241m=\u001b[39m scipy\u001b[38;5;241m.\u001b[39msignal\u001b[38;5;241m.\u001b[39mresample_poly(env,\u001b[38;5;241m128\u001b[39m,sr,axis\u001b[38;5;241m=\u001b[39m\u001b[38;5;241m-\u001b[39m\u001b[38;5;241m1\u001b[39m)\n\u001b[0;32m      7\u001b[0m env \u001b[38;5;241m=\u001b[39m np\u001b[38;5;241m.\u001b[39mexpand_dims(env,\u001b[38;5;241m1\u001b[39m)\n\u001b[1;32m----> 8\u001b[0m spec \u001b[38;5;241m=\u001b[39m \u001b[43mlibrosa\u001b[49m\u001b[38;5;241;43m.\u001b[39;49m\u001b[43mfeature\u001b[49m\u001b[38;5;241;43m.\u001b[39;49m\u001b[43mmelspectrogram\u001b[49m\u001b[43m(\u001b[49m\u001b[43my\u001b[49m\u001b[38;5;241;43m=\u001b[39;49m\u001b[43mwav\u001b[49m\u001b[43m,\u001b[49m\u001b[43mhop_length\u001b[49m\u001b[38;5;241;43m=\u001b[39;49m\u001b[38;5;241;43m125\u001b[39;49m\u001b[43m,\u001b[49m\u001b[43mn_fft\u001b[49m\u001b[38;5;241;43m=\u001b[39;49m\u001b[38;5;241;43m2048\u001b[39;49m\u001b[43m,\u001b[49m\u001b[43mn_mels\u001b[49m\u001b[38;5;241;43m=\u001b[39;49m\u001b[38;5;241;43m218\u001b[39;49m\u001b[43m,\u001b[49m\u001b[43msr\u001b[49m\u001b[38;5;241;43m=\u001b[39;49m\u001b[43msr\u001b[49m\u001b[43m)\u001b[49m[:,:,\u001b[38;5;241m1\u001b[39m:]\n\u001b[0;32m      9\u001b[0m \u001b[38;5;66;03m#spec = filter_data(np.array(spec[1:],dtype=np.float64),sr,None,50,verbose=False,n_jobs='cuda')\u001b[39;00m\n\u001b[0;32m     10\u001b[0m env \u001b[38;5;241m=\u001b[39m np\u001b[38;5;241m.\u001b[39mconcatenate([spec,env],axis\u001b[38;5;241m=\u001b[39m\u001b[38;5;241m1\u001b[39m)\n",
      "File \u001b[1;32mc:\\Users\\gauta\\anaconda3\\envs\\keras-jax\\lib\\site-packages\\librosa\\feature\\spectral.py:2130\u001b[0m, in \u001b[0;36mmelspectrogram\u001b[1;34m(y, sr, S, n_fft, hop_length, win_length, window, center, pad_mode, power, **kwargs)\u001b[0m\n\u001b[0;32m   2008\u001b[0m \u001b[38;5;28;01mdef\u001b[39;00m \u001b[38;5;21mmelspectrogram\u001b[39m(\n\u001b[0;32m   2009\u001b[0m     \u001b[38;5;241m*\u001b[39m,\n\u001b[0;32m   2010\u001b[0m     y: Optional[np\u001b[38;5;241m.\u001b[39mndarray] \u001b[38;5;241m=\u001b[39m \u001b[38;5;28;01mNone\u001b[39;00m,\n\u001b[1;32m   (...)\u001b[0m\n\u001b[0;32m   2020\u001b[0m     \u001b[38;5;241m*\u001b[39m\u001b[38;5;241m*\u001b[39mkwargs: Any,\n\u001b[0;32m   2021\u001b[0m ) \u001b[38;5;241m-\u001b[39m\u001b[38;5;241m>\u001b[39m np\u001b[38;5;241m.\u001b[39mndarray:\n\u001b[0;32m   2022\u001b[0m \u001b[38;5;250m    \u001b[39m\u001b[38;5;124;03m\"\"\"Compute a mel-scaled spectrogram.\u001b[39;00m\n\u001b[0;32m   2023\u001b[0m \n\u001b[0;32m   2024\u001b[0m \u001b[38;5;124;03m    If a spectrogram input ``S`` is provided, then it is mapped directly onto\u001b[39;00m\n\u001b[1;32m   (...)\u001b[0m\n\u001b[0;32m   2128\u001b[0m \u001b[38;5;124;03m    >>> ax.set(title='Mel-frequency spectrogram')\u001b[39;00m\n\u001b[0;32m   2129\u001b[0m \u001b[38;5;124;03m    \"\"\"\u001b[39;00m\n\u001b[1;32m-> 2130\u001b[0m     S, n_fft \u001b[38;5;241m=\u001b[39m \u001b[43m_spectrogram\u001b[49m\u001b[43m(\u001b[49m\n\u001b[0;32m   2131\u001b[0m \u001b[43m        \u001b[49m\u001b[43my\u001b[49m\u001b[38;5;241;43m=\u001b[39;49m\u001b[43my\u001b[49m\u001b[43m,\u001b[49m\n\u001b[0;32m   2132\u001b[0m \u001b[43m        \u001b[49m\u001b[43mS\u001b[49m\u001b[38;5;241;43m=\u001b[39;49m\u001b[43mS\u001b[49m\u001b[43m,\u001b[49m\n\u001b[0;32m   2133\u001b[0m \u001b[43m        \u001b[49m\u001b[43mn_fft\u001b[49m\u001b[38;5;241;43m=\u001b[39;49m\u001b[43mn_fft\u001b[49m\u001b[43m,\u001b[49m\n\u001b[0;32m   2134\u001b[0m \u001b[43m        \u001b[49m\u001b[43mhop_length\u001b[49m\u001b[38;5;241;43m=\u001b[39;49m\u001b[43mhop_length\u001b[49m\u001b[43m,\u001b[49m\n\u001b[0;32m   2135\u001b[0m \u001b[43m        \u001b[49m\u001b[43mpower\u001b[49m\u001b[38;5;241;43m=\u001b[39;49m\u001b[43mpower\u001b[49m\u001b[43m,\u001b[49m\n\u001b[0;32m   2136\u001b[0m \u001b[43m        \u001b[49m\u001b[43mwin_length\u001b[49m\u001b[38;5;241;43m=\u001b[39;49m\u001b[43mwin_length\u001b[49m\u001b[43m,\u001b[49m\n\u001b[0;32m   2137\u001b[0m \u001b[43m        \u001b[49m\u001b[43mwindow\u001b[49m\u001b[38;5;241;43m=\u001b[39;49m\u001b[43mwindow\u001b[49m\u001b[43m,\u001b[49m\n\u001b[0;32m   2138\u001b[0m \u001b[43m        \u001b[49m\u001b[43mcenter\u001b[49m\u001b[38;5;241;43m=\u001b[39;49m\u001b[43mcenter\u001b[49m\u001b[43m,\u001b[49m\n\u001b[0;32m   2139\u001b[0m \u001b[43m        \u001b[49m\u001b[43mpad_mode\u001b[49m\u001b[38;5;241;43m=\u001b[39;49m\u001b[43mpad_mode\u001b[49m\u001b[43m,\u001b[49m\n\u001b[0;32m   2140\u001b[0m \u001b[43m    \u001b[49m\u001b[43m)\u001b[49m\n\u001b[0;32m   2142\u001b[0m     \u001b[38;5;66;03m# Build a Mel filter\u001b[39;00m\n\u001b[0;32m   2143\u001b[0m     mel_basis \u001b[38;5;241m=\u001b[39m filters\u001b[38;5;241m.\u001b[39mmel(sr\u001b[38;5;241m=\u001b[39msr, n_fft\u001b[38;5;241m=\u001b[39mn_fft, \u001b[38;5;241m*\u001b[39m\u001b[38;5;241m*\u001b[39mkwargs)\n",
      "File \u001b[1;32mc:\\Users\\gauta\\anaconda3\\envs\\keras-jax\\lib\\site-packages\\librosa\\core\\spectrum.py:2822\u001b[0m, in \u001b[0;36m_spectrogram\u001b[1;34m(y, S, n_fft, hop_length, power, win_length, window, center, pad_mode)\u001b[0m\n\u001b[0;32m   2816\u001b[0m     \u001b[38;5;28;01mif\u001b[39;00m y \u001b[38;5;129;01mis\u001b[39;00m \u001b[38;5;28;01mNone\u001b[39;00m:\n\u001b[0;32m   2817\u001b[0m         \u001b[38;5;28;01mraise\u001b[39;00m ParameterError(\n\u001b[0;32m   2818\u001b[0m             \u001b[38;5;124m\"\u001b[39m\u001b[38;5;124mInput signal must be provided to compute a spectrogram\u001b[39m\u001b[38;5;124m\"\u001b[39m\n\u001b[0;32m   2819\u001b[0m         )\n\u001b[0;32m   2820\u001b[0m     S \u001b[38;5;241m=\u001b[39m (\n\u001b[0;32m   2821\u001b[0m         np\u001b[38;5;241m.\u001b[39mabs(\n\u001b[1;32m-> 2822\u001b[0m             \u001b[43mstft\u001b[49m\u001b[43m(\u001b[49m\n\u001b[0;32m   2823\u001b[0m \u001b[43m                \u001b[49m\u001b[43my\u001b[49m\u001b[43m,\u001b[49m\n\u001b[0;32m   2824\u001b[0m \u001b[43m                \u001b[49m\u001b[43mn_fft\u001b[49m\u001b[38;5;241;43m=\u001b[39;49m\u001b[43mn_fft\u001b[49m\u001b[43m,\u001b[49m\n\u001b[0;32m   2825\u001b[0m \u001b[43m                \u001b[49m\u001b[43mhop_length\u001b[49m\u001b[38;5;241;43m=\u001b[39;49m\u001b[43mhop_length\u001b[49m\u001b[43m,\u001b[49m\n\u001b[0;32m   2826\u001b[0m \u001b[43m                \u001b[49m\u001b[43mwin_length\u001b[49m\u001b[38;5;241;43m=\u001b[39;49m\u001b[43mwin_length\u001b[49m\u001b[43m,\u001b[49m\n\u001b[0;32m   2827\u001b[0m \u001b[43m                \u001b[49m\u001b[43mcenter\u001b[49m\u001b[38;5;241;43m=\u001b[39;49m\u001b[43mcenter\u001b[49m\u001b[43m,\u001b[49m\n\u001b[0;32m   2828\u001b[0m \u001b[43m                \u001b[49m\u001b[43mwindow\u001b[49m\u001b[38;5;241;43m=\u001b[39;49m\u001b[43mwindow\u001b[49m\u001b[43m,\u001b[49m\n\u001b[0;32m   2829\u001b[0m \u001b[43m                \u001b[49m\u001b[43mpad_mode\u001b[49m\u001b[38;5;241;43m=\u001b[39;49m\u001b[43mpad_mode\u001b[49m\u001b[43m,\u001b[49m\n\u001b[0;32m   2830\u001b[0m \u001b[43m            \u001b[49m\u001b[43m)\u001b[49m\n\u001b[0;32m   2831\u001b[0m         )\n\u001b[0;32m   2832\u001b[0m         \u001b[38;5;241m*\u001b[39m\u001b[38;5;241m*\u001b[39m power\n\u001b[0;32m   2833\u001b[0m     )\n\u001b[0;32m   2835\u001b[0m \u001b[38;5;28;01mreturn\u001b[39;00m S, n_fft\n",
      "File \u001b[1;32mc:\\Users\\gauta\\anaconda3\\envs\\keras-jax\\lib\\site-packages\\librosa\\core\\spectrum.py:378\u001b[0m, in \u001b[0;36mstft\u001b[1;34m(y, n_fft, hop_length, win_length, window, center, dtype, pad_mode, out)\u001b[0m\n\u001b[0;32m    375\u001b[0m \u001b[38;5;28;01mfor\u001b[39;00m bl_s \u001b[38;5;129;01min\u001b[39;00m \u001b[38;5;28mrange\u001b[39m(\u001b[38;5;241m0\u001b[39m, y_frames\u001b[38;5;241m.\u001b[39mshape[\u001b[38;5;241m-\u001b[39m\u001b[38;5;241m1\u001b[39m], n_columns):\n\u001b[0;32m    376\u001b[0m     bl_t \u001b[38;5;241m=\u001b[39m \u001b[38;5;28mmin\u001b[39m(bl_s \u001b[38;5;241m+\u001b[39m n_columns, y_frames\u001b[38;5;241m.\u001b[39mshape[\u001b[38;5;241m-\u001b[39m\u001b[38;5;241m1\u001b[39m])\n\u001b[1;32m--> 378\u001b[0m     stft_matrix[\u001b[38;5;241m.\u001b[39m\u001b[38;5;241m.\u001b[39m\u001b[38;5;241m.\u001b[39m, bl_s \u001b[38;5;241m+\u001b[39m off_start : bl_t \u001b[38;5;241m+\u001b[39m off_start] \u001b[38;5;241m=\u001b[39m fft\u001b[38;5;241m.\u001b[39mrfft(\n\u001b[0;32m    379\u001b[0m         fft_window \u001b[38;5;241m*\u001b[39m y_frames[\u001b[38;5;241m.\u001b[39m\u001b[38;5;241m.\u001b[39m\u001b[38;5;241m.\u001b[39m, bl_s:bl_t], axis\u001b[38;5;241m=\u001b[39m\u001b[38;5;241m-\u001b[39m\u001b[38;5;241m2\u001b[39m\n\u001b[0;32m    380\u001b[0m     )\n\u001b[0;32m    381\u001b[0m \u001b[38;5;28;01mreturn\u001b[39;00m stft_matrix\n",
      "\u001b[1;31mKeyboardInterrupt\u001b[0m: "
     ]
    }
   ],
   "source": [
    "for i in tqdm(range(1,33)):\n",
    "    if i==14:\n",
    "        continue\n",
    "    trials = load_subject(i)\n",
    "    for j,trial in enumerate(trials):\n",
    "        EEG = np.array(trial['trial'])[:,:64,20*256:53*256]\n",
    "        #EEG = filter_data(EEG,256,None,16,verbose=False,n_jobs='cuda')\n",
    "        EEG = resample(EEG,128,256)\n",
    "        #EEG = filter_data(EEG,64,0.5,None,verbose=False,n_jobs='cuda')\n",
    "        attended = cvt2env(cvt2dirs(trial['targetfiles']))\n",
    "        masker = cvt2env(cvt2dirs(trial['maskerfiles']))\n",
    "        for k,(eeg,att,mas) in enumerate(zip(EEG,attended,masker)):\n",
    "            eeg = zscore(eeg)\n",
    "            np.savez(\"Try2/\"+mode[j]+\"subject_\" + str(i) + \"_trial_\"+ str(k),EEG=eeg,attended=np.squeeze(att),masker=np.squeeze(mas))"
   ]
  },
  {
   "cell_type": "code",
   "execution_count": 9,
   "metadata": {},
   "outputs": [],
   "source": [
    "import matplotlib.pyplot as plt"
   ]
  },
  {
   "cell_type": "code",
   "execution_count": 12,
   "metadata": {},
   "outputs": [
    {
     "ename": "NameError",
     "evalue": "name 'spec' is not defined",
     "output_type": "error",
     "traceback": [
      "\u001b[1;31m---------------------------------------------------------------------------\u001b[0m",
      "\u001b[1;31mNameError\u001b[0m                                 Traceback (most recent call last)",
      "Cell \u001b[1;32mIn[12], line 1\u001b[0m\n\u001b[1;32m----> 1\u001b[0m \u001b[43mspec\u001b[49m\u001b[38;5;241m.\u001b[39mshape\n",
      "\u001b[1;31mNameError\u001b[0m: name 'spec' is not defined"
     ]
    }
   ],
   "source": [
    "spec.shape"
   ]
  },
  {
   "cell_type": "code",
   "execution_count": 14,
   "metadata": {},
   "outputs": [
    {
     "data": {
      "text/plain": [
       "[<matplotlib.lines.Line2D at 0x1dced5d9630>,\n",
       " <matplotlib.lines.Line2D at 0x1dced5d9660>,\n",
       " <matplotlib.lines.Line2D at 0x1dced5d9750>,\n",
       " <matplotlib.lines.Line2D at 0x1dced5d9840>,\n",
       " <matplotlib.lines.Line2D at 0x1dced5d9930>,\n",
       " <matplotlib.lines.Line2D at 0x1dced5d9a20>,\n",
       " <matplotlib.lines.Line2D at 0x1dced5d9b10>,\n",
       " <matplotlib.lines.Line2D at 0x1dced5d9c00>,\n",
       " <matplotlib.lines.Line2D at 0x1dced5d9cf0>,\n",
       " <matplotlib.lines.Line2D at 0x1dced5d9de0>,\n",
       " <matplotlib.lines.Line2D at 0x1dced5d9ed0>,\n",
       " <matplotlib.lines.Line2D at 0x1dced5d9fc0>,\n",
       " <matplotlib.lines.Line2D at 0x1dced5da0b0>,\n",
       " <matplotlib.lines.Line2D at 0x1dced5da1a0>,\n",
       " <matplotlib.lines.Line2D at 0x1dced5da290>,\n",
       " <matplotlib.lines.Line2D at 0x1dced5da380>,\n",
       " <matplotlib.lines.Line2D at 0x1dced5da470>,\n",
       " <matplotlib.lines.Line2D at 0x1dced5da560>,\n",
       " <matplotlib.lines.Line2D at 0x1dced5da650>,\n",
       " <matplotlib.lines.Line2D at 0x1dced5da740>,\n",
       " <matplotlib.lines.Line2D at 0x1dced5da830>,\n",
       " <matplotlib.lines.Line2D at 0x1dced5da920>,\n",
       " <matplotlib.lines.Line2D at 0x1dced5daa10>,\n",
       " <matplotlib.lines.Line2D at 0x1dced5dab00>,\n",
       " <matplotlib.lines.Line2D at 0x1dced5dabf0>,\n",
       " <matplotlib.lines.Line2D at 0x1dced5dace0>,\n",
       " <matplotlib.lines.Line2D at 0x1dced5dadd0>,\n",
       " <matplotlib.lines.Line2D at 0x1dced5daec0>,\n",
       " <matplotlib.lines.Line2D at 0x1dced5dafb0>,\n",
       " <matplotlib.lines.Line2D at 0x1dced5db0a0>,\n",
       " <matplotlib.lines.Line2D at 0x1dced5db190>,\n",
       " <matplotlib.lines.Line2D at 0x1dced5db280>,\n",
       " <matplotlib.lines.Line2D at 0x1dced5db370>,\n",
       " <matplotlib.lines.Line2D at 0x1dced5db460>,\n",
       " <matplotlib.lines.Line2D at 0x1dced5db550>,\n",
       " <matplotlib.lines.Line2D at 0x1dced5db640>,\n",
       " <matplotlib.lines.Line2D at 0x1dced5db730>,\n",
       " <matplotlib.lines.Line2D at 0x1dced5db820>,\n",
       " <matplotlib.lines.Line2D at 0x1dced5db910>,\n",
       " <matplotlib.lines.Line2D at 0x1dced5dba00>,\n",
       " <matplotlib.lines.Line2D at 0x1dced5dbaf0>,\n",
       " <matplotlib.lines.Line2D at 0x1dced5dbbe0>,\n",
       " <matplotlib.lines.Line2D at 0x1dced5dbcd0>,\n",
       " <matplotlib.lines.Line2D at 0x1dced5dbdc0>,\n",
       " <matplotlib.lines.Line2D at 0x1dced5dbeb0>,\n",
       " <matplotlib.lines.Line2D at 0x1dced5dbfa0>,\n",
       " <matplotlib.lines.Line2D at 0x1dced6080d0>,\n",
       " <matplotlib.lines.Line2D at 0x1dced6081c0>,\n",
       " <matplotlib.lines.Line2D at 0x1dced6082b0>,\n",
       " <matplotlib.lines.Line2D at 0x1dced6083a0>,\n",
       " <matplotlib.lines.Line2D at 0x1dced608490>,\n",
       " <matplotlib.lines.Line2D at 0x1dced608580>,\n",
       " <matplotlib.lines.Line2D at 0x1dced608670>,\n",
       " <matplotlib.lines.Line2D at 0x1dced608760>,\n",
       " <matplotlib.lines.Line2D at 0x1dced608850>,\n",
       " <matplotlib.lines.Line2D at 0x1dced608940>,\n",
       " <matplotlib.lines.Line2D at 0x1dced608a30>,\n",
       " <matplotlib.lines.Line2D at 0x1dced608b20>,\n",
       " <matplotlib.lines.Line2D at 0x1dced608c10>,\n",
       " <matplotlib.lines.Line2D at 0x1dced608d00>,\n",
       " <matplotlib.lines.Line2D at 0x1dced309c90>,\n",
       " <matplotlib.lines.Line2D at 0x1dced309cc0>,\n",
       " <matplotlib.lines.Line2D at 0x1dced307d30>,\n",
       " <matplotlib.lines.Line2D at 0x1dced306c50>,\n",
       " <matplotlib.lines.Line2D at 0x1dced306d40>]"
      ]
     },
     "execution_count": 14,
     "metadata": {},
     "output_type": "execute_result"
    },
    {
     "data": {
      "image/png": "[encoded data removed]",
      "text/plain": [
       "<Figure size 640x480 with 1 Axes>"
      ]
     },
     "metadata": {},
     "output_type": "display_data"
    }
   ],
   "source": [
    "plt.plot(r['attended'].T)"
   ]
  },
  {
   "cell_type": "code",
   "execution_count": 12,
   "metadata": {},
   "outputs": [],
   "source": [
    "r = np.load(r\"C:\\Users\\gauta\\Thesis\\PyTorch\\Try\\offossubject_1_trial_1.npz\")"
   ]
  },
  {
   "cell_type": "code",
   "execution_count": 13,
   "metadata": {},
   "outputs": [
    {
     "data": {
      "text/plain": [
       "(65, 2112)"
      ]
     },
     "execution_count": 13,
     "metadata": {},
     "output_type": "execute_result"
    }
   ],
   "source": [
    "r['attended'].shape"
   ]
  },
  {
   "cell_type": "code",
   "execution_count": null,
   "metadata": {},
   "outputs": [],
   "source": []
  },
  {
   "cell_type": "code",
   "execution_count": null,
   "metadata": {},
   "outputs": [],
   "source": []
  },
  {
   "cell_type": "code",
   "execution_count": 2,
   "metadata": {},
   "outputs": [],
   "source": [
    "def findfiles(search_dir, prefix):\n",
    "    matching_files = []\n",
    "\n",
    "    for dirpath, _, filenames in os.walk(search_dir):\n",
    "        for filename in filenames:\n",
    "            if filename.startswith(prefix):\n",
    "                full_path = os.path.join(dirpath, filename)\n",
    "                matching_files.append(full_path)\n",
    "\n",
    "    return matching_files"
   ]
  },
  {
   "cell_type": "code",
   "execution_count": 34,
   "metadata": {},
   "outputs": [
    {
     "data": {
      "text/plain": [
       "(20, 4224)"
      ]
     },
     "execution_count": 34,
     "metadata": {},
     "output_type": "execute_result"
    }
   ],
   "source": [
    "masker.shape"
   ]
  },
  {
   "cell_type": "code",
   "execution_count": 3,
   "metadata": {},
   "outputs": [],
   "source": [
    "k = findfiles(\"EriksholmFiles/\",\"on\")"
   ]
  },
  {
   "cell_type": "code",
   "execution_count": 4,
   "metadata": {},
   "outputs": [],
   "source": [
    "from eriksdataset import EEG_Dataset"
   ]
  },
  {
   "cell_type": "code",
   "execution_count": 5,
   "metadata": {},
   "outputs": [],
   "source": [
    "data = EEG_Dataset(files=k,seconds=3,overlap=0.5)"
   ]
  },
  {
   "cell_type": "code",
   "execution_count": 6,
   "metadata": {},
   "outputs": [],
   "source": [
    "p = data.__getitem__(3)"
   ]
  }
 ],
 "metadata": {
  "kernelspec": {
   "display_name": "keras-jax",
   "language": "python",
   "name": "python3"
  },
  "language_info": {
   "codemirror_mode": {
    "name": "ipython",
    "version": 3
   },
   "file_extension": ".py",
   "mimetype": "text/x-python",
   "name": "python",
   "nbconvert_exporter": "python",
   "pygments_lexer": "ipython3",
   "version": "3.10.13"
  }
 },
 "nbformat": 4,
 "nbformat_minor": 2
}

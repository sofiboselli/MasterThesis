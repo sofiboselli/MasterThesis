{
 "cells": [
  {
   "cell_type": "code",
   "execution_count": 1,
   "metadata": {},
   "outputs": [],
   "source": [
    "import numpy as np\n",
    "from pymatreader import read_mat\n",
    "import os\n",
    "from torch.utils.data import Dataset\n",
    "import torch\n",
    "import librosa\n",
    "import scipy\n",
    "import matplotlib.pyplot as plt\n",
    "from tqdm import tqdm"
   ]
  },
  {
   "cell_type": "code",
   "execution_count": 3,
   "metadata": {},
   "outputs": [],
   "source": [
    "def load_subject(i):\n",
    "\n",
    "    dir = \"C:/Users/gauta/Thesis/ExJobb/ID\" + str(1000+i) +\"/PreprocIV_ID\" +str(1000+i)+ \"_mast.mat\"\n",
    "    temp_data = read_mat(dir)\n",
    "    temp_data = temp_data['ICAcleaned_data_allsess']\n",
    "    data = np.vstack([np.array(temp_data['ICAcleaned_data_allsess'][i]['trial'])[:,0:64,256*20:256*53] for i in range(len(temp_data['ICAcleaned_data_allsess']))])\n",
    "    attended = [\"C:/Users/gauta/Thesis/ExJobb/Files_Audio/\" + temp_data['ICAcleaned_data_allsess'][k]['targetfiles'][i].split('\\\\')[-1] for k in range(len(temp_data['ICAcleaned_data_allsess'])) for i in range(20)]\n",
    "    masker = [\"C:/Users/gauta/Thesis/ExJobb/Files_Audio/\" + temp_data['ICAcleaned_data_allsess'][k]['maskerfiles'][i].split('\\\\')[-1] for k in range(len(temp_data['ICAcleaned_data_allsess'])) for i in range(20)]\n",
    "    \n",
    "\n",
    "    return (data,attended,masker)"
   ]
  },
  {
   "cell_type": "code",
   "execution_count": 4,
   "metadata": {},
   "outputs": [],
   "source": [
    "def load_subject(i):\n",
    "\n",
    "    dir = \"C:/Users/gauta/Thesis/ExJobb/ID\" + str(1000+i) +\"/PreprocIV_ID\" +str(1000+i)+ \"_mast.mat\"\n",
    "    temp_data = read_mat(dir)\n",
    "    temp_data = temp_data['ICAcleaned_data_allsess']\n",
    "\n",
    "    return temp_data"
   ]
  },
  {
   "cell_type": "code",
   "execution_count": 5,
   "metadata": {},
   "outputs": [],
   "source": [
    "def cvt2env(dirs):\n",
    "    out = []\n",
    "    for dir in dirs:\n",
    "        wav,sr = librosa.load(dir)\n",
    "        env = np.abs(scipy.signal.hilbert(wav))\n",
    "        env = scipy.signal.resample_poly(env,1024,sr)\n",
    "        env = scipy.signal.decimate(env,8)\n",
    "        env = scipy.signal.decimate(env,2)\n",
    "\n",
    "        out.append(env)\n",
    "    return np.array(out)\n"
   ]
  },
  {
   "cell_type": "code",
   "execution_count": 53,
   "metadata": {},
   "outputs": [],
   "source": [
    "data = load_subject(2)"
   ]
  },
  {
   "cell_type": "code",
   "execution_count": 6,
   "metadata": {},
   "outputs": [],
   "source": [
    "def cvt2dirs(dirs):\n",
    "    dirs =  list(map(lambda x: x.split('\\\\')[-1],dirs))\n",
    "    out = [a+b for a,b in zip([\"C:/Users/gauta/Thesis/ExJobb/Files_Audio/\"]*20,dirs)]\n",
    "    return out"
   ]
  },
  {
   "cell_type": "code",
   "execution_count": 13,
   "metadata": {},
   "outputs": [],
   "source": [
    "mode = [\"offos\",\"onos\",\"offpol\",\"onpol\"]"
   ]
  },
  {
   "cell_type": "code",
   "execution_count": 19,
   "metadata": {},
   "outputs": [
    {
     "name": "stderr",
     "output_type": "stream",
     "text": [
      "100%|██████████| 32/32 [11:17<00:00, 21.18s/it]\n"
     ]
    }
   ],
   "source": [
    "for i in tqdm(range(1,33)):\n",
    "    if i==14:\n",
    "        continue\n",
    "    trials = load_subject(i)\n",
    "    for j,trial in enumerate(trials):\n",
    "        EEG = scipy.signal.decimate(trial['trial'],4)\n",
    "        attended = cvt2env(cvt2dirs(trial['targetfiles']))\n",
    "        masker = cvt2env(cvt2dirs(trial['maskerfiles']))\n",
    "        for k,(eeg,att,mas) in enumerate(zip(EEG,attended,masker)):\n",
    "            np.savez(\"EriksholmFiles/\"+mode[j]+\"subject_\" + str(i) + \"_trial_\"+ str(k + j*20),EEG=eeg,attended=att,masker=mas)"
   ]
  },
  {
   "cell_type": "code",
   "execution_count": 2,
   "metadata": {},
   "outputs": [],
   "source": [
    "def findfiles(search_dir, prefix):\n",
    "    matching_files = []\n",
    "\n",
    "    for dirpath, _, filenames in os.walk(search_dir):\n",
    "        for filename in filenames:\n",
    "            if filename.startswith(prefix):\n",
    "                full_path = os.path.join(dirpath, filename)\n",
    "                matching_files.append(full_path)\n",
    "\n",
    "    return matching_files"
   ]
  },
  {
   "cell_type": "code",
   "execution_count": 3,
   "metadata": {},
   "outputs": [],
   "source": [
    "k = findfiles(\"EriksholmFiles/\",\"off\")"
   ]
  },
  {
   "cell_type": "code",
   "execution_count": 4,
   "metadata": {},
   "outputs": [],
   "source": [
    "from eriksdataset import EEG_Dataset"
   ]
  },
  {
   "cell_type": "code",
   "execution_count": 5,
   "metadata": {},
   "outputs": [],
   "source": [
    "data = EEG_Dataset(files=k,seconds=3,overlap=0.5)"
   ]
  },
  {
   "cell_type": "code",
   "execution_count": 6,
   "metadata": {},
   "outputs": [
    {
     "name": "stdout",
     "output_type": "stream",
     "text": [
      "(20, 2112)\n",
      "(43, 64, 192)\n"
     ]
    },
    {
     "ename": "ValueError",
     "evalue": "negative dimensions are not allowed",
     "output_type": "error",
     "traceback": [
      "\u001b[1;31m---------------------------------------------------------------------------\u001b[0m",
      "\u001b[1;31mValueError\u001b[0m                                Traceback (most recent call last)",
      "Cell \u001b[1;32mIn[6], line 1\u001b[0m\n\u001b[1;32m----> 1\u001b[0m p \u001b[38;5;241m=\u001b[39m \u001b[43mdata\u001b[49m\u001b[38;5;241;43m.\u001b[39;49m\u001b[38;5;21;43m__getitem__\u001b[39;49m\u001b[43m(\u001b[49m\u001b[38;5;241;43m3\u001b[39;49m\u001b[43m)\u001b[49m\n",
      "File \u001b[1;32mc:\\Users\\gauta\\Thesis\\PyTorch\\eriksdataset.py:56\u001b[0m, in \u001b[0;36mEEG_Dataset.__getitem__\u001b[1;34m(self, index)\u001b[0m\n\u001b[0;32m     53\u001b[0m \u001b[38;5;28mprint\u001b[39m(window_data(\u001b[38;5;28mself\u001b[39m\u001b[38;5;241m.\u001b[39meeg,\u001b[38;5;28mint\u001b[39m(\u001b[38;5;28mself\u001b[39m\u001b[38;5;241m.\u001b[39mseconds\u001b[38;5;241m*\u001b[39m\u001b[38;5;28mself\u001b[39m\u001b[38;5;241m.\u001b[39mfs),\u001b[38;5;28mint\u001b[39m(\u001b[38;5;28mself\u001b[39m\u001b[38;5;241m.\u001b[39mseconds\u001b[38;5;241m*\u001b[39m\u001b[38;5;28mself\u001b[39m\u001b[38;5;241m.\u001b[39mfs\u001b[38;5;241m*\u001b[39m\u001b[38;5;28mself\u001b[39m\u001b[38;5;241m.\u001b[39moverlap))\u001b[38;5;241m.\u001b[39mshape)\n\u001b[0;32m     55\u001b[0m win_eeg \u001b[38;5;241m=\u001b[39m torch\u001b[38;5;241m.\u001b[39mfrom_numpy(np\u001b[38;5;241m.\u001b[39mreshape(window_data(\u001b[38;5;28mself\u001b[39m\u001b[38;5;241m.\u001b[39meeg,\u001b[38;5;28mint\u001b[39m(\u001b[38;5;28mself\u001b[39m\u001b[38;5;241m.\u001b[39mseconds\u001b[38;5;241m*\u001b[39m\u001b[38;5;28mself\u001b[39m\u001b[38;5;241m.\u001b[39mfs),\u001b[38;5;28mint\u001b[39m(\u001b[38;5;28mself\u001b[39m\u001b[38;5;241m.\u001b[39mseconds\u001b[38;5;241m*\u001b[39m\u001b[38;5;28mself\u001b[39m\u001b[38;5;241m.\u001b[39mfs\u001b[38;5;241m*\u001b[39m\u001b[38;5;28mself\u001b[39m\u001b[38;5;241m.\u001b[39moverlap)),(\u001b[38;5;241m43\u001b[39m,\u001b[38;5;241m64\u001b[39m,\u001b[38;5;241m192\u001b[39m))[ind])\u001b[38;5;241m.\u001b[39mfloat()\n\u001b[1;32m---> 56\u001b[0m win_att \u001b[38;5;241m=\u001b[39m torch\u001b[38;5;241m.\u001b[39mfrom_numpy(np\u001b[38;5;241m.\u001b[39mreshape(\u001b[43mwindow_data\u001b[49m\u001b[43m(\u001b[49m\u001b[38;5;28;43mself\u001b[39;49m\u001b[38;5;241;43m.\u001b[39;49m\u001b[43matt\u001b[49m\u001b[43m,\u001b[49m\u001b[38;5;28;43mint\u001b[39;49m\u001b[43m(\u001b[49m\u001b[38;5;28;43mself\u001b[39;49m\u001b[38;5;241;43m.\u001b[39;49m\u001b[43mseconds\u001b[49m\u001b[38;5;241;43m*\u001b[39;49m\u001b[38;5;28;43mself\u001b[39;49m\u001b[38;5;241;43m.\u001b[39;49m\u001b[43mfs\u001b[49m\u001b[43m)\u001b[49m\u001b[43m,\u001b[49m\u001b[38;5;28;43mint\u001b[39;49m\u001b[43m(\u001b[49m\u001b[38;5;28;43mself\u001b[39;49m\u001b[38;5;241;43m.\u001b[39;49m\u001b[43mseconds\u001b[49m\u001b[38;5;241;43m*\u001b[39;49m\u001b[38;5;28;43mself\u001b[39;49m\u001b[38;5;241;43m.\u001b[39;49m\u001b[43mfs\u001b[49m\u001b[38;5;241;43m*\u001b[39;49m\u001b[38;5;28;43mself\u001b[39;49m\u001b[38;5;241;43m.\u001b[39;49m\u001b[43moverlap\u001b[49m\u001b[43m)\u001b[49m\u001b[43m)\u001b[49m,(\u001b[38;5;241m43\u001b[39m,\u001b[38;5;241m192\u001b[39m))[ind])\u001b[38;5;241m.\u001b[39mfloat()\n\u001b[0;32m     57\u001b[0m win_mas \u001b[38;5;241m=\u001b[39m torch\u001b[38;5;241m.\u001b[39mfrom_numpy(np\u001b[38;5;241m.\u001b[39mreshape(window_data(\u001b[38;5;28mself\u001b[39m\u001b[38;5;241m.\u001b[39mmas,\u001b[38;5;28mint\u001b[39m(\u001b[38;5;28mself\u001b[39m\u001b[38;5;241m.\u001b[39mseconds\u001b[38;5;241m*\u001b[39m\u001b[38;5;28mself\u001b[39m\u001b[38;5;241m.\u001b[39mfs),\u001b[38;5;28mint\u001b[39m(\u001b[38;5;28mself\u001b[39m\u001b[38;5;241m.\u001b[39mseconds\u001b[38;5;241m*\u001b[39m\u001b[38;5;28mself\u001b[39m\u001b[38;5;241m.\u001b[39mfs\u001b[38;5;241m*\u001b[39m\u001b[38;5;28mself\u001b[39m\u001b[38;5;241m.\u001b[39moverlap)),(\u001b[38;5;241m43\u001b[39m,\u001b[38;5;241m192\u001b[39m))[ind])\u001b[38;5;241m.\u001b[39mfloat()\n\u001b[0;32m     61\u001b[0m \u001b[38;5;28;01mreturn\u001b[39;00m win_eeg,win_att,win_mas\n",
      "File \u001b[1;32mc:\\Users\\gauta\\Thesis\\PyTorch\\eriksdataset.py:18\u001b[0m, in \u001b[0;36mwindow_data\u001b[1;34m(data, window_length, hop)\u001b[0m\n\u001b[0;32m     17\u001b[0m \u001b[38;5;28;01mdef\u001b[39;00m \u001b[38;5;21mwindow_data\u001b[39m(data, window_length, hop):\n\u001b[1;32m---> 18\u001b[0m     new_data \u001b[38;5;241m=\u001b[39m \u001b[43mnp\u001b[49m\u001b[38;5;241;43m.\u001b[39;49m\u001b[43mempty\u001b[49m\u001b[43m(\u001b[49m\u001b[43m(\u001b[49m\u001b[43m(\u001b[49m\u001b[43mdata\u001b[49m\u001b[38;5;241;43m.\u001b[39;49m\u001b[43mshape\u001b[49m\u001b[43m[\u001b[49m\u001b[38;5;241;43m1\u001b[39;49m\u001b[43m]\u001b[49m\u001b[43m \u001b[49m\u001b[38;5;241;43m-\u001b[39;49m\u001b[43m \u001b[49m\u001b[43mwindow_length\u001b[49m\u001b[43m)\u001b[49m\u001b[43m \u001b[49m\u001b[38;5;241;43m/\u001b[39;49m\u001b[38;5;241;43m/\u001b[39;49m\u001b[43m \u001b[49m\u001b[43mhop\u001b[49m\u001b[43m,\u001b[49m\u001b[43mdata\u001b[49m\u001b[38;5;241;43m.\u001b[39;49m\u001b[43mshape\u001b[49m\u001b[43m[\u001b[49m\u001b[38;5;241;43m0\u001b[39;49m\u001b[43m]\u001b[49m\u001b[43m,\u001b[49m\u001b[43m \u001b[49m\u001b[43mwindow_length\u001b[49m\u001b[43m)\u001b[49m\u001b[43m)\u001b[49m\n\u001b[0;32m     19\u001b[0m     \u001b[38;5;66;03m#print(new_data.shape)\u001b[39;00m\n\u001b[0;32m     20\u001b[0m     \u001b[38;5;28;01mfor\u001b[39;00m i \u001b[38;5;129;01min\u001b[39;00m \u001b[38;5;28mrange\u001b[39m(new_data\u001b[38;5;241m.\u001b[39mshape[\u001b[38;5;241m0\u001b[39m]):\n",
      "\u001b[1;31mValueError\u001b[0m: negative dimensions are not allowed"
     ]
    }
   ],
   "source": [
    "p = data.__getitem__(3)"
   ]
  },
  {
   "cell_type": "code",
   "execution_count": 10,
   "metadata": {},
   "outputs": [
    {
     "data": {
      "text/plain": [
       "43.0"
      ]
     },
     "execution_count": 10,
     "metadata": {},
     "output_type": "execute_result"
    }
   ],
   "source": [
    "544896/(66*64*3)"
   ]
  },
  {
   "cell_type": "code",
   "execution_count": 30,
   "metadata": {},
   "outputs": [
    {
     "data": {
      "text/plain": [
       "192"
      ]
     },
     "execution_count": 30,
     "metadata": {},
     "output_type": "execute_result"
    }
   ],
   "source": [
    "3*64"
   ]
  },
  {
   "cell_type": "code",
   "execution_count": null,
   "metadata": {},
   "outputs": [],
   "source": []
  }
 ],
 "metadata": {
  "kernelspec": {
   "display_name": "keras-jax",
   "language": "python",
   "name": "python3"
  },
  "language_info": {
   "codemirror_mode": {
    "name": "ipython",
    "version": 3
   },
   "file_extension": ".py",
   "mimetype": "text/x-python",
   "name": "python",
   "nbconvert_exporter": "python",
   "pygments_lexer": "ipython3",
   "version": "3.10.13"
  }
 },
 "nbformat": 4,
 "nbformat_minor": 2
}

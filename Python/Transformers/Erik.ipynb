{
 "cells": [
  {
   "cell_type": "code",
   "execution_count": 1,
   "metadata": {},
   "outputs": [],
   "source": [
    "import torch\n",
    "import pytorch_lightning as pl\n",
    "from dataset import DTU_Dataset\n",
    "from network import model,model2\n",
    "from audtorch.metrics import ConcordanceCC,PearsonR\n",
    "from eriksdataset import EEG_Dataset\n",
    "from torchmetrics.wrappers import Running\n",
    "from torchmetrics.aggregation import MeanMetric\n",
    "from torch.utils.data import DataLoader,TensorDataset\n",
    "from pytorch_lightning.callbacks import EarlyStopping,ModelCheckpoint,ModelSummary\n",
    "import os\n",
    "from diffnet import EEG_Conformer\n",
    "from sklearn.model_selection import train_test_split\n",
    "import numpy as np\n",
    "from cdata import C_Dataset\n",
    "from torch import nn\n",
    "torch.set_float32_matmul_precision('medium')\n"
   ]
  },
  {
   "cell_type": "code",
   "execution_count": 2,
   "metadata": {},
   "outputs": [],
   "source": [
    "def findfiles(search_dir, subjectstring):\n",
    "    matching_files = []\n",
    "\n",
    "    for dirpath, _, filenames in os.walk(search_dir):\n",
    "        for filename in filenames:\n",
    "            if subjectstring in filename:\n",
    "                full_path = os.path.join(dirpath, filename)\n",
    "                matching_files.append(full_path)\n",
    "\n",
    "    return matching_files"
   ]
  },
  {
   "cell_type": "code",
   "execution_count": 3,
   "metadata": {},
   "outputs": [],
   "source": [
    "class Pearsonr(torch.nn.Module):\n",
    "    def __init__(self):\n",
    "        super().__init__()\n",
    "    \n",
    "    def forward(self,P,O):\n",
    "\n",
    "        (n, t) = O.shape      # n traces of t samples\n",
    "        (n_bis, m) = P.shape  # n predictions for each of m candidates\n",
    "\n",
    "        DO = O - (torch.einsum(\"nt->t\", O) / n) # compute O - mean(O)\n",
    "        DP = P - (torch.einsum(\"nm->m\", P) / n) # compute P - mean(P)\n",
    "\n",
    "        cov = torch.einsum(\"nm,nt->mt\", DP, DO)\n",
    "\n",
    "        varP = torch.einsum(\"nm,nm->m\", DP, DP)\n",
    "        varO = torch.einsum(\"nt,nt->t\", DO, DO)\n",
    "        tmp = torch.einsum(\"m,t->mt\", varP, varO)\n",
    "\n",
    "        return cov / torch.sqrt(tmp)"
   ]
  },
  {
   "cell_type": "code",
   "execution_count": 4,
   "metadata": {},
   "outputs": [],
   "source": [
    "class CLoss(torch.nn.Module):\n",
    "    def __init__(self,scale,temp):\n",
    "        super().__init__()\n",
    "        self.scale = scale\n",
    "        self.temp = temp\n",
    "    \n",
    "    def forward(self,eemb,aamb):\n",
    "        \n",
    "\n",
    "        if self.scale:\n",
    "            eemb =(eemb - eemb.mean(dim=(1,2),keepdim=True))/eemb.std(dim=(1,2),keepdim=True)\n",
    "            aamb =(aamb - aamb.mean(dim=(1,2),keepdim=True))/aamb.std(dim=(1,2),keepdim=True)\n",
    "\n",
    "\n",
    "        norm = 1/(1e-8 + eemb.norm(dim=(1,2)))\n",
    "        #norm2 = 1/(1e-8 + aamb.norm(dim=(1,2)))\n",
    "\n",
    "        labels = torch.arange(len(eemb),device=aamb.device)\n",
    "\n",
    "        logits = torch.einsum('btc,rtc,b->br',eemb,aamb,norm)*torch.exp(self.temp)\n",
    "\n",
    "        return torch.nn.functional.cross_entropy(logits,labels)"
   ]
  },
  {
   "cell_type": "code",
   "execution_count": 5,
   "metadata": {},
   "outputs": [],
   "source": [
    "def pearson_corr(y_true, y_pred):\n",
    "    mean_true = y_true.mean(dim=1, keepdim=True)\n",
    "    mean_pred = y_pred.mean(dim=1, keepdim=True)\n",
    "    numerator = ((y_true - mean_true) * (y_pred - mean_pred)).sum(dim=1, keepdim=True)\n",
    "    std_true = ((y_true - mean_true) ** 2).sum(dim=1, keepdim=True).sqrt()\n",
    "    std_pred = ((y_pred - mean_pred) ** 2).sum(dim=1, keepdim=True).sqrt()\n",
    "    denominator = std_true * std_pred\n",
    "    return (numerator / (denominator + 1e-10))\n",
    "\n",
    "def pearson_loss(y_true, y_pred):\n",
    "    return -pearson_corr(y_true, y_pred)"
   ]
  },
  {
   "cell_type": "code",
   "execution_count": 6,
   "metadata": {},
   "outputs": [],
   "source": [
    "class ConvBlock(nn.Module):\n",
    "\n",
    "    def __init__(self,inp=81,dropout=0.3,kernel_size=31):\n",
    "\n",
    "        super().__init__()\n",
    "\n",
    "        self.conv =  nn.Sequential(\n",
    "            nn.Conv1d(inp,inp*2,kernel_size=1),\n",
    "            nn.GLU(dim=1),\n",
    "            nn.Conv1d(inp,inp,kernel_size=kernel_size,padding=\"same\",groups=inp),\n",
    "            nn.BatchNorm1d(inp),\n",
    "            nn.SiLU(),\n",
    "            nn.Conv1d(inp,inp,kernel_size=1),\n",
    "            nn.Dropout(dropout),\n",
    "            nn.BatchNorm1d(inp),\n",
    "            nn.SiLU()\n",
    "        )\n",
    "\n",
    "\n",
    "    def forward(self,x):\n",
    "        x = self.conv(x)\n",
    "        return x"
   ]
  },
  {
   "cell_type": "code",
   "execution_count": 7,
   "metadata": {},
   "outputs": [],
   "source": [
    "class EnvConv(nn.Module):\n",
    "\n",
    "    def __init__(self,inp=81,dropout=0.3,kernel_size=15,nl=4):\n",
    "        super().__init__()\n",
    "        self.inp = inp\n",
    "        self.dropout=dropout\n",
    "        self.kernel_size=kernel_size\n",
    "        self.nl = nl\n",
    "\n",
    "        self.clayers = nn.ModuleList([ConvBlock(self.inp,self.dropout,self.kernel_size) for _ in range(self.nl) ])\n",
    "        self.conv1 = nn.Conv1d(81,64,kernel_size=5,stride=3)\n",
    "        self.act = nn.Tanh()\n",
    "        self.conv2 = nn.Conv1d(64,32,kernel_size=15,stride=2)\n",
    "\n",
    "    def forward(self,x):\n",
    "\n",
    "        for cl in self.clayers:\n",
    "            x = x + cl(x)\n",
    "        \n",
    "        x = self.act(self.conv1(x))\n",
    "        x = self.conv2(x)\n",
    "        \n",
    "        return x"
   ]
  },
  {
   "cell_type": "code",
   "execution_count": 16,
   "metadata": {},
   "outputs": [],
   "source": [
    "class Encode(pl.LightningModule):\n",
    "    def __init__(self):\n",
    "        super().__init__()\n",
    "        #self.encoder = model(nblock=2,lin_out=8,kernel_size=3,transformer_hidden=32,n_layers=2,n_heads=2,dff=16,filter_size=16,nconvs=2,times=256)\n",
    "        #self.encoder = model2(transformer_hidden=32,n_heads=4,dff=128)\n",
    "        self.encoder = EEG_Conformer(nblock=3,nheads=2,dropout=0.5,kernel_size=15)\n",
    "        self.envc = EnvConv(dropout=0.4,nl=2,kernel_size=15)\n",
    "        #self.encoder = VLAAI()\n",
    "        self.temp = torch.nn.Parameter(torch.log(torch.ones(1)*0.1))\n",
    "        self.loss_fn = CLoss(scale=True,temp= self.temp)\n",
    "        self.running_loss1 = Running(MeanMetric(), window=32)\n",
    "        self.running_loss22 = Running(MeanMetric(),window=32)\n",
    "        self.tracc = Running(MeanMetric(),window=32)\n",
    "        self.valacc = Running(MeanMetric(),window=32)\n",
    "\n",
    "        self.los = PearsonR()\n",
    "        self.accfn = PearsonR(reduction=None)\n",
    "        self.lr = 3e-4\n",
    "    \n",
    "\n",
    "    def forward(self, eeg):\n",
    "        # in lightning, forward defines the prediction/inference actions\n",
    "        envelope = self.encoder(eeg)\n",
    "        return envelope\n",
    "\n",
    "    def training_step(self, batch, batch_idx):\n",
    "        # training_step defines the train loop. It is independent of forward\n",
    "        eeg,att,mas = batch\n",
    "\n",
    "        #eeg = eeg.unsqueeze(1)\n",
    "\n",
    "        eeg_emb = self(eeg)\n",
    "        enva = self.envc(att)\n",
    "        envm = self.envc(mas)\n",
    "\n",
    "        #comb = torch.vstack([enva,envm])\n",
    "\n",
    "\n",
    "\n",
    "\n",
    "        #loss1 = self.loss_fn(eeg_emb,att)\n",
    "        loss2 = -self.los(eeg_emb,enva) + self.loss_fn(eeg_emb,enva)\n",
    "        #loss1 = self.loss_fn(eeg_emb,att)\n",
    "        #loss = loss1+loss2\n",
    "\n",
    "\n",
    "        #self.running_loss(loss1)\n",
    "        self.running_loss1(loss2)\n",
    "        #self.log('train_loss', self.running_loss.compute(), on_step=True, prog_bar=True)\n",
    "        self.log('train_pearson_loss', self.running_loss1.compute(), on_step=True, prog_bar=True)\n",
    "        #self.log('train_accuracy',)\n",
    "\n",
    "        m1 = torch.mean(self.accfn(eeg_emb,enva),dim=1,keepdim=True)\n",
    "        m2 = torch.mean(self.accfn(eeg_emb,envm),dim=1,keepdim=True)\n",
    "\n",
    "\n",
    "\n",
    "\n",
    "        acc = torch.sum(m1>m2)/m1.shape[0]\n",
    "        self.tracc(acc)\n",
    "        self.log(\"train_accuracy\",self.tracc.compute(),prog_bar=True,on_step=True)\n",
    "        \n",
    "    \n",
    "\n",
    "\n",
    "        return loss2\n",
    "\n",
    "    \n",
    "    def validation_step(self, batch, batch_idx):\n",
    "        # training_step defines the train loop. It is independent of forward\n",
    "        eeg,att,mas = batch\n",
    "\n",
    "\n",
    "        eeg_emb = self(eeg)\n",
    "        enva = self.envc(att)\n",
    "        envm = self.envc(mas)\n",
    "        \n",
    "\n",
    "        #comb = torch.vstack([enva,envm])\n",
    "\n",
    "\n",
    "\n",
    "\n",
    "        #loss1 = self.loss_fn(eeg_emb,att)\n",
    "        loss2 = -self.los(eeg_emb,enva) + self.loss_fn(eeg_emb,enva)\n",
    "        #loss1 = self.loss_fn(eeg_emb,att)\n",
    "        #loss = loss1+loss2\n",
    "\n",
    "        #self.running_loss2(loss1)\n",
    "        self.running_loss22(loss2)\n",
    "        #self.log('valp_loss', self.running_loss2.compute(), on_step=True, prog_bar=True)\n",
    "        self.log('val_loss', self.running_loss22.compute(), on_epoch=True, prog_bar=True)\n",
    "\n",
    "        m1 = torch.mean(self.accfn(eeg_emb,enva),dim=1,keepdim=True)\n",
    "        m2 = torch.mean(self.accfn(eeg_emb,envm),dim=1,keepdim=True)\n",
    "\n",
    "        acc = torch.sum(m1>m2)/m1.shape[0]\n",
    "        self.valacc(acc)\n",
    "        self.log(\"val_accuracy\",self.valacc.compute(),prog_bar=True,on_step=True)\n",
    "\n",
    "        return loss2\n",
    "\n",
    "    def configure_optimizers(self):\n",
    "        optimizer = torch.optim.Adam(self.parameters(), lr=self.lr,weight_decay=1e-6)\n",
    "        scheduler = torch.optim.lr_scheduler.CosineAnnealingLR(optimizer,800)\n",
    "        return [optimizer],[scheduler]"
   ]
  },
  {
   "cell_type": "code",
   "execution_count": 8,
   "metadata": {},
   "outputs": [],
   "source": [
    "tr_dataset = C_Dataset(mode=\"train\",seconds=3,overlap=0)\n",
    "val_dataset = C_Dataset(mode=\"val\",seconds=3,overlap=0)\n",
    "\n",
    "tr_loader = DataLoader(tr_dataset,batch_size=32,num_workers=3,persistent_workers=True,shuffle=True)\n",
    "val_loader = DataLoader(val_dataset,batch_size=32,num_workers=3,persistent_workers=True)"
   ]
  },
  {
   "cell_type": "code",
   "execution_count": 9,
   "metadata": {},
   "outputs": [],
   "source": [
    "checkpoint_callback = ModelCheckpoint(monitor='val_loss',dirpath='./DTUFiles/',filename='pretrained_weights',auto_insert_metric_name=False,verbose=True,enable_version_counter=False)\n",
    "early_stopping = EarlyStopping('val_loss',patience=10)\n",
    "ms = ModelSummary(max_depth=3)"
   ]
  },
  {
   "cell_type": "code",
   "execution_count": 10,
   "metadata": {},
   "outputs": [
    {
     "name": "stderr",
     "output_type": "stream",
     "text": [
      "Trainer already configured with model summary callbacks: [<class 'pytorch_lightning.callbacks.model_summary.ModelSummary'>]. Skipping setting a default `ModelSummary` callback.\n",
      "GPU available: True (cuda), used: True\n",
      "TPU available: False, using: 0 TPU cores\n",
      "IPU available: False, using: 0 IPUs\n",
      "HPU available: False, using: 0 HPUs\n",
      "c:\\Users\\gauta\\anaconda3\\envs\\keras-jax\\lib\\site-packages\\pytorch_lightning\\callbacks\\model_checkpoint.py:653: Checkpoint directory C:\\Users\\gauta\\Thesis\\PyTorch\\DTUFiles exists and is not empty.\n",
      "LOCAL_RANK: 0 - CUDA_VISIBLE_DEVICES: [0]\n",
      "\n",
      "   | Name                       | Type            | Params\n",
      "----------------------------------------------------------------\n",
      "0  | encoder                    | EEG_Conformer   | 304 K \n",
      "1  | encoder.confblock          | ModuleList      | 304 K \n",
      "2  | encoder.confblock.0        | Conformer_block | 101 K \n",
      "3  | encoder.confblock.1        | Conformer_block | 101 K \n",
      "4  | encoder.confblock.2        | Conformer_block | 101 K \n",
      "5  | encoder.lin                | Linear          | 65    \n",
      "6  | loss_fn                    | CLoss           | 1     \n",
      "7  | loss_fn.pear               | Pearsonr        | 0     \n",
      "8  | running_loss               | Running         | 0     \n",
      "9  | running_loss.base_metric   | MeanMetric      | 0     \n",
      "10 | running_loss2              | Running         | 0     \n",
      "11 | running_loss2.base_metric  | MeanMetric      | 0     \n",
      "12 | running_loss1              | Running         | 0     \n",
      "13 | running_loss1.base_metric  | MeanMetric      | 0     \n",
      "14 | running_loss22             | Running         | 0     \n",
      "15 | running_loss22.base_metric | MeanMetric      | 0     \n",
      "16 | tracc                      | Running         | 0     \n",
      "17 | tracc.base_metric          | MeanMetric      | 0     \n",
      "18 | valacc                     | Running         | 0     \n",
      "19 | valacc.base_metric         | MeanMetric      | 0     \n",
      "20 | los                        | SmoothL1Loss    | 0     \n",
      "----------------------------------------------------------------\n",
      "304 K     Trainable params\n",
      "0         Non-trainable params\n",
      "304 K     Total params\n",
      "1.218     Total estimated model params size (MB)\n"
     ]
    },
    {
     "data": {
      "application/vnd.jupyter.widget-view+json": {
       "model_id": "7b93d9dad7404ddf933731a3679364ab",
       "version_major": 2,
       "version_minor": 0
      },
      "text/plain": [
       "Sanity Checking: |          | 0/? [00:00<?, ?it/s]"
      ]
     },
     "metadata": {},
     "output_type": "display_data"
    },
    {
     "data": {
      "application/vnd.jupyter.widget-view+json": {
       "model_id": "5e8e40be7ef1487c80789e302f315b13",
       "version_major": 2,
       "version_minor": 0
      },
      "text/plain": [
       "Training: |          | 0/? [00:00<?, ?it/s]"
      ]
     },
     "metadata": {},
     "output_type": "display_data"
    },
    {
     "data": {
      "application/vnd.jupyter.widget-view+json": {
       "model_id": "a6f904252d384874a460bb20972909cf",
       "version_major": 2,
       "version_minor": 0
      },
      "text/plain": [
       "Validation: |          | 0/? [00:00<?, ?it/s]"
      ]
     },
     "metadata": {},
     "output_type": "display_data"
    },
    {
     "name": "stderr",
     "output_type": "stream",
     "text": [
      "Epoch 0, global step 1085: 'val_loss' reached 3.42041 (best 3.42041), saving model to 'C:\\\\Users\\\\gauta\\\\Thesis\\\\PyTorch\\\\DTUFiles\\\\pretrained_weights.ckpt' as top 1\n"
     ]
    },
    {
     "data": {
      "application/vnd.jupyter.widget-view+json": {
       "model_id": "8b7c73473fec417b9c95d73520500e0e",
       "version_major": 2,
       "version_minor": 0
      },
      "text/plain": [
       "Validation: |          | 0/? [00:00<?, ?it/s]"
      ]
     },
     "metadata": {},
     "output_type": "display_data"
    },
    {
     "name": "stderr",
     "output_type": "stream",
     "text": [
      "Epoch 1, global step 2170: 'val_loss' reached 3.38968 (best 3.38968), saving model to 'C:\\\\Users\\\\gauta\\\\Thesis\\\\PyTorch\\\\DTUFiles\\\\pretrained_weights.ckpt' as top 1\n"
     ]
    },
    {
     "data": {
      "application/vnd.jupyter.widget-view+json": {
       "model_id": "0f191da70d434536a202310fd5d7921d",
       "version_major": 2,
       "version_minor": 0
      },
      "text/plain": [
       "Validation: |          | 0/? [00:00<?, ?it/s]"
      ]
     },
     "metadata": {},
     "output_type": "display_data"
    },
    {
     "name": "stderr",
     "output_type": "stream",
     "text": [
      "Epoch 2, global step 3255: 'val_loss' reached 3.37908 (best 3.37908), saving model to 'C:\\\\Users\\\\gauta\\\\Thesis\\\\PyTorch\\\\DTUFiles\\\\pretrained_weights.ckpt' as top 1\n"
     ]
    },
    {
     "data": {
      "application/vnd.jupyter.widget-view+json": {
       "model_id": "596c5077e6784b9e9cd7777be866c024",
       "version_major": 2,
       "version_minor": 0
      },
      "text/plain": [
       "Validation: |          | 0/? [00:00<?, ?it/s]"
      ]
     },
     "metadata": {},
     "output_type": "display_data"
    },
    {
     "name": "stderr",
     "output_type": "stream",
     "text": [
      "Epoch 3, global step 4340: 'val_loss' reached 3.37771 (best 3.37771), saving model to 'C:\\\\Users\\\\gauta\\\\Thesis\\\\PyTorch\\\\DTUFiles\\\\pretrained_weights.ckpt' as top 1\n"
     ]
    },
    {
     "data": {
      "application/vnd.jupyter.widget-view+json": {
       "model_id": "5562f447f41540ffa3988e0767ff16e2",
       "version_major": 2,
       "version_minor": 0
      },
      "text/plain": [
       "Validation: |          | 0/? [00:00<?, ?it/s]"
      ]
     },
     "metadata": {},
     "output_type": "display_data"
    },
    {
     "name": "stderr",
     "output_type": "stream",
     "text": [
      "Epoch 4, global step 5425: 'val_loss' was not in top 1\n",
      "c:\\Users\\gauta\\anaconda3\\envs\\keras-jax\\lib\\site-packages\\pytorch_lightning\\trainer\\call.py:54: Detected KeyboardInterrupt, attempting graceful shutdown...\n"
     ]
    }
   ],
   "source": [
    "enc = Encode()\n",
    "\n",
    "trainer = pl.Trainer(max_epochs=300,accelerator='gpu',callbacks=[checkpoint_callback,ms,early_stopping],benchmark=True)\n",
    "trainer.fit(enc, tr_loader,val_dataloaders=val_loader)"
   ]
  },
  {
   "cell_type": "code",
   "execution_count": 11,
   "metadata": {},
   "outputs": [],
   "source": [
    "enc = Encode.load_from_checkpoint(\"./DTUFiles/pretrained_weights.ckpt\")"
   ]
  },
  {
   "cell_type": "code",
   "execution_count": 9,
   "metadata": {},
   "outputs": [],
   "source": [
    "dir = \"Try2/\""
   ]
  },
  {
   "cell_type": "code",
   "execution_count": 10,
   "metadata": {},
   "outputs": [],
   "source": [
    "train = {}\n",
    "val = {}\n",
    "test = {}\n",
    "\n",
    "for i in range(1,33):\n",
    "    if i ==14:\n",
    "        continue\n",
    "    substr = \"subject_\" + str(i) + \"_\"\n",
    "\n",
    "    subjectlist = findfiles(dir,substr)\n",
    "    spfiles,testfiles = train_test_split(subjectlist,test_size=0.12,random_state=42)\n",
    "    trainfiles,valfiles = train_test_split(spfiles,test_size=0.28,random_state=42)\n",
    "\n",
    "    train[substr] = trainfiles\n",
    "    val[substr] = valfiles\n",
    "    test[substr] = testfiles\n"
   ]
  },
  {
   "cell_type": "code",
   "execution_count": 11,
   "metadata": {},
   "outputs": [],
   "source": [
    "trains = sum(train.values(),[])\n",
    "vals = sum(val.values(),[])\n",
    "tests = sum(test.values(),[])"
   ]
  },
  {
   "cell_type": "code",
   "execution_count": 12,
   "metadata": {},
   "outputs": [
    {
     "data": {
      "text/plain": [
       "2420"
      ]
     },
     "execution_count": 12,
     "metadata": {},
     "output_type": "execute_result"
    }
   ],
   "source": [
    "len(set(trains + vals + tests))"
   ]
  },
  {
   "cell_type": "code",
   "execution_count": 13,
   "metadata": {},
   "outputs": [],
   "source": [
    "tr_dataset = EEG_Dataset(files=trains,seconds=3,overlap=0.75,fs=128)\n",
    "val_dataset = EEG_Dataset(files=vals,seconds=3,overlap=0,fs=128)\n",
    "\n",
    "tr_loader = DataLoader(tr_dataset,batch_size=32,num_workers=7,persistent_workers=True,shuffle=True)\n",
    "val_loader = DataLoader(val_dataset,batch_size=32,num_workers=7,persistent_workers=True)"
   ]
  },
  {
   "cell_type": "code",
   "execution_count": 14,
   "metadata": {},
   "outputs": [],
   "source": [
    "checkpoint_callback = ModelCheckpoint(monitor='val_loss',dirpath='./EriksholmFiles/',filename='pretrained_weights',auto_insert_metric_name=False,verbose=True,enable_version_counter=False)\n",
    "early_stopping = EarlyStopping('val_loss',patience=10)\n",
    "ms = ModelSummary(max_depth=3)"
   ]
  },
  {
   "cell_type": "code",
   "execution_count": 17,
   "metadata": {},
   "outputs": [
    {
     "name": "stderr",
     "output_type": "stream",
     "text": [
      "Trainer already configured with model summary callbacks: [<class 'pytorch_lightning.callbacks.model_summary.ModelSummary'>]. Skipping setting a default `ModelSummary` callback.\n",
      "GPU available: True (cuda), used: True\n",
      "TPU available: False, using: 0 TPU cores\n",
      "IPU available: False, using: 0 IPUs\n",
      "HPU available: False, using: 0 HPUs\n",
      "c:\\Users\\gauta\\anaconda3\\envs\\keras-jax\\lib\\site-packages\\pytorch_lightning\\callbacks\\model_checkpoint.py:653: Checkpoint directory C:\\Users\\gauta\\Thesis\\PyTorch\\EriksholmFiles exists and is not empty.\n",
      "LOCAL_RANK: 0 - CUDA_VISIBLE_DEVICES: [0]\n",
      "\n",
      "   | Name                       | Type            | Params\n",
      "----------------------------------------------------------------\n",
      "0  | encoder                    | EEG_Conformer   | 342 K \n",
      "1  | encoder.confblock          | ModuleList      | 304 K \n",
      "2  | encoder.confblock.0        | Conformer_block | 101 K \n",
      "3  | encoder.confblock.1        | Conformer_block | 101 K \n",
      "4  | encoder.confblock.2        | Conformer_block | 101 K \n",
      "5  | encoder.conv               | Conv1d          | 15.4 K\n",
      "6  | encoder.conv2              | Conv1d          | 23.1 K\n",
      "7  | envc                       | EnvConv         | 99.8 K\n",
      "8  | envc.clayers               | ModuleList      | 43.1 K\n",
      "9  | envc.clayers.0             | ConvBlock       | 21.5 K\n",
      "10 | envc.clayers.1             | ConvBlock       | 21.5 K\n",
      "11 | envc.conv1                 | Conv1d          | 26.0 K\n",
      "12 | envc.act                   | Tanh            | 0     \n",
      "13 | envc.conv2                 | Conv1d          | 30.8 K\n",
      "14 | loss_fn                    | CLoss           | 1     \n",
      "15 | running_loss1              | Running         | 0     \n",
      "16 | running_loss1.base_metric  | MeanMetric      | 0     \n",
      "17 | running_loss22             | Running         | 0     \n",
      "18 | running_loss22.base_metric | MeanMetric      | 0     \n",
      "19 | tracc                      | Running         | 0     \n",
      "20 | tracc.base_metric          | MeanMetric      | 0     \n",
      "21 | valacc                     | Running         | 0     \n",
      "22 | valacc.base_metric         | MeanMetric      | 0     \n",
      "----------------------------------------------------------------\n",
      "442 K     Trainable params\n",
      "0         Non-trainable params\n",
      "442 K     Total params\n",
      "1.771     Total estimated model params size (MB)\n"
     ]
    },
    {
     "data": {
      "application/vnd.jupyter.widget-view+json": {
       "model_id": "00b802209ce147eb88bdf082f8efb614",
       "version_major": 2,
       "version_minor": 0
      },
      "text/plain": [
       "Sanity Checking: |          | 0/? [00:00<?, ?it/s]"
      ]
     },
     "metadata": {},
     "output_type": "display_data"
    },
    {
     "name": "stdout",
     "output_type": "stream",
     "text": [
      "torch.Size([32, 32, 366])\n",
      "torch.Size([32, 32, 366])\n"
     ]
    },
    {
     "ename": "AssertionError",
     "evalue": "",
     "output_type": "error",
     "traceback": [
      "\u001b[1;31m---------------------------------------------------------------------------\u001b[0m",
      "\u001b[1;31mAssertionError\u001b[0m                            Traceback (most recent call last)",
      "Cell \u001b[1;32mIn[17], line 4\u001b[0m\n\u001b[0;32m      1\u001b[0m enc \u001b[38;5;241m=\u001b[39m Encode()\n\u001b[0;32m      3\u001b[0m trainer \u001b[38;5;241m=\u001b[39m pl\u001b[38;5;241m.\u001b[39mTrainer(max_epochs\u001b[38;5;241m=\u001b[39m\u001b[38;5;241m300\u001b[39m,accelerator\u001b[38;5;241m=\u001b[39m\u001b[38;5;124m'\u001b[39m\u001b[38;5;124mgpu\u001b[39m\u001b[38;5;124m'\u001b[39m,callbacks\u001b[38;5;241m=\u001b[39m[checkpoint_callback,ms,early_stopping],benchmark\u001b[38;5;241m=\u001b[39m\u001b[38;5;28;01mTrue\u001b[39;00m)\n\u001b[1;32m----> 4\u001b[0m \u001b[43mtrainer\u001b[49m\u001b[38;5;241;43m.\u001b[39;49m\u001b[43mfit\u001b[49m\u001b[43m(\u001b[49m\u001b[43menc\u001b[49m\u001b[43m,\u001b[49m\u001b[43m \u001b[49m\u001b[43mtr_loader\u001b[49m\u001b[43m,\u001b[49m\u001b[43mval_dataloaders\u001b[49m\u001b[38;5;241;43m=\u001b[39;49m\u001b[43mval_loader\u001b[49m\u001b[43m)\u001b[49m\n",
      "File \u001b[1;32mc:\\Users\\gauta\\anaconda3\\envs\\keras-jax\\lib\\site-packages\\pytorch_lightning\\trainer\\trainer.py:544\u001b[0m, in \u001b[0;36mTrainer.fit\u001b[1;34m(self, model, train_dataloaders, val_dataloaders, datamodule, ckpt_path)\u001b[0m\n\u001b[0;32m    542\u001b[0m \u001b[38;5;28mself\u001b[39m\u001b[38;5;241m.\u001b[39mstate\u001b[38;5;241m.\u001b[39mstatus \u001b[38;5;241m=\u001b[39m TrainerStatus\u001b[38;5;241m.\u001b[39mRUNNING\n\u001b[0;32m    543\u001b[0m \u001b[38;5;28mself\u001b[39m\u001b[38;5;241m.\u001b[39mtraining \u001b[38;5;241m=\u001b[39m \u001b[38;5;28;01mTrue\u001b[39;00m\n\u001b[1;32m--> 544\u001b[0m \u001b[43mcall\u001b[49m\u001b[38;5;241;43m.\u001b[39;49m\u001b[43m_call_and_handle_interrupt\u001b[49m\u001b[43m(\u001b[49m\n\u001b[0;32m    545\u001b[0m \u001b[43m    \u001b[49m\u001b[38;5;28;43mself\u001b[39;49m\u001b[43m,\u001b[49m\u001b[43m \u001b[49m\u001b[38;5;28;43mself\u001b[39;49m\u001b[38;5;241;43m.\u001b[39;49m\u001b[43m_fit_impl\u001b[49m\u001b[43m,\u001b[49m\u001b[43m \u001b[49m\u001b[43mmodel\u001b[49m\u001b[43m,\u001b[49m\u001b[43m \u001b[49m\u001b[43mtrain_dataloaders\u001b[49m\u001b[43m,\u001b[49m\u001b[43m \u001b[49m\u001b[43mval_dataloaders\u001b[49m\u001b[43m,\u001b[49m\u001b[43m \u001b[49m\u001b[43mdatamodule\u001b[49m\u001b[43m,\u001b[49m\u001b[43m \u001b[49m\u001b[43mckpt_path\u001b[49m\n\u001b[0;32m    546\u001b[0m \u001b[43m\u001b[49m\u001b[43m)\u001b[49m\n",
      "File \u001b[1;32mc:\\Users\\gauta\\anaconda3\\envs\\keras-jax\\lib\\site-packages\\pytorch_lightning\\trainer\\call.py:44\u001b[0m, in \u001b[0;36m_call_and_handle_interrupt\u001b[1;34m(trainer, trainer_fn, *args, **kwargs)\u001b[0m\n\u001b[0;32m     42\u001b[0m     \u001b[38;5;28;01mif\u001b[39;00m trainer\u001b[38;5;241m.\u001b[39mstrategy\u001b[38;5;241m.\u001b[39mlauncher \u001b[38;5;129;01mis\u001b[39;00m \u001b[38;5;129;01mnot\u001b[39;00m \u001b[38;5;28;01mNone\u001b[39;00m:\n\u001b[0;32m     43\u001b[0m         \u001b[38;5;28;01mreturn\u001b[39;00m trainer\u001b[38;5;241m.\u001b[39mstrategy\u001b[38;5;241m.\u001b[39mlauncher\u001b[38;5;241m.\u001b[39mlaunch(trainer_fn, \u001b[38;5;241m*\u001b[39margs, trainer\u001b[38;5;241m=\u001b[39mtrainer, \u001b[38;5;241m*\u001b[39m\u001b[38;5;241m*\u001b[39mkwargs)\n\u001b[1;32m---> 44\u001b[0m     \u001b[38;5;28;01mreturn\u001b[39;00m trainer_fn(\u001b[38;5;241m*\u001b[39margs, \u001b[38;5;241m*\u001b[39m\u001b[38;5;241m*\u001b[39mkwargs)\n\u001b[0;32m     46\u001b[0m \u001b[38;5;28;01mexcept\u001b[39;00m _TunerExitException:\n\u001b[0;32m     47\u001b[0m     _call_teardown_hook(trainer)\n",
      "File \u001b[1;32mc:\\Users\\gauta\\anaconda3\\envs\\keras-jax\\lib\\site-packages\\pytorch_lightning\\trainer\\trainer.py:580\u001b[0m, in \u001b[0;36mTrainer._fit_impl\u001b[1;34m(self, model, train_dataloaders, val_dataloaders, datamodule, ckpt_path)\u001b[0m\n\u001b[0;32m    573\u001b[0m \u001b[38;5;28;01massert\u001b[39;00m \u001b[38;5;28mself\u001b[39m\u001b[38;5;241m.\u001b[39mstate\u001b[38;5;241m.\u001b[39mfn \u001b[38;5;129;01mis\u001b[39;00m \u001b[38;5;129;01mnot\u001b[39;00m \u001b[38;5;28;01mNone\u001b[39;00m\n\u001b[0;32m    574\u001b[0m ckpt_path \u001b[38;5;241m=\u001b[39m \u001b[38;5;28mself\u001b[39m\u001b[38;5;241m.\u001b[39m_checkpoint_connector\u001b[38;5;241m.\u001b[39m_select_ckpt_path(\n\u001b[0;32m    575\u001b[0m     \u001b[38;5;28mself\u001b[39m\u001b[38;5;241m.\u001b[39mstate\u001b[38;5;241m.\u001b[39mfn,\n\u001b[0;32m    576\u001b[0m     ckpt_path,\n\u001b[0;32m    577\u001b[0m     model_provided\u001b[38;5;241m=\u001b[39m\u001b[38;5;28;01mTrue\u001b[39;00m,\n\u001b[0;32m    578\u001b[0m     model_connected\u001b[38;5;241m=\u001b[39m\u001b[38;5;28mself\u001b[39m\u001b[38;5;241m.\u001b[39mlightning_module \u001b[38;5;129;01mis\u001b[39;00m \u001b[38;5;129;01mnot\u001b[39;00m \u001b[38;5;28;01mNone\u001b[39;00m,\n\u001b[0;32m    579\u001b[0m )\n\u001b[1;32m--> 580\u001b[0m \u001b[38;5;28;43mself\u001b[39;49m\u001b[38;5;241;43m.\u001b[39;49m\u001b[43m_run\u001b[49m\u001b[43m(\u001b[49m\u001b[43mmodel\u001b[49m\u001b[43m,\u001b[49m\u001b[43m \u001b[49m\u001b[43mckpt_path\u001b[49m\u001b[38;5;241;43m=\u001b[39;49m\u001b[43mckpt_path\u001b[49m\u001b[43m)\u001b[49m\n\u001b[0;32m    582\u001b[0m \u001b[38;5;28;01massert\u001b[39;00m \u001b[38;5;28mself\u001b[39m\u001b[38;5;241m.\u001b[39mstate\u001b[38;5;241m.\u001b[39mstopped\n\u001b[0;32m    583\u001b[0m \u001b[38;5;28mself\u001b[39m\u001b[38;5;241m.\u001b[39mtraining \u001b[38;5;241m=\u001b[39m \u001b[38;5;28;01mFalse\u001b[39;00m\n",
      "File \u001b[1;32mc:\\Users\\gauta\\anaconda3\\envs\\keras-jax\\lib\\site-packages\\pytorch_lightning\\trainer\\trainer.py:987\u001b[0m, in \u001b[0;36mTrainer._run\u001b[1;34m(self, model, ckpt_path)\u001b[0m\n\u001b[0;32m    982\u001b[0m \u001b[38;5;28mself\u001b[39m\u001b[38;5;241m.\u001b[39m_signal_connector\u001b[38;5;241m.\u001b[39mregister_signal_handlers()\n\u001b[0;32m    984\u001b[0m \u001b[38;5;66;03m# ----------------------------\u001b[39;00m\n\u001b[0;32m    985\u001b[0m \u001b[38;5;66;03m# RUN THE TRAINER\u001b[39;00m\n\u001b[0;32m    986\u001b[0m \u001b[38;5;66;03m# ----------------------------\u001b[39;00m\n\u001b[1;32m--> 987\u001b[0m results \u001b[38;5;241m=\u001b[39m \u001b[38;5;28;43mself\u001b[39;49m\u001b[38;5;241;43m.\u001b[39;49m\u001b[43m_run_stage\u001b[49m\u001b[43m(\u001b[49m\u001b[43m)\u001b[49m\n\u001b[0;32m    989\u001b[0m \u001b[38;5;66;03m# ----------------------------\u001b[39;00m\n\u001b[0;32m    990\u001b[0m \u001b[38;5;66;03m# POST-Training CLEAN UP\u001b[39;00m\n\u001b[0;32m    991\u001b[0m \u001b[38;5;66;03m# ----------------------------\u001b[39;00m\n\u001b[0;32m    992\u001b[0m log\u001b[38;5;241m.\u001b[39mdebug(\u001b[38;5;124mf\u001b[39m\u001b[38;5;124m\"\u001b[39m\u001b[38;5;132;01m{\u001b[39;00m\u001b[38;5;28mself\u001b[39m\u001b[38;5;241m.\u001b[39m\u001b[38;5;18m__class__\u001b[39m\u001b[38;5;241m.\u001b[39m\u001b[38;5;18m__name__\u001b[39m\u001b[38;5;132;01m}\u001b[39;00m\u001b[38;5;124m: trainer tearing down\u001b[39m\u001b[38;5;124m\"\u001b[39m)\n",
      "File \u001b[1;32mc:\\Users\\gauta\\anaconda3\\envs\\keras-jax\\lib\\site-packages\\pytorch_lightning\\trainer\\trainer.py:1031\u001b[0m, in \u001b[0;36mTrainer._run_stage\u001b[1;34m(self)\u001b[0m\n\u001b[0;32m   1029\u001b[0m \u001b[38;5;28;01mif\u001b[39;00m \u001b[38;5;28mself\u001b[39m\u001b[38;5;241m.\u001b[39mtraining:\n\u001b[0;32m   1030\u001b[0m     \u001b[38;5;28;01mwith\u001b[39;00m isolate_rng():\n\u001b[1;32m-> 1031\u001b[0m         \u001b[38;5;28;43mself\u001b[39;49m\u001b[38;5;241;43m.\u001b[39;49m\u001b[43m_run_sanity_check\u001b[49m\u001b[43m(\u001b[49m\u001b[43m)\u001b[49m\n\u001b[0;32m   1032\u001b[0m     \u001b[38;5;28;01mwith\u001b[39;00m torch\u001b[38;5;241m.\u001b[39mautograd\u001b[38;5;241m.\u001b[39mset_detect_anomaly(\u001b[38;5;28mself\u001b[39m\u001b[38;5;241m.\u001b[39m_detect_anomaly):\n\u001b[0;32m   1033\u001b[0m         \u001b[38;5;28mself\u001b[39m\u001b[38;5;241m.\u001b[39mfit_loop\u001b[38;5;241m.\u001b[39mrun()\n",
      "File \u001b[1;32mc:\\Users\\gauta\\anaconda3\\envs\\keras-jax\\lib\\site-packages\\pytorch_lightning\\trainer\\trainer.py:1060\u001b[0m, in \u001b[0;36mTrainer._run_sanity_check\u001b[1;34m(self)\u001b[0m\n\u001b[0;32m   1057\u001b[0m call\u001b[38;5;241m.\u001b[39m_call_callback_hooks(\u001b[38;5;28mself\u001b[39m, \u001b[38;5;124m\"\u001b[39m\u001b[38;5;124mon_sanity_check_start\u001b[39m\u001b[38;5;124m\"\u001b[39m)\n\u001b[0;32m   1059\u001b[0m \u001b[38;5;66;03m# run eval step\u001b[39;00m\n\u001b[1;32m-> 1060\u001b[0m \u001b[43mval_loop\u001b[49m\u001b[38;5;241;43m.\u001b[39;49m\u001b[43mrun\u001b[49m\u001b[43m(\u001b[49m\u001b[43m)\u001b[49m\n\u001b[0;32m   1062\u001b[0m call\u001b[38;5;241m.\u001b[39m_call_callback_hooks(\u001b[38;5;28mself\u001b[39m, \u001b[38;5;124m\"\u001b[39m\u001b[38;5;124mon_sanity_check_end\u001b[39m\u001b[38;5;124m\"\u001b[39m)\n\u001b[0;32m   1064\u001b[0m \u001b[38;5;66;03m# reset logger connector\u001b[39;00m\n",
      "File \u001b[1;32mc:\\Users\\gauta\\anaconda3\\envs\\keras-jax\\lib\\site-packages\\pytorch_lightning\\loops\\utilities.py:182\u001b[0m, in \u001b[0;36m_no_grad_context.<locals>._decorator\u001b[1;34m(self, *args, **kwargs)\u001b[0m\n\u001b[0;32m    180\u001b[0m     context_manager \u001b[38;5;241m=\u001b[39m torch\u001b[38;5;241m.\u001b[39mno_grad\n\u001b[0;32m    181\u001b[0m \u001b[38;5;28;01mwith\u001b[39;00m context_manager():\n\u001b[1;32m--> 182\u001b[0m     \u001b[38;5;28;01mreturn\u001b[39;00m loop_run(\u001b[38;5;28mself\u001b[39m, \u001b[38;5;241m*\u001b[39margs, \u001b[38;5;241m*\u001b[39m\u001b[38;5;241m*\u001b[39mkwargs)\n",
      "File \u001b[1;32mc:\\Users\\gauta\\anaconda3\\envs\\keras-jax\\lib\\site-packages\\pytorch_lightning\\loops\\evaluation_loop.py:135\u001b[0m, in \u001b[0;36m_EvaluationLoop.run\u001b[1;34m(self)\u001b[0m\n\u001b[0;32m    133\u001b[0m     \u001b[38;5;28mself\u001b[39m\u001b[38;5;241m.\u001b[39mbatch_progress\u001b[38;5;241m.\u001b[39mis_last_batch \u001b[38;5;241m=\u001b[39m data_fetcher\u001b[38;5;241m.\u001b[39mdone\n\u001b[0;32m    134\u001b[0m     \u001b[38;5;66;03m# run step hooks\u001b[39;00m\n\u001b[1;32m--> 135\u001b[0m     \u001b[38;5;28;43mself\u001b[39;49m\u001b[38;5;241;43m.\u001b[39;49m\u001b[43m_evaluation_step\u001b[49m\u001b[43m(\u001b[49m\u001b[43mbatch\u001b[49m\u001b[43m,\u001b[49m\u001b[43m \u001b[49m\u001b[43mbatch_idx\u001b[49m\u001b[43m,\u001b[49m\u001b[43m \u001b[49m\u001b[43mdataloader_idx\u001b[49m\u001b[43m,\u001b[49m\u001b[43m \u001b[49m\u001b[43mdataloader_iter\u001b[49m\u001b[43m)\u001b[49m\n\u001b[0;32m    136\u001b[0m \u001b[38;5;28;01mexcept\u001b[39;00m \u001b[38;5;167;01mStopIteration\u001b[39;00m:\n\u001b[0;32m    137\u001b[0m     \u001b[38;5;66;03m# this needs to wrap the `*_step` call too (not just `next`) for `dataloader_iter` support\u001b[39;00m\n\u001b[0;32m    138\u001b[0m     \u001b[38;5;28;01mbreak\u001b[39;00m\n",
      "File \u001b[1;32mc:\\Users\\gauta\\anaconda3\\envs\\keras-jax\\lib\\site-packages\\pytorch_lightning\\loops\\evaluation_loop.py:396\u001b[0m, in \u001b[0;36m_EvaluationLoop._evaluation_step\u001b[1;34m(self, batch, batch_idx, dataloader_idx, dataloader_iter)\u001b[0m\n\u001b[0;32m    390\u001b[0m hook_name \u001b[38;5;241m=\u001b[39m \u001b[38;5;124m\"\u001b[39m\u001b[38;5;124mtest_step\u001b[39m\u001b[38;5;124m\"\u001b[39m \u001b[38;5;28;01mif\u001b[39;00m trainer\u001b[38;5;241m.\u001b[39mtesting \u001b[38;5;28;01melse\u001b[39;00m \u001b[38;5;124m\"\u001b[39m\u001b[38;5;124mvalidation_step\u001b[39m\u001b[38;5;124m\"\u001b[39m\n\u001b[0;32m    391\u001b[0m step_args \u001b[38;5;241m=\u001b[39m (\n\u001b[0;32m    392\u001b[0m     \u001b[38;5;28mself\u001b[39m\u001b[38;5;241m.\u001b[39m_build_step_args_from_hook_kwargs(hook_kwargs, hook_name)\n\u001b[0;32m    393\u001b[0m     \u001b[38;5;28;01mif\u001b[39;00m \u001b[38;5;129;01mnot\u001b[39;00m using_dataloader_iter\n\u001b[0;32m    394\u001b[0m     \u001b[38;5;28;01melse\u001b[39;00m (dataloader_iter,)\n\u001b[0;32m    395\u001b[0m )\n\u001b[1;32m--> 396\u001b[0m output \u001b[38;5;241m=\u001b[39m \u001b[43mcall\u001b[49m\u001b[38;5;241;43m.\u001b[39;49m\u001b[43m_call_strategy_hook\u001b[49m\u001b[43m(\u001b[49m\u001b[43mtrainer\u001b[49m\u001b[43m,\u001b[49m\u001b[43m \u001b[49m\u001b[43mhook_name\u001b[49m\u001b[43m,\u001b[49m\u001b[43m \u001b[49m\u001b[38;5;241;43m*\u001b[39;49m\u001b[43mstep_args\u001b[49m\u001b[43m)\u001b[49m\n\u001b[0;32m    398\u001b[0m \u001b[38;5;28mself\u001b[39m\u001b[38;5;241m.\u001b[39mbatch_progress\u001b[38;5;241m.\u001b[39mincrement_processed()\n\u001b[0;32m    400\u001b[0m \u001b[38;5;28;01mif\u001b[39;00m using_dataloader_iter:\n\u001b[0;32m    401\u001b[0m     \u001b[38;5;66;03m# update the hook kwargs now that the step method might have consumed the iterator\u001b[39;00m\n",
      "File \u001b[1;32mc:\\Users\\gauta\\anaconda3\\envs\\keras-jax\\lib\\site-packages\\pytorch_lightning\\trainer\\call.py:309\u001b[0m, in \u001b[0;36m_call_strategy_hook\u001b[1;34m(trainer, hook_name, *args, **kwargs)\u001b[0m\n\u001b[0;32m    306\u001b[0m     \u001b[38;5;28;01mreturn\u001b[39;00m \u001b[38;5;28;01mNone\u001b[39;00m\n\u001b[0;32m    308\u001b[0m \u001b[38;5;28;01mwith\u001b[39;00m trainer\u001b[38;5;241m.\u001b[39mprofiler\u001b[38;5;241m.\u001b[39mprofile(\u001b[38;5;124mf\u001b[39m\u001b[38;5;124m\"\u001b[39m\u001b[38;5;124m[Strategy]\u001b[39m\u001b[38;5;132;01m{\u001b[39;00mtrainer\u001b[38;5;241m.\u001b[39mstrategy\u001b[38;5;241m.\u001b[39m\u001b[38;5;18m__class__\u001b[39m\u001b[38;5;241m.\u001b[39m\u001b[38;5;18m__name__\u001b[39m\u001b[38;5;132;01m}\u001b[39;00m\u001b[38;5;124m.\u001b[39m\u001b[38;5;132;01m{\u001b[39;00mhook_name\u001b[38;5;132;01m}\u001b[39;00m\u001b[38;5;124m\"\u001b[39m):\n\u001b[1;32m--> 309\u001b[0m     output \u001b[38;5;241m=\u001b[39m fn(\u001b[38;5;241m*\u001b[39margs, \u001b[38;5;241m*\u001b[39m\u001b[38;5;241m*\u001b[39mkwargs)\n\u001b[0;32m    311\u001b[0m \u001b[38;5;66;03m# restore current_fx when nested context\u001b[39;00m\n\u001b[0;32m    312\u001b[0m pl_module\u001b[38;5;241m.\u001b[39m_current_fx_name \u001b[38;5;241m=\u001b[39m prev_fx_name\n",
      "File \u001b[1;32mc:\\Users\\gauta\\anaconda3\\envs\\keras-jax\\lib\\site-packages\\pytorch_lightning\\strategies\\strategy.py:412\u001b[0m, in \u001b[0;36mStrategy.validation_step\u001b[1;34m(self, *args, **kwargs)\u001b[0m\n\u001b[0;32m    410\u001b[0m \u001b[38;5;28;01mif\u001b[39;00m \u001b[38;5;28mself\u001b[39m\u001b[38;5;241m.\u001b[39mmodel \u001b[38;5;241m!=\u001b[39m \u001b[38;5;28mself\u001b[39m\u001b[38;5;241m.\u001b[39mlightning_module:\n\u001b[0;32m    411\u001b[0m     \u001b[38;5;28;01mreturn\u001b[39;00m \u001b[38;5;28mself\u001b[39m\u001b[38;5;241m.\u001b[39m_forward_redirection(\u001b[38;5;28mself\u001b[39m\u001b[38;5;241m.\u001b[39mmodel, \u001b[38;5;28mself\u001b[39m\u001b[38;5;241m.\u001b[39mlightning_module, \u001b[38;5;124m\"\u001b[39m\u001b[38;5;124mvalidation_step\u001b[39m\u001b[38;5;124m\"\u001b[39m, \u001b[38;5;241m*\u001b[39margs, \u001b[38;5;241m*\u001b[39m\u001b[38;5;241m*\u001b[39mkwargs)\n\u001b[1;32m--> 412\u001b[0m \u001b[38;5;28;01mreturn\u001b[39;00m \u001b[38;5;28mself\u001b[39m\u001b[38;5;241m.\u001b[39mlightning_module\u001b[38;5;241m.\u001b[39mvalidation_step(\u001b[38;5;241m*\u001b[39margs, \u001b[38;5;241m*\u001b[39m\u001b[38;5;241m*\u001b[39mkwargs)\n",
      "Cell \u001b[1;32mIn[16], line 86\u001b[0m, in \u001b[0;36mEncode.validation_step\u001b[1;34m(self, batch, batch_idx)\u001b[0m\n\u001b[0;32m     78\u001b[0m \u001b[38;5;28mprint\u001b[39m(eeg_emb\u001b[38;5;241m.\u001b[39mshape)\n\u001b[0;32m     80\u001b[0m \u001b[38;5;66;03m#comb = torch.vstack([enva,envm])\u001b[39;00m\n\u001b[0;32m     81\u001b[0m \n\u001b[0;32m     82\u001b[0m \n\u001b[0;32m     83\u001b[0m \n\u001b[0;32m     84\u001b[0m \n\u001b[0;32m     85\u001b[0m \u001b[38;5;66;03m#loss1 = self.loss_fn(eeg_emb,att)\u001b[39;00m\n\u001b[1;32m---> 86\u001b[0m loss2 \u001b[38;5;241m=\u001b[39m \u001b[38;5;241m-\u001b[39m\u001b[38;5;28;43mself\u001b[39;49m\u001b[38;5;241;43m.\u001b[39;49m\u001b[43mlos\u001b[49m\u001b[43m(\u001b[49m\u001b[43meeg_emb\u001b[49m\u001b[43m,\u001b[49m\u001b[43matt\u001b[49m\u001b[43m)\u001b[49m \u001b[38;5;241m+\u001b[39m \u001b[38;5;28mself\u001b[39m\u001b[38;5;241m.\u001b[39mloss_fn(eeg_emb,enva)\n\u001b[0;32m     87\u001b[0m \u001b[38;5;66;03m#loss1 = self.loss_fn(eeg_emb,att)\u001b[39;00m\n\u001b[0;32m     88\u001b[0m \u001b[38;5;66;03m#loss = loss1+loss2\u001b[39;00m\n\u001b[0;32m     89\u001b[0m \n\u001b[0;32m     90\u001b[0m \u001b[38;5;66;03m#self.running_loss2(loss1)\u001b[39;00m\n\u001b[0;32m     91\u001b[0m \u001b[38;5;28mself\u001b[39m\u001b[38;5;241m.\u001b[39mrunning_loss22(loss2)\n",
      "File \u001b[1;32mc:\\Users\\gauta\\anaconda3\\envs\\keras-jax\\lib\\site-packages\\audtorch\\metrics\\metrics.py:55\u001b[0m, in \u001b[0;36mPearsonR.__call__\u001b[1;34m(self, x, y)\u001b[0m\n\u001b[0;32m     54\u001b[0m \u001b[38;5;28;01mdef\u001b[39;00m \u001b[38;5;21m__call__\u001b[39m(\u001b[38;5;28mself\u001b[39m, x, y):\n\u001b[1;32m---> 55\u001b[0m     r \u001b[38;5;241m=\u001b[39m \u001b[43mF\u001b[49m\u001b[38;5;241;43m.\u001b[39;49m\u001b[43mpearsonr\u001b[49m\u001b[43m(\u001b[49m\u001b[43mx\u001b[49m\u001b[43m,\u001b[49m\u001b[43m \u001b[49m\u001b[43my\u001b[49m\u001b[43m,\u001b[49m\u001b[43m \u001b[49m\u001b[38;5;28;43mself\u001b[39;49m\u001b[38;5;241;43m.\u001b[39;49m\u001b[43mbatch_first\u001b[49m\u001b[43m)\u001b[49m\n\u001b[0;32m     56\u001b[0m     \u001b[38;5;28;01mif\u001b[39;00m \u001b[38;5;28mself\u001b[39m\u001b[38;5;241m.\u001b[39mreduction \u001b[38;5;241m==\u001b[39m \u001b[38;5;124m'\u001b[39m\u001b[38;5;124mmean\u001b[39m\u001b[38;5;124m'\u001b[39m:\n\u001b[0;32m     57\u001b[0m         r \u001b[38;5;241m=\u001b[39m r\u001b[38;5;241m.\u001b[39mmean()\n",
      "File \u001b[1;32mc:\\Users\\gauta\\anaconda3\\envs\\keras-jax\\lib\\site-packages\\audtorch\\metrics\\functional.py:67\u001b[0m, in \u001b[0;36mpearsonr\u001b[1;34m(x, y, batch_first)\u001b[0m\n\u001b[0;32m      3\u001b[0m \u001b[38;5;28;01mdef\u001b[39;00m \u001b[38;5;21mpearsonr\u001b[39m(\n\u001b[0;32m      4\u001b[0m         x,\n\u001b[0;32m      5\u001b[0m         y,\n\u001b[0;32m      6\u001b[0m         batch_first\u001b[38;5;241m=\u001b[39m\u001b[38;5;28;01mTrue\u001b[39;00m,\n\u001b[0;32m      7\u001b[0m ):\n\u001b[0;32m      8\u001b[0m \u001b[38;5;250m    \u001b[39m\u001b[38;5;124mr\u001b[39m\u001b[38;5;124;03m\"\"\"Computes Pearson Correlation Coefficient across rows.\u001b[39;00m\n\u001b[0;32m      9\u001b[0m \n\u001b[0;32m     10\u001b[0m \u001b[38;5;124;03m    Pearson Correlation Coefficient (also known as Linear Correlation\u001b[39;00m\n\u001b[1;32m   (...)\u001b[0m\n\u001b[0;32m     65\u001b[0m \n\u001b[0;32m     66\u001b[0m \u001b[38;5;124;03m    \"\"\"\u001b[39;00m  \u001b[38;5;66;03m# noqa: E501\u001b[39;00m\n\u001b[1;32m---> 67\u001b[0m     \u001b[38;5;28;01massert\u001b[39;00m x\u001b[38;5;241m.\u001b[39mshape \u001b[38;5;241m==\u001b[39m y\u001b[38;5;241m.\u001b[39mshape\n\u001b[0;32m     69\u001b[0m     \u001b[38;5;28;01mif\u001b[39;00m batch_first:\n\u001b[0;32m     70\u001b[0m         dim \u001b[38;5;241m=\u001b[39m \u001b[38;5;241m-\u001b[39m\u001b[38;5;241m1\u001b[39m\n",
      "\u001b[1;31mAssertionError\u001b[0m: "
     ]
    }
   ],
   "source": [
    "enc = Encode()\n",
    "\n",
    "trainer = pl.Trainer(max_epochs=300,accelerator='gpu',callbacks=[checkpoint_callback,ms,early_stopping],benchmark=True)\n",
    "trainer.fit(enc, tr_loader,val_dataloaders=val_loader)"
   ]
  },
  {
   "cell_type": "code",
   "execution_count": 16,
   "metadata": {},
   "outputs": [
    {
     "data": {
      "text/plain": [
       "3840.0"
      ]
     },
     "execution_count": 16,
     "metadata": {},
     "output_type": "execute_result"
    }
   ],
   "source": [
    "245760/64"
   ]
  },
  {
   "cell_type": "code",
   "execution_count": 16,
   "metadata": {},
   "outputs": [],
   "source": [
    "mod = Encode.load_from_checkpoint(\"./EriksholmFiles/pretrained_weights.ckpt\")"
   ]
  },
  {
   "cell_type": "code",
   "execution_count": null,
   "metadata": {},
   "outputs": [],
   "source": []
  },
  {
   "cell_type": "code",
   "execution_count": 17,
   "metadata": {},
   "outputs": [],
   "source": [
    "def predict(loader,test_model):\n",
    "    test_loss = []\n",
    "    test_metric = []\n",
    "    test_masker = []\n",
    "    acc = []\n",
    "\n",
    "    with torch.no_grad():\n",
    "        for batch_data in loader:\n",
    "            inputs, outputs,masker = batch_data[0], batch_data[1],batch_data[2]\n",
    "            \n",
    "            # Forward pass\n",
    "            predictions = test_model(inputs)\n",
    "            enva = mod.envc(outputs)\n",
    "            envm = mod.envc(masker)\n",
    "\n",
    "            # Compute loss\n",
    "            loss = -PearsonR()(enva, predictions).mean()\n",
    "\n",
    "            # Compute metric\n",
    "            metric = torch.mean(PearsonR(reduction=None)(enva, predictions),dim=1)\n",
    "            metric2 = torch.mean(PearsonR(reduction=None)(envm, predictions),dim=1)\n",
    "            accu = torch.sum(metric>metric2)\n",
    "\n",
    "            test_loss.append(loss.item())\n",
    "            test_metric.extend(metric.detach().cpu().numpy().reshape(-1))\n",
    "            test_masker.extend(metric2.detach().cpu().numpy().reshape(-1))\n",
    "            acc.append(accu.cpu().detach().numpy())\n",
    "    \n",
    "    return test_loss,np.array(test_metric),np.array(test_masker),np.array(acc)"
   ]
  },
  {
   "cell_type": "code",
   "execution_count": 18,
   "metadata": {},
   "outputs": [
    {
     "name": "stderr",
     "output_type": "stream",
     "text": [
      "100%|██████████| 32/32 [01:49<00:00,  3.42s/it]\n"
     ]
    }
   ],
   "source": [
    "accuracy = []\n",
    "metric = []\n",
    "masker = []\n",
    "from tqdm import tqdm\n",
    "mod = mod.cpu().eval()\n",
    "for i in tqdm(range(1,33)):\n",
    "    if i ==14:\n",
    "        continue\n",
    "\n",
    "    subject = \"subject_\" + str(i) + \"_\"\n",
    "    sub_dataset = EEG_Dataset(files=test[subject],seconds=2,overlap=0)\n",
    "    test_loader = DataLoader(sub_dataset,batch_size=1)\n",
    "\n",
    "    out = predict(test_loader,mod)\n",
    "\n",
    "    accuracy.append(np.mean(out[3]))\n",
    "    metric.append(out[1])\n",
    "    masker.append(out[2])\n",
    "\n"
   ]
  },
  {
   "cell_type": "code",
   "execution_count": 19,
   "metadata": {},
   "outputs": [
    {
     "data": {
      "text/plain": [
       "<BarContainer object of 31 artists>"
      ]
     },
     "execution_count": 19,
     "metadata": {},
     "output_type": "execute_result"
    },
    {
     "data": {
      "image/png": "[encoded data removed]",
      "text/plain": [
       "<Figure size 640x480 with 1 Axes>"
      ]
     },
     "metadata": {},
     "output_type": "display_data"
    }
   ],
   "source": [
    "import matplotlib.pyplot as plt\n",
    "plt.bar(np.arange(len(accuracy)),accuracy)"
   ]
  },
  {
   "cell_type": "code",
   "execution_count": 20,
   "metadata": {},
   "outputs": [
    {
     "data": {
      "text/plain": [
       "0.5765591397849463"
      ]
     },
     "execution_count": 20,
     "metadata": {},
     "output_type": "execute_result"
    }
   ],
   "source": [
    "np.mean(accuracy)"
   ]
  },
  {
   "cell_type": "code",
   "execution_count": 21,
   "metadata": {},
   "outputs": [
    {
     "data": {
      "text/plain": [
       "[0.5266666666666666,\n",
       " 0.6866666666666666,\n",
       " 0.52,\n",
       " 0.46,\n",
       " 0.47333333333333333,\n",
       " 0.7,\n",
       " 0.6,\n",
       " 0.62,\n",
       " 0.62,\n",
       " 0.5333333333333333,\n",
       " 0.54,\n",
       " 0.5466666666666666,\n",
       " 0.54,\n",
       " 0.5866666666666667,\n",
       " 0.5933333333333334,\n",
       " 0.6666666666666666,\n",
       " 0.52,\n",
       " 0.49333333333333335,\n",
       " 0.6133333333333333,\n",
       " 0.4583333333333333,\n",
       " 0.625,\n",
       " 0.5833333333333334,\n",
       " 0.66,\n",
       " 0.54,\n",
       " 0.5266666666666666,\n",
       " 0.62,\n",
       " 0.58,\n",
       " 0.6466666666666666,\n",
       " 0.6066666666666667,\n",
       " 0.6133333333333333,\n",
       " 0.5733333333333334]"
      ]
     },
     "execution_count": 21,
     "metadata": {},
     "output_type": "execute_result"
    }
   ],
   "source": [
    "accuracy"
   ]
  },
  {
   "cell_type": "code",
   "execution_count": 31,
   "metadata": {},
   "outputs": [],
   "source": [
    "k = [z - i for z,i in zip(attmeans,masmeans)]"
   ]
  },
  {
   "cell_type": "code",
   "execution_count": 32,
   "metadata": {},
   "outputs": [
    {
     "data": {
      "text/plain": [
       "<BarContainer object of 31 artists>"
      ]
     },
     "execution_count": 32,
     "metadata": {},
     "output_type": "execute_result"
    },
    {
     "data": {
      "image/png": "[encoded data removed]",
      "text/plain": [
       "<Figure size 640x480 with 1 Axes>"
      ]
     },
     "metadata": {},
     "output_type": "display_data"
    }
   ],
   "source": [
    "plt.bar(np.arange(len(k)),k)"
   ]
  },
  {
   "cell_type": "code",
   "execution_count": 22,
   "metadata": {},
   "outputs": [],
   "source": [
    "met = [np.squeeze(k) for k in metric]\n",
    "mas = [np.squeeze(k) for k in masker]"
   ]
  },
  {
   "cell_type": "code",
   "execution_count": 23,
   "metadata": {},
   "outputs": [],
   "source": [
    "attmeans = [np.mean(r) for r in met]\n",
    "masmeans = [np.mean(r) for r in mas]"
   ]
  },
  {
   "cell_type": "code",
   "execution_count": 24,
   "metadata": {},
   "outputs": [
    {
     "data": {
      "text/plain": [
       "<BarContainer object of 31 artists>"
      ]
     },
     "execution_count": 24,
     "metadata": {},
     "output_type": "execute_result"
    },
    {
     "data": {
      "image/png": "[encoded data removed]",
      "text/plain": [
       "<Figure size 640x480 with 1 Axes>"
      ]
     },
     "metadata": {},
     "output_type": "display_data"
    }
   ],
   "source": [
    "plt.bar(np.arange(len(attmeans)),attmeans)\n",
    "plt.bar(np.arange(len(masmeans)),masmeans)"
   ]
  },
  {
   "cell_type": "code",
   "execution_count": 25,
   "metadata": {},
   "outputs": [
    {
     "data": {
      "text/plain": [
       "{'whiskers': [<matplotlib.lines.Line2D at 0x2509cbceb90>,\n",
       "  <matplotlib.lines.Line2D at 0x2509cbcee30>,\n",
       "  <matplotlib.lines.Line2D at 0x2509cbcfe20>,\n",
       "  <matplotlib.lines.Line2D at 0x2509cc0c100>,\n",
       "  <matplotlib.lines.Line2D at 0x2509cc0d0c0>,\n",
       "  <matplotlib.lines.Line2D at 0x2509cc0d360>,\n",
       "  <matplotlib.lines.Line2D at 0x2509cc0e320>,\n",
       "  <matplotlib.lines.Line2D at 0x2509cc0e5c0>,\n",
       "  <matplotlib.lines.Line2D at 0x2509cc0f580>,\n",
       "  <matplotlib.lines.Line2D at 0x2509cc0f820>,\n",
       "  <matplotlib.lines.Line2D at 0x250b8c2c820>,\n",
       "  <matplotlib.lines.Line2D at 0x250b8c2cac0>,\n",
       "  <matplotlib.lines.Line2D at 0x250b8c2da80>,\n",
       "  <matplotlib.lines.Line2D at 0x250b8c2dd20>,\n",
       "  <matplotlib.lines.Line2D at 0x250b8c2ece0>,\n",
       "  <matplotlib.lines.Line2D at 0x250b8c2ef80>,\n",
       "  <matplotlib.lines.Line2D at 0x250b8c2ff40>,\n",
       "  <matplotlib.lines.Line2D at 0x250b8c60220>,\n",
       "  <matplotlib.lines.Line2D at 0x250b8c611e0>,\n",
       "  <matplotlib.lines.Line2D at 0x250b8c61480>,\n",
       "  <matplotlib.lines.Line2D at 0x250b8c62440>,\n",
       "  <matplotlib.lines.Line2D at 0x250b8c626e0>,\n",
       "  <matplotlib.lines.Line2D at 0x250b8c636a0>,\n",
       "  <matplotlib.lines.Line2D at 0x250b8c63940>,\n",
       "  <matplotlib.lines.Line2D at 0x250b8ca0940>,\n",
       "  <matplotlib.lines.Line2D at 0x250b8ca0be0>,\n",
       "  <matplotlib.lines.Line2D at 0x250b8ca1ba0>,\n",
       "  <matplotlib.lines.Line2D at 0x250b8ca1e40>,\n",
       "  <matplotlib.lines.Line2D at 0x250b8ca2e00>,\n",
       "  <matplotlib.lines.Line2D at 0x250b8ca30a0>,\n",
       "  <matplotlib.lines.Line2D at 0x250b8ca3fd0>,\n",
       "  <matplotlib.lines.Line2D at 0x250b8cd02b0>,\n",
       "  <matplotlib.lines.Line2D at 0x250b8cd1270>,\n",
       "  <matplotlib.lines.Line2D at 0x250b8cd1510>,\n",
       "  <matplotlib.lines.Line2D at 0x250b8cd24d0>,\n",
       "  <matplotlib.lines.Line2D at 0x250b8cd2770>,\n",
       "  <matplotlib.lines.Line2D at 0x250b8cd3730>,\n",
       "  <matplotlib.lines.Line2D at 0x250b8cd39d0>,\n",
       "  <matplotlib.lines.Line2D at 0x250bad489d0>,\n",
       "  <matplotlib.lines.Line2D at 0x250bad48c70>,\n",
       "  <matplotlib.lines.Line2D at 0x250bad49c30>,\n",
       "  <matplotlib.lines.Line2D at 0x250bad49ed0>,\n",
       "  <matplotlib.lines.Line2D at 0x250bad4ae90>,\n",
       "  <matplotlib.lines.Line2D at 0x250bad4b130>,\n",
       "  <matplotlib.lines.Line2D at 0x250bad80130>,\n",
       "  <matplotlib.lines.Line2D at 0x250bad803d0>,\n",
       "  <matplotlib.lines.Line2D at 0x250bad813c0>,\n",
       "  <matplotlib.lines.Line2D at 0x250bad81660>,\n",
       "  <matplotlib.lines.Line2D at 0x250bad82620>,\n",
       "  <matplotlib.lines.Line2D at 0x250bad828c0>,\n",
       "  <matplotlib.lines.Line2D at 0x250bad83880>,\n",
       "  <matplotlib.lines.Line2D at 0x250bad83b20>,\n",
       "  <matplotlib.lines.Line2D at 0x250badb8b20>,\n",
       "  <matplotlib.lines.Line2D at 0x250badb8dc0>,\n",
       "  <matplotlib.lines.Line2D at 0x250badb9d80>,\n",
       "  <matplotlib.lines.Line2D at 0x250badba020>,\n",
       "  <matplotlib.lines.Line2D at 0x250badbafe0>,\n",
       "  <matplotlib.lines.Line2D at 0x250badbb280>,\n",
       "  <matplotlib.lines.Line2D at 0x250badf0280>,\n",
       "  <matplotlib.lines.Line2D at 0x250badf0520>,\n",
       "  <matplotlib.lines.Line2D at 0x250badf14e0>,\n",
       "  <matplotlib.lines.Line2D at 0x250badf1780>],\n",
       " 'caps': [<matplotlib.lines.Line2D at 0x2509cbcf0d0>,\n",
       "  <matplotlib.lines.Line2D at 0x2509cbcf370>,\n",
       "  <matplotlib.lines.Line2D at 0x2509cc0c3a0>,\n",
       "  <matplotlib.lines.Line2D at 0x2509cc0c640>,\n",
       "  <matplotlib.lines.Line2D at 0x2509cc0d600>,\n",
       "  <matplotlib.lines.Line2D at 0x2509cc0d8a0>,\n",
       "  <matplotlib.lines.Line2D at 0x2509cc0e860>,\n",
       "  <matplotlib.lines.Line2D at 0x2509cc0eb00>,\n",
       "  <matplotlib.lines.Line2D at 0x2509cc0fac0>,\n",
       "  <matplotlib.lines.Line2D at 0x2509cc0fd60>,\n",
       "  <matplotlib.lines.Line2D at 0x250b8c2cd60>,\n",
       "  <matplotlib.lines.Line2D at 0x250b8c2d000>,\n",
       "  <matplotlib.lines.Line2D at 0x250b8c2dfc0>,\n",
       "  <matplotlib.lines.Line2D at 0x250b8c2e260>,\n",
       "  <matplotlib.lines.Line2D at 0x250b8c2f220>,\n",
       "  <matplotlib.lines.Line2D at 0x250b8c2f4c0>,\n",
       "  <matplotlib.lines.Line2D at 0x250b8c604c0>,\n",
       "  <matplotlib.lines.Line2D at 0x250b8c60760>,\n",
       "  <matplotlib.lines.Line2D at 0x250b8c61720>,\n",
       "  <matplotlib.lines.Line2D at 0x250b8c619c0>,\n",
       "  <matplotlib.lines.Line2D at 0x250b8c62980>,\n",
       "  <matplotlib.lines.Line2D at 0x250b8c62c20>,\n",
       "  <matplotlib.lines.Line2D at 0x250b8c63be0>,\n",
       "  <matplotlib.lines.Line2D at 0x250b8c63e80>,\n",
       "  <matplotlib.lines.Line2D at 0x250b8ca0e80>,\n",
       "  <matplotlib.lines.Line2D at 0x250b8ca1120>,\n",
       "  <matplotlib.lines.Line2D at 0x250b8ca20e0>,\n",
       "  <matplotlib.lines.Line2D at 0x250b8ca2380>,\n",
       "  <matplotlib.lines.Line2D at 0x250b8ca32b0>,\n",
       "  <matplotlib.lines.Line2D at 0x250b8ca3550>,\n",
       "  <matplotlib.lines.Line2D at 0x250b8cd0550>,\n",
       "  <matplotlib.lines.Line2D at 0x250b8cd07f0>,\n",
       "  <matplotlib.lines.Line2D at 0x250b8cd17b0>,\n",
       "  <matplotlib.lines.Line2D at 0x250b8cd1a50>,\n",
       "  <matplotlib.lines.Line2D at 0x250b8cd2a10>,\n",
       "  <matplotlib.lines.Line2D at 0x250b8cd2cb0>,\n",
       "  <matplotlib.lines.Line2D at 0x250b8cd3c70>,\n",
       "  <matplotlib.lines.Line2D at 0x250b8cd3f10>,\n",
       "  <matplotlib.lines.Line2D at 0x250bad48f10>,\n",
       "  <matplotlib.lines.Line2D at 0x250bad491b0>,\n",
       "  <matplotlib.lines.Line2D at 0x250bad4a170>,\n",
       "  <matplotlib.lines.Line2D at 0x250bad4a410>,\n",
       "  <matplotlib.lines.Line2D at 0x250bad4b3d0>,\n",
       "  <matplotlib.lines.Line2D at 0x250bad4b670>,\n",
       "  <matplotlib.lines.Line2D at 0x250bad80670>,\n",
       "  <matplotlib.lines.Line2D at 0x250bad80910>,\n",
       "  <matplotlib.lines.Line2D at 0x250bad81900>,\n",
       "  <matplotlib.lines.Line2D at 0x250bad81ba0>,\n",
       "  <matplotlib.lines.Line2D at 0x250bad82b60>,\n",
       "  <matplotlib.lines.Line2D at 0x250bad82e00>,\n",
       "  <matplotlib.lines.Line2D at 0x250bad83dc0>,\n",
       "  <matplotlib.lines.Line2D at 0x250badb80a0>,\n",
       "  <matplotlib.lines.Line2D at 0x250badb9060>,\n",
       "  <matplotlib.lines.Line2D at 0x250badb9300>,\n",
       "  <matplotlib.lines.Line2D at 0x250badba2c0>,\n",
       "  <matplotlib.lines.Line2D at 0x250badba560>,\n",
       "  <matplotlib.lines.Line2D at 0x250badbb520>,\n",
       "  <matplotlib.lines.Line2D at 0x250badbb7c0>,\n",
       "  <matplotlib.lines.Line2D at 0x250badf07c0>,\n",
       "  <matplotlib.lines.Line2D at 0x250badf0a60>,\n",
       "  <matplotlib.lines.Line2D at 0x250badf1a20>,\n",
       "  <matplotlib.lines.Line2D at 0x250badf1cc0>],\n",
       " 'boxes': [<matplotlib.lines.Line2D at 0x2509cbce8f0>,\n",
       "  <matplotlib.lines.Line2D at 0x2509cbcfb80>,\n",
       "  <matplotlib.lines.Line2D at 0x2509cc0ce20>,\n",
       "  <matplotlib.lines.Line2D at 0x2509cc0e080>,\n",
       "  <matplotlib.lines.Line2D at 0x2509cc0f2e0>,\n",
       "  <matplotlib.lines.Line2D at 0x250b8c2c580>,\n",
       "  <matplotlib.lines.Line2D at 0x250b8c2d7e0>,\n",
       "  <matplotlib.lines.Line2D at 0x250b8c2ea40>,\n",
       "  <matplotlib.lines.Line2D at 0x250b8c2fca0>,\n",
       "  <matplotlib.lines.Line2D at 0x250b8c60f40>,\n",
       "  <matplotlib.lines.Line2D at 0x250b8c621a0>,\n",
       "  <matplotlib.lines.Line2D at 0x250b8c63400>,\n",
       "  <matplotlib.lines.Line2D at 0x250b8ca06a0>,\n",
       "  <matplotlib.lines.Line2D at 0x250b8ca1900>,\n",
       "  <matplotlib.lines.Line2D at 0x250b8ca2b60>,\n",
       "  <matplotlib.lines.Line2D at 0x250b8ca3d30>,\n",
       "  <matplotlib.lines.Line2D at 0x250b8cd0fd0>,\n",
       "  <matplotlib.lines.Line2D at 0x250b8cd2230>,\n",
       "  <matplotlib.lines.Line2D at 0x250b8cd3490>,\n",
       "  <matplotlib.lines.Line2D at 0x250bad48730>,\n",
       "  <matplotlib.lines.Line2D at 0x250bad49990>,\n",
       "  <matplotlib.lines.Line2D at 0x250bad4abf0>,\n",
       "  <matplotlib.lines.Line2D at 0x250bad4be50>,\n",
       "  <matplotlib.lines.Line2D at 0x250bad81120>,\n",
       "  <matplotlib.lines.Line2D at 0x250bad82380>,\n",
       "  <matplotlib.lines.Line2D at 0x250bad835e0>,\n",
       "  <matplotlib.lines.Line2D at 0x250badb8880>,\n",
       "  <matplotlib.lines.Line2D at 0x250badb9ae0>,\n",
       "  <matplotlib.lines.Line2D at 0x250badbad40>,\n",
       "  <matplotlib.lines.Line2D at 0x250badbbfa0>,\n",
       "  <matplotlib.lines.Line2D at 0x250badf1240>],\n",
       " 'medians': [<matplotlib.lines.Line2D at 0x2509cbcf610>,\n",
       "  <matplotlib.lines.Line2D at 0x2509cc0c8e0>,\n",
       "  <matplotlib.lines.Line2D at 0x2509cc0db40>,\n",
       "  <matplotlib.lines.Line2D at 0x2509cc0eda0>,\n",
       "  <matplotlib.lines.Line2D at 0x250b8c2c040>,\n",
       "  <matplotlib.lines.Line2D at 0x250b8c2d2a0>,\n",
       "  <matplotlib.lines.Line2D at 0x250b8c2e500>,\n",
       "  <matplotlib.lines.Line2D at 0x250b8c2f760>,\n",
       "  <matplotlib.lines.Line2D at 0x250b8c60a00>,\n",
       "  <matplotlib.lines.Line2D at 0x250b8c61c60>,\n",
       "  <matplotlib.lines.Line2D at 0x250b8c62ec0>,\n",
       "  <matplotlib.lines.Line2D at 0x250b8ca0160>,\n",
       "  <matplotlib.lines.Line2D at 0x250b8ca13c0>,\n",
       "  <matplotlib.lines.Line2D at 0x250b8ca2620>,\n",
       "  <matplotlib.lines.Line2D at 0x250b8ca37f0>,\n",
       "  <matplotlib.lines.Line2D at 0x250b8cd0a90>,\n",
       "  <matplotlib.lines.Line2D at 0x250b8cd1cf0>,\n",
       "  <matplotlib.lines.Line2D at 0x250b8cd2f50>,\n",
       "  <matplotlib.lines.Line2D at 0x250bad481f0>,\n",
       "  <matplotlib.lines.Line2D at 0x250bad49450>,\n",
       "  <matplotlib.lines.Line2D at 0x250bad4a6b0>,\n",
       "  <matplotlib.lines.Line2D at 0x250bad4b910>,\n",
       "  <matplotlib.lines.Line2D at 0x250bad80bb0>,\n",
       "  <matplotlib.lines.Line2D at 0x250bad81e40>,\n",
       "  <matplotlib.lines.Line2D at 0x250bad830a0>,\n",
       "  <matplotlib.lines.Line2D at 0x250badb8340>,\n",
       "  <matplotlib.lines.Line2D at 0x250badb95a0>,\n",
       "  <matplotlib.lines.Line2D at 0x250badba800>,\n",
       "  <matplotlib.lines.Line2D at 0x250badbba60>,\n",
       "  <matplotlib.lines.Line2D at 0x250badf0d00>,\n",
       "  <matplotlib.lines.Line2D at 0x250badf1f60>],\n",
       " 'fliers': [<matplotlib.lines.Line2D at 0x2509cbcf8b0>,\n",
       "  <matplotlib.lines.Line2D at 0x2509cc0cb80>,\n",
       "  <matplotlib.lines.Line2D at 0x2509cc0dde0>,\n",
       "  <matplotlib.lines.Line2D at 0x2509cc0f040>,\n",
       "  <matplotlib.lines.Line2D at 0x250b8c2c2e0>,\n",
       "  <matplotlib.lines.Line2D at 0x250b8c2d540>,\n",
       "  <matplotlib.lines.Line2D at 0x250b8c2e7a0>,\n",
       "  <matplotlib.lines.Line2D at 0x250b8c2fa00>,\n",
       "  <matplotlib.lines.Line2D at 0x250b8c60ca0>,\n",
       "  <matplotlib.lines.Line2D at 0x250b8c61f00>,\n",
       "  <matplotlib.lines.Line2D at 0x250b8c63160>,\n",
       "  <matplotlib.lines.Line2D at 0x250b8ca0400>,\n",
       "  <matplotlib.lines.Line2D at 0x250b8ca1660>,\n",
       "  <matplotlib.lines.Line2D at 0x250b8ca28c0>,\n",
       "  <matplotlib.lines.Line2D at 0x250b8ca3a90>,\n",
       "  <matplotlib.lines.Line2D at 0x250b8cd0d30>,\n",
       "  <matplotlib.lines.Line2D at 0x250b8cd1f90>,\n",
       "  <matplotlib.lines.Line2D at 0x250b8cd31f0>,\n",
       "  <matplotlib.lines.Line2D at 0x250bad48490>,\n",
       "  <matplotlib.lines.Line2D at 0x250bad496f0>,\n",
       "  <matplotlib.lines.Line2D at 0x250bad4a950>,\n",
       "  <matplotlib.lines.Line2D at 0x250bad4bbb0>,\n",
       "  <matplotlib.lines.Line2D at 0x250bad80e80>,\n",
       "  <matplotlib.lines.Line2D at 0x250bad820e0>,\n",
       "  <matplotlib.lines.Line2D at 0x250bad83340>,\n",
       "  <matplotlib.lines.Line2D at 0x250badb85e0>,\n",
       "  <matplotlib.lines.Line2D at 0x250badb9840>,\n",
       "  <matplotlib.lines.Line2D at 0x250badbaaa0>,\n",
       "  <matplotlib.lines.Line2D at 0x250badbbd00>,\n",
       "  <matplotlib.lines.Line2D at 0x250badf0fa0>,\n",
       "  <matplotlib.lines.Line2D at 0x250badf2200>],\n",
       " 'means': []}"
      ]
     },
     "execution_count": 25,
     "metadata": {},
     "output_type": "execute_result"
    },
    {
     "data": {
      "image/png": "[encoded data removed]",
      "text/plain": [
       "<Figure size 640x480 with 1 Axes>"
      ]
     },
     "metadata": {},
     "output_type": "display_data"
    }
   ],
   "source": [
    "plt.boxplot(met)\n",
    "#plt.boxplot(np.arange(len(masmeans)),mas)"
   ]
  },
  {
   "cell_type": "code",
   "execution_count": 26,
   "metadata": {},
   "outputs": [
    {
     "data": {
      "text/plain": [
       "{'whiskers': [<matplotlib.lines.Line2D at 0x250bb02e950>,\n",
       "  <matplotlib.lines.Line2D at 0x250bb02ebf0>,\n",
       "  <matplotlib.lines.Line2D at 0x250bb02fbb0>,\n",
       "  <matplotlib.lines.Line2D at 0x250bb02fe50>,\n",
       "  <matplotlib.lines.Line2D at 0x250bb068e50>,\n",
       "  <matplotlib.lines.Line2D at 0x250bb0690f0>,\n",
       "  <matplotlib.lines.Line2D at 0x250bb06a0b0>,\n",
       "  <matplotlib.lines.Line2D at 0x250bb06a350>,\n",
       "  <matplotlib.lines.Line2D at 0x250bb06b310>,\n",
       "  <matplotlib.lines.Line2D at 0x250bb06b5b0>,\n",
       "  <matplotlib.lines.Line2D at 0x250bae585b0>,\n",
       "  <matplotlib.lines.Line2D at 0x250bae58850>,\n",
       "  <matplotlib.lines.Line2D at 0x250bae59810>,\n",
       "  <matplotlib.lines.Line2D at 0x250bae59ab0>,\n",
       "  <matplotlib.lines.Line2D at 0x250bae5aa70>,\n",
       "  <matplotlib.lines.Line2D at 0x250bae5ad10>,\n",
       "  <matplotlib.lines.Line2D at 0x250bae5bcd0>,\n",
       "  <matplotlib.lines.Line2D at 0x250bae5bf70>,\n",
       "  <matplotlib.lines.Line2D at 0x250bae8cf70>,\n",
       "  <matplotlib.lines.Line2D at 0x250bae8d210>,\n",
       "  <matplotlib.lines.Line2D at 0x250bae8e1d0>,\n",
       "  <matplotlib.lines.Line2D at 0x250bae8e470>,\n",
       "  <matplotlib.lines.Line2D at 0x250bae8f430>,\n",
       "  <matplotlib.lines.Line2D at 0x250bae8f6d0>,\n",
       "  <matplotlib.lines.Line2D at 0x250baec86d0>,\n",
       "  <matplotlib.lines.Line2D at 0x250baec8970>,\n",
       "  <matplotlib.lines.Line2D at 0x250baec9930>,\n",
       "  <matplotlib.lines.Line2D at 0x250baec9bd0>,\n",
       "  <matplotlib.lines.Line2D at 0x250baecab90>,\n",
       "  <matplotlib.lines.Line2D at 0x250baecae30>,\n",
       "  <matplotlib.lines.Line2D at 0x250baecbdf0>,\n",
       "  <matplotlib.lines.Line2D at 0x250baf080d0>,\n",
       "  <matplotlib.lines.Line2D at 0x250baf09090>,\n",
       "  <matplotlib.lines.Line2D at 0x250baf09330>,\n",
       "  <matplotlib.lines.Line2D at 0x250baf0a2f0>,\n",
       "  <matplotlib.lines.Line2D at 0x250baf0a590>,\n",
       "  <matplotlib.lines.Line2D at 0x250baf0b550>,\n",
       "  <matplotlib.lines.Line2D at 0x250baf0b820>,\n",
       "  <matplotlib.lines.Line2D at 0x250baf3c820>,\n",
       "  <matplotlib.lines.Line2D at 0x250baf3cac0>,\n",
       "  <matplotlib.lines.Line2D at 0x250baf3da80>,\n",
       "  <matplotlib.lines.Line2D at 0x250baf3dd20>,\n",
       "  <matplotlib.lines.Line2D at 0x250baf3ece0>,\n",
       "  <matplotlib.lines.Line2D at 0x250baf3ef80>,\n",
       "  <matplotlib.lines.Line2D at 0x250baf3ff40>,\n",
       "  <matplotlib.lines.Line2D at 0x250bb0b8220>,\n",
       "  <matplotlib.lines.Line2D at 0x250bb0b9210>,\n",
       "  <matplotlib.lines.Line2D at 0x250bb0b94b0>,\n",
       "  <matplotlib.lines.Line2D at 0x250bb0ba470>,\n",
       "  <matplotlib.lines.Line2D at 0x250bb0ba710>,\n",
       "  <matplotlib.lines.Line2D at 0x250bb0bb6d0>,\n",
       "  <matplotlib.lines.Line2D at 0x250bb0bb970>,\n",
       "  <matplotlib.lines.Line2D at 0x250bb0ec9a0>,\n",
       "  <matplotlib.lines.Line2D at 0x250bb0ecc40>,\n",
       "  <matplotlib.lines.Line2D at 0x250bb0edc00>,\n",
       "  <matplotlib.lines.Line2D at 0x250bb0edea0>,\n",
       "  <matplotlib.lines.Line2D at 0x250bb0eee60>,\n",
       "  <matplotlib.lines.Line2D at 0x250bb0ef100>,\n",
       "  <matplotlib.lines.Line2D at 0x250bb120100>,\n",
       "  <matplotlib.lines.Line2D at 0x250bb1203a0>,\n",
       "  <matplotlib.lines.Line2D at 0x250bb121360>,\n",
       "  <matplotlib.lines.Line2D at 0x250bb121600>],\n",
       " 'caps': [<matplotlib.lines.Line2D at 0x250bb02ee90>,\n",
       "  <matplotlib.lines.Line2D at 0x250bb02f130>,\n",
       "  <matplotlib.lines.Line2D at 0x250bb068130>,\n",
       "  <matplotlib.lines.Line2D at 0x250bb0683d0>,\n",
       "  <matplotlib.lines.Line2D at 0x250bb069390>,\n",
       "  <matplotlib.lines.Line2D at 0x250bb069630>,\n",
       "  <matplotlib.lines.Line2D at 0x250bb06a5f0>,\n",
       "  <matplotlib.lines.Line2D at 0x250bb06a890>,\n",
       "  <matplotlib.lines.Line2D at 0x250bb06b850>,\n",
       "  <matplotlib.lines.Line2D at 0x250bb06baf0>,\n",
       "  <matplotlib.lines.Line2D at 0x250bae58af0>,\n",
       "  <matplotlib.lines.Line2D at 0x250bae58d90>,\n",
       "  <matplotlib.lines.Line2D at 0x250bae59d50>,\n",
       "  <matplotlib.lines.Line2D at 0x250bae59ff0>,\n",
       "  <matplotlib.lines.Line2D at 0x250bae5afb0>,\n",
       "  <matplotlib.lines.Line2D at 0x250bae5b250>,\n",
       "  <matplotlib.lines.Line2D at 0x250bae8c250>,\n",
       "  <matplotlib.lines.Line2D at 0x250bae8c4f0>,\n",
       "  <matplotlib.lines.Line2D at 0x250bae8d4b0>,\n",
       "  <matplotlib.lines.Line2D at 0x250bae8d750>,\n",
       "  <matplotlib.lines.Line2D at 0x250bae8e710>,\n",
       "  <matplotlib.lines.Line2D at 0x250bae8e9b0>,\n",
       "  <matplotlib.lines.Line2D at 0x250bae8f970>,\n",
       "  <matplotlib.lines.Line2D at 0x250bae8fc10>,\n",
       "  <matplotlib.lines.Line2D at 0x250baec8c10>,\n",
       "  <matplotlib.lines.Line2D at 0x250baec8eb0>,\n",
       "  <matplotlib.lines.Line2D at 0x250baec9e70>,\n",
       "  <matplotlib.lines.Line2D at 0x250baeca110>,\n",
       "  <matplotlib.lines.Line2D at 0x250baecb0d0>,\n",
       "  <matplotlib.lines.Line2D at 0x250baecb370>,\n",
       "  <matplotlib.lines.Line2D at 0x250baf08370>,\n",
       "  <matplotlib.lines.Line2D at 0x250baf08610>,\n",
       "  <matplotlib.lines.Line2D at 0x250baf095d0>,\n",
       "  <matplotlib.lines.Line2D at 0x250baf09870>,\n",
       "  <matplotlib.lines.Line2D at 0x250baf0a830>,\n",
       "  <matplotlib.lines.Line2D at 0x250baf0aad0>,\n",
       "  <matplotlib.lines.Line2D at 0x250baf0bac0>,\n",
       "  <matplotlib.lines.Line2D at 0x250baf0bd60>,\n",
       "  <matplotlib.lines.Line2D at 0x250baf3cd60>,\n",
       "  <matplotlib.lines.Line2D at 0x250baf3d000>,\n",
       "  <matplotlib.lines.Line2D at 0x250baf3dfc0>,\n",
       "  <matplotlib.lines.Line2D at 0x250baf3e260>,\n",
       "  <matplotlib.lines.Line2D at 0x250baf3f220>,\n",
       "  <matplotlib.lines.Line2D at 0x250baf3f4c0>,\n",
       "  <matplotlib.lines.Line2D at 0x250bb0b84c0>,\n",
       "  <matplotlib.lines.Line2D at 0x250bb0b8790>,\n",
       "  <matplotlib.lines.Line2D at 0x250bb0b9750>,\n",
       "  <matplotlib.lines.Line2D at 0x250bb0b99f0>,\n",
       "  <matplotlib.lines.Line2D at 0x250bb0ba9b0>,\n",
       "  <matplotlib.lines.Line2D at 0x250bb0bac50>,\n",
       "  <matplotlib.lines.Line2D at 0x250bb0bbc10>,\n",
       "  <matplotlib.lines.Line2D at 0x250bb0bbeb0>,\n",
       "  <matplotlib.lines.Line2D at 0x250bb0ecee0>,\n",
       "  <matplotlib.lines.Line2D at 0x250bb0ed180>,\n",
       "  <matplotlib.lines.Line2D at 0x250bb0ee140>,\n",
       "  <matplotlib.lines.Line2D at 0x250bb0ee3e0>,\n",
       "  <matplotlib.lines.Line2D at 0x250bb0ef3a0>,\n",
       "  <matplotlib.lines.Line2D at 0x250bb0ef640>,\n",
       "  <matplotlib.lines.Line2D at 0x250bb120640>,\n",
       "  <matplotlib.lines.Line2D at 0x250bb1208e0>,\n",
       "  <matplotlib.lines.Line2D at 0x250bb1218a0>,\n",
       "  <matplotlib.lines.Line2D at 0x250bb121b40>],\n",
       " 'boxes': [<matplotlib.lines.Line2D at 0x250bb02e6b0>,\n",
       "  <matplotlib.lines.Line2D at 0x250bb02f910>,\n",
       "  <matplotlib.lines.Line2D at 0x250bb068bb0>,\n",
       "  <matplotlib.lines.Line2D at 0x250bb069e10>,\n",
       "  <matplotlib.lines.Line2D at 0x250bb06b070>,\n",
       "  <matplotlib.lines.Line2D at 0x250bae58310>,\n",
       "  <matplotlib.lines.Line2D at 0x250bae59570>,\n",
       "  <matplotlib.lines.Line2D at 0x250bae5a7d0>,\n",
       "  <matplotlib.lines.Line2D at 0x250bae5ba30>,\n",
       "  <matplotlib.lines.Line2D at 0x250bae8ccd0>,\n",
       "  <matplotlib.lines.Line2D at 0x250bae8df30>,\n",
       "  <matplotlib.lines.Line2D at 0x250bae8f190>,\n",
       "  <matplotlib.lines.Line2D at 0x250baec8430>,\n",
       "  <matplotlib.lines.Line2D at 0x250baec9690>,\n",
       "  <matplotlib.lines.Line2D at 0x250baeca8f0>,\n",
       "  <matplotlib.lines.Line2D at 0x250baecbb50>,\n",
       "  <matplotlib.lines.Line2D at 0x250baf08df0>,\n",
       "  <matplotlib.lines.Line2D at 0x250baf0a050>,\n",
       "  <matplotlib.lines.Line2D at 0x250baf0b2b0>,\n",
       "  <matplotlib.lines.Line2D at 0x250baf3c580>,\n",
       "  <matplotlib.lines.Line2D at 0x250baf3d7e0>,\n",
       "  <matplotlib.lines.Line2D at 0x250baf3ea40>,\n",
       "  <matplotlib.lines.Line2D at 0x250baf3fca0>,\n",
       "  <matplotlib.lines.Line2D at 0x250bb0b8f70>,\n",
       "  <matplotlib.lines.Line2D at 0x250bb0ba1d0>,\n",
       "  <matplotlib.lines.Line2D at 0x250bb0bb430>,\n",
       "  <matplotlib.lines.Line2D at 0x250bb0ec6d0>,\n",
       "  <matplotlib.lines.Line2D at 0x250bb0ed960>,\n",
       "  <matplotlib.lines.Line2D at 0x250bb0eebc0>,\n",
       "  <matplotlib.lines.Line2D at 0x250bb0efe20>,\n",
       "  <matplotlib.lines.Line2D at 0x250bb1210c0>],\n",
       " 'medians': [<matplotlib.lines.Line2D at 0x250bb02f3d0>,\n",
       "  <matplotlib.lines.Line2D at 0x250bb068670>,\n",
       "  <matplotlib.lines.Line2D at 0x250bb0698d0>,\n",
       "  <matplotlib.lines.Line2D at 0x250bb06ab30>,\n",
       "  <matplotlib.lines.Line2D at 0x250bb06bd90>,\n",
       "  <matplotlib.lines.Line2D at 0x250bae59030>,\n",
       "  <matplotlib.lines.Line2D at 0x250bae5a290>,\n",
       "  <matplotlib.lines.Line2D at 0x250bae5b4f0>,\n",
       "  <matplotlib.lines.Line2D at 0x250bae8c790>,\n",
       "  <matplotlib.lines.Line2D at 0x250bae8d9f0>,\n",
       "  <matplotlib.lines.Line2D at 0x250bae8ec50>,\n",
       "  <matplotlib.lines.Line2D at 0x250bae8feb0>,\n",
       "  <matplotlib.lines.Line2D at 0x250baec9150>,\n",
       "  <matplotlib.lines.Line2D at 0x250baeca3b0>,\n",
       "  <matplotlib.lines.Line2D at 0x250baecb610>,\n",
       "  <matplotlib.lines.Line2D at 0x250baf088b0>,\n",
       "  <matplotlib.lines.Line2D at 0x250baf09b10>,\n",
       "  <matplotlib.lines.Line2D at 0x250baf0ad70>,\n",
       "  <matplotlib.lines.Line2D at 0x250baf3c040>,\n",
       "  <matplotlib.lines.Line2D at 0x250baf3d2a0>,\n",
       "  <matplotlib.lines.Line2D at 0x250baf3e500>,\n",
       "  <matplotlib.lines.Line2D at 0x250baf3f760>,\n",
       "  <matplotlib.lines.Line2D at 0x250bb0b8a30>,\n",
       "  <matplotlib.lines.Line2D at 0x250bb0b9c90>,\n",
       "  <matplotlib.lines.Line2D at 0x250bb0baef0>,\n",
       "  <matplotlib.lines.Line2D at 0x250bb0ec190>,\n",
       "  <matplotlib.lines.Line2D at 0x250bb0ed420>,\n",
       "  <matplotlib.lines.Line2D at 0x250bb0ee680>,\n",
       "  <matplotlib.lines.Line2D at 0x250bb0ef8e0>,\n",
       "  <matplotlib.lines.Line2D at 0x250bb120b80>,\n",
       "  <matplotlib.lines.Line2D at 0x250bb121de0>],\n",
       " 'fliers': [<matplotlib.lines.Line2D at 0x250bb02f670>,\n",
       "  <matplotlib.lines.Line2D at 0x250bb068910>,\n",
       "  <matplotlib.lines.Line2D at 0x250bb069b70>,\n",
       "  <matplotlib.lines.Line2D at 0x250bb06add0>,\n",
       "  <matplotlib.lines.Line2D at 0x250bae58070>,\n",
       "  <matplotlib.lines.Line2D at 0x250bae592d0>,\n",
       "  <matplotlib.lines.Line2D at 0x250bae5a530>,\n",
       "  <matplotlib.lines.Line2D at 0x250bae5b790>,\n",
       "  <matplotlib.lines.Line2D at 0x250bae8ca30>,\n",
       "  <matplotlib.lines.Line2D at 0x250bae8dc90>,\n",
       "  <matplotlib.lines.Line2D at 0x250bae8eef0>,\n",
       "  <matplotlib.lines.Line2D at 0x250baec8190>,\n",
       "  <matplotlib.lines.Line2D at 0x250baec93f0>,\n",
       "  <matplotlib.lines.Line2D at 0x250baeca650>,\n",
       "  <matplotlib.lines.Line2D at 0x250baecb8b0>,\n",
       "  <matplotlib.lines.Line2D at 0x250baf08b50>,\n",
       "  <matplotlib.lines.Line2D at 0x250baf09db0>,\n",
       "  <matplotlib.lines.Line2D at 0x250baf0b010>,\n",
       "  <matplotlib.lines.Line2D at 0x250baf3c2e0>,\n",
       "  <matplotlib.lines.Line2D at 0x250baf3d540>,\n",
       "  <matplotlib.lines.Line2D at 0x250baf3e7a0>,\n",
       "  <matplotlib.lines.Line2D at 0x250baf3fa00>,\n",
       "  <matplotlib.lines.Line2D at 0x250bb0b8cd0>,\n",
       "  <matplotlib.lines.Line2D at 0x250bb0b9f30>,\n",
       "  <matplotlib.lines.Line2D at 0x250bb0bb190>,\n",
       "  <matplotlib.lines.Line2D at 0x250bb0ec430>,\n",
       "  <matplotlib.lines.Line2D at 0x250bb0ed6c0>,\n",
       "  <matplotlib.lines.Line2D at 0x250bb0ee920>,\n",
       "  <matplotlib.lines.Line2D at 0x250bb0efb80>,\n",
       "  <matplotlib.lines.Line2D at 0x250bb120e20>,\n",
       "  <matplotlib.lines.Line2D at 0x250bb122080>],\n",
       " 'means': []}"
      ]
     },
     "execution_count": 26,
     "metadata": {},
     "output_type": "execute_result"
    },
    {
     "data": {
      "image/png": "[encoded data removed]",
      "text/plain": [
       "<Figure size 640x480 with 1 Axes>"
      ]
     },
     "metadata": {},
     "output_type": "display_data"
    }
   ],
   "source": [
    "plt.boxplot(mas)"
   ]
  },
  {
   "cell_type": "code",
   "execution_count": 28,
   "metadata": {},
   "outputs": [
    {
     "data": {
      "text/plain": [
       "0.020234512"
      ]
     },
     "execution_count": 28,
     "metadata": {},
     "output_type": "execute_result"
    }
   ],
   "source": [
    "np.mean(masmeans)"
   ]
  },
  {
   "cell_type": "code",
   "execution_count": 29,
   "metadata": {},
   "outputs": [
    {
     "data": {
      "text/plain": [
       "0.11134293"
      ]
     },
     "execution_count": 29,
     "metadata": {},
     "output_type": "execute_result"
    }
   ],
   "source": [
    "np.mean(attmeans)"
   ]
  },
  {
   "cell_type": "code",
   "execution_count": null,
   "metadata": {},
   "outputs": [],
   "source": []
  }
 ],
 "metadata": {
  "kernelspec": {
   "display_name": "keras-jax",
   "language": "python",
   "name": "python3"
  },
  "language_info": {
   "codemirror_mode": {
    "name": "ipython",
    "version": 3
   },
   "file_extension": ".py",
   "mimetype": "text/x-python",
   "name": "python",
   "nbconvert_exporter": "python",
   "pygments_lexer": "ipython3",
   "version": "3.10.13"
  }
 },
 "nbformat": 4,
 "nbformat_minor": 2
}

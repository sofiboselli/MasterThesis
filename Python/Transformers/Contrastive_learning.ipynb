{
 "cells": [
  {
   "cell_type": "code",
   "execution_count": 1,
   "metadata": {},
   "outputs": [],
   "source": [
    "import torch\n",
    "import pytorch_lightning as pl\n",
    "from audtorch.metrics import PearsonR\n",
    "from contrastive_data import EEG_Dataset\n",
    "from torchmetrics.wrappers import Running\n",
    "from torchmetrics.aggregation import MeanMetric\n",
    "from torchmetrics.classification import BinaryAccuracy\n",
    "from torch.utils.data import DataLoader,TensorDataset\n",
    "from pytorch_lightning.callbacks import EarlyStopping,ModelCheckpoint,ModelSummary\n",
    "import os\n",
    "from contrastive_net import EEG_Conformer\n",
    "from sklearn.model_selection import train_test_split\n",
    "import numpy as np\n",
    "from torch import nn\n",
    "torch.set_float32_matmul_precision('medium')\n",
    "import torchaudio\n",
    "from info_nce import InfoNCE, info_nce"
   ]
  },
  {
   "cell_type": "code",
   "execution_count": 2,
   "metadata": {},
   "outputs": [],
   "source": [
    "def findfiles(search_dir, subjectstring):\n",
    "    matching_files = []\n",
    "\n",
    "    for dirpath, _, filenames in os.walk(search_dir):\n",
    "        for filename in filenames:\n",
    "            if subjectstring in filename:\n",
    "                full_path = os.path.join(dirpath, filename)\n",
    "                matching_files.append(full_path)\n",
    "\n",
    "    return matching_files"
   ]
  },
  {
   "cell_type": "code",
   "execution_count": 3,
   "metadata": {},
   "outputs": [],
   "source": [
    "class Pearsonr(torch.nn.Module):\n",
    "    def __init__(self):\n",
    "        super().__init__()\n",
    "\n",
    "    def forward(self,P,O):\n",
    "\n",
    "        (n,c,d) = O.shape      # n traces of t samples\n",
    "\n",
    "        DO = O - (torch.einsum(\"ncd->n\", O) / (c*d)).reshape(-1,1,1) # compute O - mean(O)\n",
    "        DP = P - (torch.einsum(\"ncd->n\", P) / (c*d)).reshape(-1,1,1) # compute P - mean(P)\n",
    "\n",
    "        cov = torch.einsum(\"ncd,mcd->nm\", DP, DO)\n",
    "        varP = torch.einsum(\"nm...,nm...->n\", DP, DP)\n",
    "        varO = torch.einsum(\"nt...,nt...->n\", DO, DO)\n",
    "        tmp = torch.einsum(\"m,t->mt\", varP, varO)\n",
    "\n",
    "        return cov / torch.sqrt(tmp)"
   ]
  },
  {
   "cell_type": "code",
   "execution_count": 5,
   "metadata": {},
   "outputs": [],
   "source": [
    "class CLIP(torch.nn.Module):\n",
    "    def __init__(self,scale,temp,bias,acc=False):\n",
    "        super().__init__()\n",
    "        self.scale = scale\n",
    "        self.temp = temp\n",
    "        self.acc = acc\n",
    "        self.bias=bias\n",
    "        self.pr = Pearsonr()\n",
    "    \n",
    "    def forward(self,eemb,aamb):\n",
    "\n",
    "        n = eemb.size(0)\n",
    "        \n",
    "\n",
    "        if self.scale:\n",
    "            eemb =(eemb - eemb.mean(dim=(1,2),keepdim=True))/eemb.std(dim=(1,2),keepdim=True)\n",
    "            aamb =(aamb - aamb.mean(dim=(1,2),keepdim=True))/aamb.std(dim=(1,2),keepdim=True)\n",
    "\n",
    "\n",
    "        labels = torch.arange(len(eemb),device=aamb.device)\n",
    "    \n",
    "        logits = self.pr(eemb,aamb)*torch.exp(self.temp) + self.bias\n",
    "\n",
    "\n",
    "        if self.acc:\n",
    "            return logits\n",
    "\n",
    "        return torch.nn.functional.cross_entropy(logits,labels)"
   ]
  },
  {
   "cell_type": "code",
   "execution_count": 7,
   "metadata": {},
   "outputs": [],
   "source": [
    "class EnvConv(nn.Module):\n",
    "\n",
    "    def __init__(self,seconds=3):\n",
    "        super().__init__()\n",
    "        self.conv = nn.Conv1d(129,64,kernel_size=3,padding=\"same\")\n",
    "        self.pool = nn.MaxPool1d(64)\n",
    "    def forward(self,x):\n",
    "        x = self.conv(x)\n",
    "        x = x.transpose(1,2)\n",
    "        x = self.pool(x)\n",
    "        x = x.squeeze(-1)\n",
    "        return x"
   ]
  },
  {
   "cell_type": "code",
   "execution_count": 8,
   "metadata": {},
   "outputs": [],
   "source": [
    "class SubjectLayers(nn.Module):\n",
    "    def __init__(self, in_channels: int, out_channels: int, n_subjects: int):\n",
    "        super().__init__()\n",
    "        self.weights = nn.Parameter(torch.randn(n_subjects, in_channels, out_channels))\n",
    "        self.weights.data *= 1 / in_channels**0.5\n",
    "\n",
    "    def forward(self, x, subjects):\n",
    "        _, C, D = self.weights.shape\n",
    "        weights = self.weights.gather(0, subjects.view(-1, 1, 1).expand(-1, C, D))\n",
    "        return torch.einsum(\"bct,bcd->bdt\", x, weights)"
   ]
  },
  {
   "cell_type": "code",
   "execution_count": 9,
   "metadata": {},
   "outputs": [],
   "source": [
    "class EEGConv(nn.Module):\n",
    "\n",
    "    def __init__(self,seconds=3):\n",
    "        super().__init__()\n",
    "        self.subconv = SubjectLayers(64,64,33)\n",
    "        self.conv = nn.Conv1d(64,64,kernel_size=9,padding=\"same\")\n",
    "        self.lin = nn.LazyLinear(192)\n",
    "        self.pool = nn.MaxPool1d(64)\n",
    "    def forward(self,x,subject):\n",
    "        x = self.subconv(x,subject)\n",
    "        x = self.conv(x)\n",
    "        x = x.transpose(1,2)\n",
    "        x = self.pool(x)\n",
    "        x = x.squeeze(-1)\n",
    "        return x"
   ]
  },
  {
   "cell_type": "code",
   "execution_count": 10,
   "metadata": {},
   "outputs": [
    {
     "name": "stderr",
     "output_type": "stream",
     "text": [
      "c:\\Users\\gauta\\anaconda3\\envs\\keras-jax\\lib\\site-packages\\torch\\nn\\modules\\lazy.py:180: UserWarning: Lazy modules are a new feature under heavy development so changes to the API or functionality can happen at any moment.\n",
      "  warnings.warn('Lazy modules are a new feature under heavy development '\n"
     ]
    }
   ],
   "source": [
    "e = EEGConv()\n",
    "r = torch.Tensor(np.array([5])).to(torch.int64)\n",
    "x = torch.rand(32,64,64*3)\n",
    "out = e(x,r)"
   ]
  },
  {
   "cell_type": "code",
   "execution_count": 11,
   "metadata": {},
   "outputs": [
    {
     "data": {
      "text/plain": [
       "torch.Size([32, 192])"
      ]
     },
     "execution_count": 11,
     "metadata": {},
     "output_type": "execute_result"
    }
   ],
   "source": [
    "out.shape"
   ]
  },
  {
   "cell_type": "code",
   "execution_count": 20,
   "metadata": {},
   "outputs": [],
   "source": [
    "class Encode(pl.LightningModule):\n",
    "    def __init__(self):\n",
    "        super().__init__()\n",
    "        #self.encoder = EEG_Conformer(nblock=2,nheads=2,dropout=0.5,kernel_size=5,seconds=3)\n",
    "        self.encoder = EEGConv(seconds=2)\n",
    "        self.temp = torch.nn.Parameter(torch.log(torch.ones(1)))\n",
    "        self.bias = torch.nn.Parameter(torch.ones([])*0)\n",
    "        self.loss_fn = SigLip(scale=True,temp= self.temp,bias=self.bias)\n",
    "        self.running_loss1 = Running(MeanMetric(), window=32)\n",
    "        self.running_loss22 = Running(MeanMetric(),window=32)\n",
    "        self.running_loss = Running(MeanMetric(), window=32)\n",
    "        self.running_loss2 = Running(MeanMetric(),window=32)\n",
    "        self.tracc = Running(MeanMetric(),window=32)\n",
    "        self.valacc = Running(MeanMetric(),window=32)\n",
    "        self.audproj = EnvConv(seconds=3)\n",
    "        self.binloss = nn.BCELoss()\n",
    "        #self.acccont = SigLip(scale=True,temp=self.temp,acc=True)\n",
    "\n",
    "        self.los = PearsonR()\n",
    "        self.accfn = PearsonR(reduction=None)\n",
    "        self.lr = 3e-4\n",
    "        self.loss2 = InfoNCE(negative_mode='unpaired')\n",
    "    \n",
    "\n",
    "    def forward(self, eeg):\n",
    "        # in lightning, forward defines the prediction/inference actions\n",
    "        hidden = self.encoder(eeg)\n",
    "        return hidden\n",
    "\n",
    "    def training_step(self, batch, batch_idx):\n",
    "        # training_step defines the train loop. It is independent of forward\n",
    "        eeg,att,mas,_,subject = batch\n",
    "\n",
    "        eeg_emb = self.encoder(eeg,subject)\n",
    "        \n",
    "        attf = self.audproj(att)\n",
    "        masf = self.audproj(mas)\n",
    "\n",
    "        #comb = torch.concatenate((attf,masf))\n",
    "\n",
    "\n",
    "\n",
    "        #loss2 = -self.los(eeg_emb,attf) + self.los(eeg_emb,masf) \n",
    "        loss =  self.loss2(eeg_emb,attf,masf)\n",
    "        \n",
    "\n",
    "\n",
    "        self.running_loss(loss)\n",
    "        #self.running_loss1(loss2)\n",
    "        \n",
    "\n",
    "\n",
    "        self.log('train_loss', self.running_loss.compute(), on_step=True, prog_bar=True)\n",
    "        #self.log('train_pearson_loss', self.running_loss1.compute(), on_step=True, prog_bar=True)\n",
    "        #self.log('train_accuracy',)\n",
    "\n",
    "        #m1 = torch.diagonal(self.acccont(eeg_emb,attf))\n",
    "        #m2 = torch.diagonal(self.acccont(eeg_emb,masf))\n",
    "\n",
    "\n",
    "\n",
    "        \n",
    "\n",
    "        m1 = self.accfn(eeg_emb,attf)\n",
    "        m2 = self.accfn(eeg_emb,masf)\n",
    "\n",
    "        \n",
    "\n",
    "\n",
    "\n",
    "\n",
    "        acc = torch.sum(m1>m2)/m1.shape[0]\n",
    "        self.tracc(acc)\n",
    "        self.log(\"train_accuracy\",self.tracc.compute(),prog_bar=True,on_step=True)\n",
    "        \n",
    "    \n",
    "\n",
    "\n",
    "        return loss\n",
    "\n",
    "    \n",
    "    def validation_step(self, batch, batch_idx):\n",
    "        # training_step defines the train loop. It is independent of forward\n",
    "        eeg,att,mas,_,subject = batch\n",
    "\n",
    "        eeg_emb = self.encoder(eeg,subject)\n",
    "        \n",
    "        attf = self.audproj(att)\n",
    "        masf = self.audproj(mas)\n",
    "\n",
    "        #comb = torch.concatenate((attf,masf))\n",
    "\n",
    "\n",
    "\n",
    "\n",
    "\n",
    "        #loss2 = -self.los(eeg_emb,attf) + self.los(eeg_emb,masf) \n",
    "        #loss1 = self.loss_fn(eeg_emb,att)\n",
    "        loss =  self.loss2(eeg_emb,attf,masf)\n",
    "\n",
    "        self.running_loss2(loss)\n",
    "        #self.running_loss22(loss2)\n",
    "\n",
    "        \n",
    "\n",
    "        self.log('val_loss', self.running_loss2.compute(), on_step=True, prog_bar=True)\n",
    "        #self.log('val_loss', self.running_loss22.compute(), on_epoch=True, prog_bar=True)\n",
    "\n",
    "        m1 = self.accfn(eeg_emb,attf)\n",
    "        m2 = self.accfn(eeg_emb,masf)\n",
    "\n",
    "        #m1 = torch.diagonal(self.acccont(eeg_emb,attf))\n",
    "        #m2 = torch.diagonal(self.acccont(eeg_emb,masf))\n",
    "\n",
    "        acc = torch.sum(m1>m2)/m1.shape[0]\n",
    "        self.valacc(acc)\n",
    "        self.log(\"val_accuracy\",self.valacc.compute(),prog_bar=True,on_step=True)\n",
    "\n",
    "        return loss\n",
    "\n",
    "    def configure_optimizers(self):\n",
    "        optimizer = torch.optim.Adam(self.parameters(), lr=self.lr,weight_decay=1e-6)\n",
    "        scheduler = torch.optim.lr_scheduler.CosineAnnealingLR(optimizer,800)\n",
    "        return [optimizer],[scheduler]"
   ]
  },
  {
   "cell_type": "code",
   "execution_count": 21,
   "metadata": {},
   "outputs": [],
   "source": [
    "dir = \"Try2/\""
   ]
  },
  {
   "cell_type": "code",
   "execution_count": 22,
   "metadata": {},
   "outputs": [],
   "source": [
    "train = {}\n",
    "val = {}\n",
    "test = {}\n",
    "\n",
    "for i in range(1,33):\n",
    "    if i ==14:\n",
    "        continue\n",
    "    substr = \"subject_\" + str(i) + \"_\"\n",
    "\n",
    "    subjectlist = findfiles(dir,substr)\n",
    "    spfiles,testfiles = train_test_split(subjectlist,test_size=0.1,random_state=42)\n",
    "    trainfiles,valfiles = train_test_split(spfiles,test_size=0.12,random_state=42)\n",
    "\n",
    "    train[substr] = trainfiles\n",
    "    val[substr] = valfiles\n",
    "    test[substr] = testfiles\n"
   ]
  },
  {
   "cell_type": "code",
   "execution_count": 23,
   "metadata": {},
   "outputs": [],
   "source": [
    "trains = sum(train.values(),[])\n",
    "vals = sum(val.values(),[])\n",
    "tests = sum(test.values(),[])"
   ]
  },
  {
   "cell_type": "code",
   "execution_count": 24,
   "metadata": {},
   "outputs": [],
   "source": [
    "import random\n",
    "random.shuffle(trains)\n",
    "random.shuffle(vals)\n",
    "random.shuffle(tests)"
   ]
  },
  {
   "cell_type": "code",
   "execution_count": 26,
   "metadata": {},
   "outputs": [],
   "source": [
    "tr_dataset = EEG_Dataset(files=trains,seconds=3,overlap=0,fs=64)\n",
    "val_dataset = EEG_Dataset(files=vals,seconds=3,overlap=0,fs=64)\n",
    "\n",
    "tr_loader = DataLoader(tr_dataset,batch_size=32,num_workers=3,persistent_workers=True,shuffle=True)\n",
    "val_loader = DataLoader(val_dataset,batch_size=32,num_workers=3,persistent_workers=True)"
   ]
  },
  {
   "cell_type": "code",
   "execution_count": 27,
   "metadata": {},
   "outputs": [],
   "source": [
    "checkpoint_callback = ModelCheckpoint(monitor='val_loss',dirpath='./EriksholmFiles/',filename='pretrained_weights',auto_insert_metric_name=False,verbose=True,enable_version_counter=False)\n",
    "early_stopping = EarlyStopping('val_loss',patience=10)\n",
    "ms = ModelSummary(max_depth=3)"
   ]
  },
  {
   "cell_type": "code",
   "execution_count": 28,
   "metadata": {},
   "outputs": [
    {
     "name": "stderr",
     "output_type": "stream",
     "text": [
      "c:\\Users\\gauta\\anaconda3\\envs\\keras-jax\\lib\\site-packages\\torch\\nn\\modules\\lazy.py:180: UserWarning: Lazy modules are a new feature under heavy development so changes to the API or functionality can happen at any moment.\n",
      "  warnings.warn('Lazy modules are a new feature under heavy development '\n",
      "Trainer already configured with model summary callbacks: [<class 'pytorch_lightning.callbacks.model_summary.ModelSummary'>]. Skipping setting a default `ModelSummary` callback.\n",
      "GPU available: True (cuda), used: True\n",
      "TPU available: False, using: 0 TPU cores\n",
      "IPU available: False, using: 0 IPUs\n",
      "HPU available: False, using: 0 HPUs\n",
      "LOCAL_RANK: 0 - CUDA_VISIBLE_DEVICES: [0]\n",
      "\n",
      "   | Name                       | Type          | Params\n",
      "--------------------------------------------------------------\n",
      "0  | encoder                    | EEGConv       | 172 K \n",
      "1  | encoder.subconv            | SubjectLayers | 135 K \n",
      "2  | encoder.conv               | Conv1d        | 36.9 K\n",
      "3  | encoder.lin                | LazyLinear    | 0     \n",
      "4  | encoder.pool               | MaxPool1d     | 0     \n",
      "5  | loss_fn                    | SigLip        | 2     \n",
      "6  | loss_fn.pr                 | Pearsonr      | 0     \n",
      "7  | running_loss1              | Running       | 0     \n",
      "8  | running_loss1.base_metric  | MeanMetric    | 0     \n",
      "9  | running_loss22             | Running       | 0     \n",
      "10 | running_loss22.base_metric | MeanMetric    | 0     \n",
      "11 | running_loss               | Running       | 0     \n",
      "12 | running_loss.base_metric   | MeanMetric    | 0     \n",
      "13 | running_loss2              | Running       | 0     \n",
      "14 | running_loss2.base_metric  | MeanMetric    | 0     \n",
      "15 | tracc                      | Running       | 0     \n",
      "16 | tracc.base_metric          | MeanMetric    | 0     \n",
      "17 | valacc                     | Running       | 0     \n",
      "18 | valacc.base_metric         | MeanMetric    | 0     \n",
      "19 | audproj                    | EnvConv       | 24.8 K\n",
      "20 | audproj.conv               | Conv1d        | 24.8 K\n",
      "21 | audproj.pool               | MaxPool1d     | 0     \n",
      "22 | binloss                    | BCELoss       | 0     \n",
      "23 | loss2                      | InfoNCE       | 0     \n",
      "--------------------------------------------------------------\n",
      "196 K     Trainable params\n",
      "0         Non-trainable params\n",
      "196 K     Total params\n",
      "0.788     Total estimated model params size (MB)\n"
     ]
    },
    {
     "data": {
      "application/vnd.jupyter.widget-view+json": {
       "model_id": "8a801009c19945be83bf6ce0f0a8b486",
       "version_major": 2,
       "version_minor": 0
      },
      "text/plain": [
       "Sanity Checking: |          | 0/? [00:00<?, ?it/s]"
      ]
     },
     "metadata": {},
     "output_type": "display_data"
    },
    {
     "data": {
      "application/vnd.jupyter.widget-view+json": {
       "model_id": "e531ca45227e433abf01297842542f62",
       "version_major": 2,
       "version_minor": 0
      },
      "text/plain": [
       "Training: |          | 0/? [00:00<?, ?it/s]"
      ]
     },
     "metadata": {},
     "output_type": "display_data"
    },
    {
     "data": {
      "application/vnd.jupyter.widget-view+json": {
       "model_id": "6876ddae987a4378974c889ccec2442d",
       "version_major": 2,
       "version_minor": 0
      },
      "text/plain": [
       "Validation: |          | 0/? [00:00<?, ?it/s]"
      ]
     },
     "metadata": {},
     "output_type": "display_data"
    },
    {
     "name": "stderr",
     "output_type": "stream",
     "text": [
      "Epoch 0, global step 596: 'val_loss' reached 3.50003 (best 3.50003), saving model to 'C:\\\\Users\\\\gauta\\\\Thesis\\\\PyTorch\\\\EriksholmFiles\\\\pretrained_weights.ckpt' as top 1\n"
     ]
    },
    {
     "data": {
      "application/vnd.jupyter.widget-view+json": {
       "model_id": "9221414824d34dd3a0759f188fc5be38",
       "version_major": 2,
       "version_minor": 0
      },
      "text/plain": [
       "Validation: |          | 0/? [00:00<?, ?it/s]"
      ]
     },
     "metadata": {},
     "output_type": "display_data"
    },
    {
     "name": "stderr",
     "output_type": "stream",
     "text": [
      "Epoch 1, global step 1192: 'val_loss' reached 3.47723 (best 3.47723), saving model to 'C:\\\\Users\\\\gauta\\\\Thesis\\\\PyTorch\\\\EriksholmFiles\\\\pretrained_weights.ckpt' as top 1\n"
     ]
    },
    {
     "data": {
      "application/vnd.jupyter.widget-view+json": {
       "model_id": "6385b60b43014676b5dbcee746ab3ad0",
       "version_major": 2,
       "version_minor": 0
      },
      "text/plain": [
       "Validation: |          | 0/? [00:00<?, ?it/s]"
      ]
     },
     "metadata": {},
     "output_type": "display_data"
    },
    {
     "name": "stderr",
     "output_type": "stream",
     "text": [
      "Epoch 2, global step 1788: 'val_loss' reached 3.46838 (best 3.46838), saving model to 'C:\\\\Users\\\\gauta\\\\Thesis\\\\PyTorch\\\\EriksholmFiles\\\\pretrained_weights.ckpt' as top 1\n"
     ]
    },
    {
     "data": {
      "application/vnd.jupyter.widget-view+json": {
       "model_id": "3b24b73e622d4e4289133df912708c3f",
       "version_major": 2,
       "version_minor": 0
      },
      "text/plain": [
       "Validation: |          | 0/? [00:00<?, ?it/s]"
      ]
     },
     "metadata": {},
     "output_type": "display_data"
    },
    {
     "name": "stderr",
     "output_type": "stream",
     "text": [
      "Epoch 3, global step 2384: 'val_loss' reached 3.45866 (best 3.45866), saving model to 'C:\\\\Users\\\\gauta\\\\Thesis\\\\PyTorch\\\\EriksholmFiles\\\\pretrained_weights.ckpt' as top 1\n"
     ]
    },
    {
     "data": {
      "application/vnd.jupyter.widget-view+json": {
       "model_id": "c9021bcab26d447f97095f90a97f7151",
       "version_major": 2,
       "version_minor": 0
      },
      "text/plain": [
       "Validation: |          | 0/? [00:00<?, ?it/s]"
      ]
     },
     "metadata": {},
     "output_type": "display_data"
    },
    {
     "name": "stderr",
     "output_type": "stream",
     "text": [
      "Epoch 4, global step 2980: 'val_loss' reached 3.45185 (best 3.45185), saving model to 'C:\\\\Users\\\\gauta\\\\Thesis\\\\PyTorch\\\\EriksholmFiles\\\\pretrained_weights.ckpt' as top 1\n",
      "c:\\Users\\gauta\\anaconda3\\envs\\keras-jax\\lib\\site-packages\\pytorch_lightning\\trainer\\call.py:54: Detected KeyboardInterrupt, attempting graceful shutdown...\n"
     ]
    }
   ],
   "source": [
    "enc = Encode()\n",
    "\n",
    "trainer = pl.Trainer(max_epochs=300,accelerator='gpu',callbacks=[checkpoint_callback,ms,early_stopping])\n",
    "trainer.fit(enc, tr_loader,val_dataloaders=val_loader)"
   ]
  },
  {
   "cell_type": "code",
   "execution_count": 39,
   "metadata": {},
   "outputs": [],
   "source": [
    "m = tr_dataset.__getitem__(9)"
   ]
  },
  {
   "cell_type": "code",
   "execution_count": 46,
   "metadata": {},
   "outputs": [],
   "source": [
    "enc = enc.cpu()"
   ]
  },
  {
   "cell_type": "code",
   "execution_count": 50,
   "metadata": {},
   "outputs": [],
   "source": [
    "out = enc.encoder(m[0].unsqueeze(0),m[4])"
   ]
  },
  {
   "cell_type": "code",
   "execution_count": 65,
   "metadata": {},
   "outputs": [
    {
     "data": {
      "text/plain": [
       "Parameter containing:\n",
       "tensor([0.3138], requires_grad=True)"
      ]
     },
     "execution_count": 65,
     "metadata": {},
     "output_type": "execute_result"
    }
   ],
   "source": [
    "enc.temp"
   ]
  },
  {
   "cell_type": "code",
   "execution_count": 63,
   "metadata": {},
   "outputs": [
    {
     "data": {
      "text/plain": [
       "tensor(-3.5390e-08)"
      ]
     },
     "execution_count": 63,
     "metadata": {},
     "output_type": "execute_result"
    }
   ],
   "source": [
    "m[1][0].mean()"
   ]
  },
  {
   "cell_type": "code",
   "execution_count": 17,
   "metadata": {},
   "outputs": [
    {
     "data": {
      "text/plain": [
       "tensor([[44.],\n",
       "        [ 1.]])"
      ]
     },
     "execution_count": 17,
     "metadata": {},
     "output_type": "execute_result"
    }
   ],
   "source": [
    "m = torch.Tensor(np.array([44]))\n",
    "r = torch.Tensor(np.array([1]))\n",
    "torch.stack((m,r))"
   ]
  },
  {
   "cell_type": "code",
   "execution_count": 20,
   "metadata": {},
   "outputs": [
    {
     "name": "stdout",
     "output_type": "stream",
     "text": [
      "[10]\n"
     ]
    }
   ],
   "source": [
    "k = tr_dataset.__getitem__(8)[4]"
   ]
  },
  {
   "cell_type": "code",
   "execution_count": 21,
   "metadata": {},
   "outputs": [
    {
     "data": {
      "text/plain": [
       "tensor([10])"
      ]
     },
     "execution_count": 21,
     "metadata": {},
     "output_type": "execute_result"
    }
   ],
   "source": [
    "k"
   ]
  },
  {
   "cell_type": "code",
   "execution_count": null,
   "metadata": {},
   "outputs": [],
   "source": []
  },
  {
   "cell_type": "code",
   "execution_count": null,
   "metadata": {},
   "outputs": [],
   "source": []
  },
  {
   "cell_type": "code",
   "execution_count": 12,
   "metadata": {},
   "outputs": [
    {
     "data": {
      "text/html": [
       "\n",
       "                <audio  controls=\"controls\" >\n",
       "                    <source src=\"data:audio/wav;base64,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\" type=\"audio/wav\" />\n",
       "                    Your browser does not support the audio element.\n",
       "                </audio>\n",
       "              "
      ],
      "text/plain": [
       "<IPython.lib.display.Audio object>"
      ]
     },
     "execution_count": 12,
     "metadata": {},
     "output_type": "execute_result"
    }
   ],
   "source": [
    "from IPython.display import Audio\n",
    "\n",
    "Audio(k[2][0].numpy(),rate=16000)"
   ]
  },
  {
   "cell_type": "code",
   "execution_count": 53,
   "metadata": {},
   "outputs": [],
   "source": [
    "k = torch.abs(out)"
   ]
  },
  {
   "cell_type": "code",
   "execution_count": 20,
   "metadata": {},
   "outputs": [
    {
     "name": "stderr",
     "output_type": "stream",
     "text": [
      "c:\\Users\\gauta\\anaconda3\\envs\\keras-jax\\lib\\site-packages\\torch\\nn\\modules\\lazy.py:180: UserWarning: Lazy modules are a new feature under heavy development so changes to the API or functionality can happen at any moment.\n",
      "  warnings.warn('Lazy modules are a new feature under heavy development '\n"
     ]
    }
   ],
   "source": [
    "mod = Encode.load_from_checkpoint(\"./EriksholmFiles/pretrained_weights.ckpt\")"
   ]
  },
  {
   "cell_type": "code",
   "execution_count": 21,
   "metadata": {},
   "outputs": [],
   "source": [
    "def predict(loader,test_model):\n",
    "    test_loss = []\n",
    "    test_metric = []\n",
    "    test_masker = []\n",
    "    acc = []\n",
    "\n",
    "    with torch.no_grad():\n",
    "        for batch_data in loader:\n",
    "            inputs, outputs,masker,subj = batch_data[0], batch_data[1],batch_data[2],batch_data[4]\n",
    "            \n",
    "            # Forward pass\n",
    "            predictions = test_model.encoder(inputs,subj)\n",
    "            enva = test_model.audproj(outputs)\n",
    "            envm = test_model.audproj(masker)\n",
    "\n",
    "            # Compute loss\n",
    "            loss = -PearsonR()(enva, predictions).mean()\n",
    "\n",
    "            # Compute metric\n",
    "            metric = torch.mean(PearsonR(reduction=None)(enva, predictions),dim=1)\n",
    "            metric2 = torch.mean(PearsonR(reduction=None)(envm, predictions),dim=1)\n",
    "            accu = torch.sum(metric>metric2)\n",
    "\n",
    "            test_loss.append(loss.item())\n",
    "            test_metric.extend(metric.detach().cpu().numpy().reshape(-1))\n",
    "            test_masker.extend(metric2.detach().cpu().numpy().reshape(-1))\n",
    "            acc.append(accu.cpu().detach().numpy())\n",
    "    \n",
    "    return test_loss,np.array(test_metric),np.array(test_masker),np.array(acc)"
   ]
  },
  {
   "cell_type": "code",
   "execution_count": 22,
   "metadata": {},
   "outputs": [
    {
     "name": "stderr",
     "output_type": "stream",
     "text": [
      "\n"
     ]
    },
    {
     "name": "stderr",
     "output_type": "stream",
     "text": [
      "100%|██████████| 32/32 [00:42<00:00,  1.31s/it]\n"
     ]
    }
   ],
   "source": [
    "accuracy = []\n",
    "metric = []\n",
    "masker = []\n",
    "from tqdm import tqdm\n",
    "mod = mod.cpu().eval()\n",
    "for i in tqdm(range(1,33)):\n",
    "    if i ==14:\n",
    "        continue\n",
    "\n",
    "    subject = \"subject_\" + str(i) + \"_\"\n",
    "    sub_dataset = EEG_Dataset(files=val[subject],seconds=3,overlap=0,fs=64)\n",
    "    test_loader = DataLoader(sub_dataset,batch_size=1)\n",
    "\n",
    "    out = predict(test_loader,mod)\n",
    "\n",
    "    accuracy.append(np.mean(out[3]))\n",
    "    metric.append(out[1])\n",
    "    masker.append(out[2])\n",
    "\n"
   ]
  },
  {
   "cell_type": "code",
   "execution_count": 23,
   "metadata": {},
   "outputs": [
    {
     "data": {
      "text/plain": [
       "<BarContainer object of 31 artists>"
      ]
     },
     "execution_count": 23,
     "metadata": {},
     "output_type": "execute_result"
    },
    {
     "data": {
      "image/png": "[encoded data removed]",
      "text/plain": [
       "<Figure size 640x480 with 1 Axes>"
      ]
     },
     "metadata": {},
     "output_type": "display_data"
    }
   ],
   "source": [
    "import matplotlib.pyplot as plt\n",
    "plt.bar(np.arange(len(accuracy)),accuracy)"
   ]
  },
  {
   "cell_type": "code",
   "execution_count": 24,
   "metadata": {},
   "outputs": [
    {
     "data": {
      "text/plain": [
       "0.6586277521761393"
      ]
     },
     "execution_count": 24,
     "metadata": {},
     "output_type": "execute_result"
    }
   ],
   "source": [
    "np.mean(accuracy)"
   ]
  },
  {
   "cell_type": "code",
   "execution_count": 25,
   "metadata": {},
   "outputs": [
    {
     "data": {
      "text/plain": [
       "[0.5666666666666667,\n",
       " 0.7444444444444445,\n",
       " 0.7222222222222222,\n",
       " 0.6,\n",
       " 0.5666666666666667,\n",
       " 0.5555555555555556,\n",
       " 0.7111111111111111,\n",
       " 0.7111111111111111,\n",
       " 0.8333333333333334,\n",
       " 0.7222222222222222,\n",
       " 0.5888888888888889,\n",
       " 0.6555555555555556,\n",
       " 0.5555555555555556,\n",
       " 0.6222222222222222,\n",
       " 0.6222222222222222,\n",
       " 0.6888888888888889,\n",
       " 0.5777777777777777,\n",
       " 0.6888888888888889,\n",
       " 0.6111111111111112,\n",
       " 0.5714285714285714,\n",
       " 0.6,\n",
       " 0.6571428571428571,\n",
       " 0.9222222222222223,\n",
       " 0.5666666666666667,\n",
       " 0.4777777777777778,\n",
       " 0.6555555555555556,\n",
       " 0.6444444444444445,\n",
       " 0.8333333333333334,\n",
       " 0.7,\n",
       " 0.8,\n",
       " 0.6444444444444445]"
      ]
     },
     "execution_count": 25,
     "metadata": {},
     "output_type": "execute_result"
    }
   ],
   "source": [
    "accuracy"
   ]
  },
  {
   "cell_type": "code",
   "execution_count": 33,
   "metadata": {},
   "outputs": [],
   "source": [
    "k = [z - i for z,i in zip(attmeans,masmeans)]"
   ]
  },
  {
   "cell_type": "code",
   "execution_count": 34,
   "metadata": {},
   "outputs": [
    {
     "data": {
      "text/plain": [
       "<BarContainer object of 31 artists>"
      ]
     },
     "execution_count": 34,
     "metadata": {},
     "output_type": "execute_result"
    },
    {
     "data": {
      "image/png": "[encoded data removed]",
      "text/plain": [
       "<Figure size 640x480 with 1 Axes>"
      ]
     },
     "metadata": {},
     "output_type": "display_data"
    }
   ],
   "source": [
    "plt.bar(np.arange(len(k)),k)"
   ]
  },
  {
   "cell_type": "code",
   "execution_count": 26,
   "metadata": {},
   "outputs": [],
   "source": [
    "met = [np.squeeze(k) for k in metric]\n",
    "mas = [np.squeeze(k) for k in masker]"
   ]
  },
  {
   "cell_type": "code",
   "execution_count": 27,
   "metadata": {},
   "outputs": [],
   "source": [
    "attmeans = [np.mean(r) for r in met]\n",
    "masmeans = [np.mean(r) for r in mas]"
   ]
  },
  {
   "cell_type": "code",
   "execution_count": 28,
   "metadata": {},
   "outputs": [
    {
     "data": {
      "text/plain": [
       "<BarContainer object of 31 artists>"
      ]
     },
     "execution_count": 28,
     "metadata": {},
     "output_type": "execute_result"
    },
    {
     "data": {
      "image/png": "[encoded data removed]",
      "text/plain": [
       "<Figure size 640x480 with 1 Axes>"
      ]
     },
     "metadata": {},
     "output_type": "display_data"
    }
   ],
   "source": [
    "plt.bar(np.arange(len(attmeans)),attmeans)\n",
    "plt.bar(np.arange(len(masmeans)),masmeans)"
   ]
  },
  {
   "cell_type": "code",
   "execution_count": 29,
   "metadata": {},
   "outputs": [
    {
     "data": {
      "text/plain": [
       "{'whiskers': [<matplotlib.lines.Line2D at 0x26f10ac33d0>,\n",
       "  <matplotlib.lines.Line2D at 0x26f10ac3670>,\n",
       "  <matplotlib.lines.Line2D at 0x26f10af86a0>,\n",
       "  <matplotlib.lines.Line2D at 0x26f10af8940>,\n",
       "  <matplotlib.lines.Line2D at 0x26f10af9900>,\n",
       "  <matplotlib.lines.Line2D at 0x26f10af9ba0>,\n",
       "  <matplotlib.lines.Line2D at 0x26f10afab60>,\n",
       "  <matplotlib.lines.Line2D at 0x26f10afae00>,\n",
       "  <matplotlib.lines.Line2D at 0x26f10afbdc0>,\n",
       "  <matplotlib.lines.Line2D at 0x26f10b2c0a0>,\n",
       "  <matplotlib.lines.Line2D at 0x26f10b2d060>,\n",
       "  <matplotlib.lines.Line2D at 0x26f10b2d300>,\n",
       "  <matplotlib.lines.Line2D at 0x26f10b2e2c0>,\n",
       "  <matplotlib.lines.Line2D at 0x26f10b2e560>,\n",
       "  <matplotlib.lines.Line2D at 0x26f10b2f520>,\n",
       "  <matplotlib.lines.Line2D at 0x26f10b2f7c0>,\n",
       "  <matplotlib.lines.Line2D at 0x26f10b647c0>,\n",
       "  <matplotlib.lines.Line2D at 0x26f10b64a60>,\n",
       "  <matplotlib.lines.Line2D at 0x26f10b65a20>,\n",
       "  <matplotlib.lines.Line2D at 0x26f10b65cc0>,\n",
       "  <matplotlib.lines.Line2D at 0x26f10b66c80>,\n",
       "  <matplotlib.lines.Line2D at 0x26f10b66f20>,\n",
       "  <matplotlib.lines.Line2D at 0x26f10b67ee0>,\n",
       "  <matplotlib.lines.Line2D at 0x26f10b981c0>,\n",
       "  <matplotlib.lines.Line2D at 0x26f10b99060>,\n",
       "  <matplotlib.lines.Line2D at 0x26f10b99300>,\n",
       "  <matplotlib.lines.Line2D at 0x26f10b9a2c0>,\n",
       "  <matplotlib.lines.Line2D at 0x26f10b9a560>,\n",
       "  <matplotlib.lines.Line2D at 0x26f10b9b520>,\n",
       "  <matplotlib.lines.Line2D at 0x26f10b9b7c0>,\n",
       "  <matplotlib.lines.Line2D at 0x26f284807c0>,\n",
       "  <matplotlib.lines.Line2D at 0x26f28480a60>,\n",
       "  <matplotlib.lines.Line2D at 0x26f28481a20>,\n",
       "  <matplotlib.lines.Line2D at 0x26f28481cc0>,\n",
       "  <matplotlib.lines.Line2D at 0x26f28482c80>,\n",
       "  <matplotlib.lines.Line2D at 0x26f28482f20>,\n",
       "  <matplotlib.lines.Line2D at 0x26f28483ee0>,\n",
       "  <matplotlib.lines.Line2D at 0x26f284b81c0>,\n",
       "  <matplotlib.lines.Line2D at 0x26f284b9180>,\n",
       "  <matplotlib.lines.Line2D at 0x26f284b9420>,\n",
       "  <matplotlib.lines.Line2D at 0x26f284ba3e0>,\n",
       "  <matplotlib.lines.Line2D at 0x26f284ba680>,\n",
       "  <matplotlib.lines.Line2D at 0x26f284bb640>,\n",
       "  <matplotlib.lines.Line2D at 0x26f284bb8e0>,\n",
       "  <matplotlib.lines.Line2D at 0x26f284f4910>,\n",
       "  <matplotlib.lines.Line2D at 0x26f284f4bb0>,\n",
       "  <matplotlib.lines.Line2D at 0x26f284f5b70>,\n",
       "  <matplotlib.lines.Line2D at 0x26f284f5e10>,\n",
       "  <matplotlib.lines.Line2D at 0x26f284f6dd0>,\n",
       "  <matplotlib.lines.Line2D at 0x26f284f7070>,\n",
       "  <matplotlib.lines.Line2D at 0x26f28524070>,\n",
       "  <matplotlib.lines.Line2D at 0x26f28524310>,\n",
       "  <matplotlib.lines.Line2D at 0x26f285252d0>,\n",
       "  <matplotlib.lines.Line2D at 0x26f28525570>,\n",
       "  <matplotlib.lines.Line2D at 0x26f28526530>,\n",
       "  <matplotlib.lines.Line2D at 0x26f285267d0>,\n",
       "  <matplotlib.lines.Line2D at 0x26f28527790>,\n",
       "  <matplotlib.lines.Line2D at 0x26f28527a30>,\n",
       "  <matplotlib.lines.Line2D at 0x26f28564a30>,\n",
       "  <matplotlib.lines.Line2D at 0x26f28564cd0>,\n",
       "  <matplotlib.lines.Line2D at 0x26f28565c90>,\n",
       "  <matplotlib.lines.Line2D at 0x26f28565f30>],\n",
       " 'caps': [<matplotlib.lines.Line2D at 0x26f10ac3910>,\n",
       "  <matplotlib.lines.Line2D at 0x26f10ac3bb0>,\n",
       "  <matplotlib.lines.Line2D at 0x26f10af8be0>,\n",
       "  <matplotlib.lines.Line2D at 0x26f10af8e80>,\n",
       "  <matplotlib.lines.Line2D at 0x26f10af9e40>,\n",
       "  <matplotlib.lines.Line2D at 0x26f10afa0e0>,\n",
       "  <matplotlib.lines.Line2D at 0x26f10afb0a0>,\n",
       "  <matplotlib.lines.Line2D at 0x26f10afb340>,\n",
       "  <matplotlib.lines.Line2D at 0x26f10b2c340>,\n",
       "  <matplotlib.lines.Line2D at 0x26f10b2c5e0>,\n",
       "  <matplotlib.lines.Line2D at 0x26f10b2d5a0>,\n",
       "  <matplotlib.lines.Line2D at 0x26f10b2d840>,\n",
       "  <matplotlib.lines.Line2D at 0x26f10b2e800>,\n",
       "  <matplotlib.lines.Line2D at 0x26f10b2eaa0>,\n",
       "  <matplotlib.lines.Line2D at 0x26f10b2fa60>,\n",
       "  <matplotlib.lines.Line2D at 0x26f10b2fd00>,\n",
       "  <matplotlib.lines.Line2D at 0x26f10b64d00>,\n",
       "  <matplotlib.lines.Line2D at 0x26f10b64fa0>,\n",
       "  <matplotlib.lines.Line2D at 0x26f10b65f60>,\n",
       "  <matplotlib.lines.Line2D at 0x26f10b66200>,\n",
       "  <matplotlib.lines.Line2D at 0x26f10b671c0>,\n",
       "  <matplotlib.lines.Line2D at 0x26f10b67460>,\n",
       "  <matplotlib.lines.Line2D at 0x26f10b98460>,\n",
       "  <matplotlib.lines.Line2D at 0x26f10b98700>,\n",
       "  <matplotlib.lines.Line2D at 0x26f10b995a0>,\n",
       "  <matplotlib.lines.Line2D at 0x26f10b99840>,\n",
       "  <matplotlib.lines.Line2D at 0x26f10b9a800>,\n",
       "  <matplotlib.lines.Line2D at 0x26f10b9aaa0>,\n",
       "  <matplotlib.lines.Line2D at 0x26f10b9ba60>,\n",
       "  <matplotlib.lines.Line2D at 0x26f10b9bd00>,\n",
       "  <matplotlib.lines.Line2D at 0x26f28480d00>,\n",
       "  <matplotlib.lines.Line2D at 0x26f28480fa0>,\n",
       "  <matplotlib.lines.Line2D at 0x26f28481f60>,\n",
       "  <matplotlib.lines.Line2D at 0x26f28482200>,\n",
       "  <matplotlib.lines.Line2D at 0x26f284831c0>,\n",
       "  <matplotlib.lines.Line2D at 0x26f28483460>,\n",
       "  <matplotlib.lines.Line2D at 0x26f284b8460>,\n",
       "  <matplotlib.lines.Line2D at 0x26f284b8700>,\n",
       "  <matplotlib.lines.Line2D at 0x26f284b96c0>,\n",
       "  <matplotlib.lines.Line2D at 0x26f284b9960>,\n",
       "  <matplotlib.lines.Line2D at 0x26f284ba920>,\n",
       "  <matplotlib.lines.Line2D at 0x26f284babc0>,\n",
       "  <matplotlib.lines.Line2D at 0x26f284bbb80>,\n",
       "  <matplotlib.lines.Line2D at 0x26f284bbe50>,\n",
       "  <matplotlib.lines.Line2D at 0x26f284f4e50>,\n",
       "  <matplotlib.lines.Line2D at 0x26f284f50f0>,\n",
       "  <matplotlib.lines.Line2D at 0x26f284f60b0>,\n",
       "  <matplotlib.lines.Line2D at 0x26f284f6350>,\n",
       "  <matplotlib.lines.Line2D at 0x26f284f7310>,\n",
       "  <matplotlib.lines.Line2D at 0x26f284f75b0>,\n",
       "  <matplotlib.lines.Line2D at 0x26f285245b0>,\n",
       "  <matplotlib.lines.Line2D at 0x26f28524850>,\n",
       "  <matplotlib.lines.Line2D at 0x26f28525810>,\n",
       "  <matplotlib.lines.Line2D at 0x26f28525ab0>,\n",
       "  <matplotlib.lines.Line2D at 0x26f28526a70>,\n",
       "  <matplotlib.lines.Line2D at 0x26f28526d10>,\n",
       "  <matplotlib.lines.Line2D at 0x26f28527cd0>,\n",
       "  <matplotlib.lines.Line2D at 0x26f28527f70>,\n",
       "  <matplotlib.lines.Line2D at 0x26f28564f70>,\n",
       "  <matplotlib.lines.Line2D at 0x26f28565210>,\n",
       "  <matplotlib.lines.Line2D at 0x26f285661d0>,\n",
       "  <matplotlib.lines.Line2D at 0x26f28566470>],\n",
       " 'boxes': [<matplotlib.lines.Line2D at 0x26f10ac3130>,\n",
       "  <matplotlib.lines.Line2D at 0x26f10af8400>,\n",
       "  <matplotlib.lines.Line2D at 0x26f10af9660>,\n",
       "  <matplotlib.lines.Line2D at 0x26f10afa8c0>,\n",
       "  <matplotlib.lines.Line2D at 0x26f10afbb20>,\n",
       "  <matplotlib.lines.Line2D at 0x26f10b2cdc0>,\n",
       "  <matplotlib.lines.Line2D at 0x26f10b2e020>,\n",
       "  <matplotlib.lines.Line2D at 0x26f10b2f280>,\n",
       "  <matplotlib.lines.Line2D at 0x26f10b64520>,\n",
       "  <matplotlib.lines.Line2D at 0x26f10b65780>,\n",
       "  <matplotlib.lines.Line2D at 0x26f10b669e0>,\n",
       "  <matplotlib.lines.Line2D at 0x26f10b67c40>,\n",
       "  <matplotlib.lines.Line2D at 0x26f10b98dc0>,\n",
       "  <matplotlib.lines.Line2D at 0x26f10b9a020>,\n",
       "  <matplotlib.lines.Line2D at 0x26f10b9b280>,\n",
       "  <matplotlib.lines.Line2D at 0x26f28480520>,\n",
       "  <matplotlib.lines.Line2D at 0x26f28481780>,\n",
       "  <matplotlib.lines.Line2D at 0x26f284829e0>,\n",
       "  <matplotlib.lines.Line2D at 0x26f28483c40>,\n",
       "  <matplotlib.lines.Line2D at 0x26f284b8ee0>,\n",
       "  <matplotlib.lines.Line2D at 0x26f284ba140>,\n",
       "  <matplotlib.lines.Line2D at 0x26f284bb3a0>,\n",
       "  <matplotlib.lines.Line2D at 0x26f284f4670>,\n",
       "  <matplotlib.lines.Line2D at 0x26f284f58d0>,\n",
       "  <matplotlib.lines.Line2D at 0x26f284f6b30>,\n",
       "  <matplotlib.lines.Line2D at 0x26f284f7d90>,\n",
       "  <matplotlib.lines.Line2D at 0x26f28525030>,\n",
       "  <matplotlib.lines.Line2D at 0x26f28526290>,\n",
       "  <matplotlib.lines.Line2D at 0x26f285274f0>,\n",
       "  <matplotlib.lines.Line2D at 0x26f28564790>,\n",
       "  <matplotlib.lines.Line2D at 0x26f285659f0>],\n",
       " 'medians': [<matplotlib.lines.Line2D at 0x26f10ac3e50>,\n",
       "  <matplotlib.lines.Line2D at 0x26f10af9120>,\n",
       "  <matplotlib.lines.Line2D at 0x26f10afa380>,\n",
       "  <matplotlib.lines.Line2D at 0x26f10afb5e0>,\n",
       "  <matplotlib.lines.Line2D at 0x26f10b2c880>,\n",
       "  <matplotlib.lines.Line2D at 0x26f10b2dae0>,\n",
       "  <matplotlib.lines.Line2D at 0x26f10b2ed40>,\n",
       "  <matplotlib.lines.Line2D at 0x26f10b2ffa0>,\n",
       "  <matplotlib.lines.Line2D at 0x26f10b65240>,\n",
       "  <matplotlib.lines.Line2D at 0x26f10b664a0>,\n",
       "  <matplotlib.lines.Line2D at 0x26f10b67700>,\n",
       "  <matplotlib.lines.Line2D at 0x26f10b98880>,\n",
       "  <matplotlib.lines.Line2D at 0x26f10b99ae0>,\n",
       "  <matplotlib.lines.Line2D at 0x26f10b9ad40>,\n",
       "  <matplotlib.lines.Line2D at 0x26f10b9bfa0>,\n",
       "  <matplotlib.lines.Line2D at 0x26f28481240>,\n",
       "  <matplotlib.lines.Line2D at 0x26f284824a0>,\n",
       "  <matplotlib.lines.Line2D at 0x26f28483700>,\n",
       "  <matplotlib.lines.Line2D at 0x26f284b89a0>,\n",
       "  <matplotlib.lines.Line2D at 0x26f284b9c00>,\n",
       "  <matplotlib.lines.Line2D at 0x26f284bae60>,\n",
       "  <matplotlib.lines.Line2D at 0x26f284f4130>,\n",
       "  <matplotlib.lines.Line2D at 0x26f284f5390>,\n",
       "  <matplotlib.lines.Line2D at 0x26f284f65f0>,\n",
       "  <matplotlib.lines.Line2D at 0x26f284f7850>,\n",
       "  <matplotlib.lines.Line2D at 0x26f28524af0>,\n",
       "  <matplotlib.lines.Line2D at 0x26f28525d50>,\n",
       "  <matplotlib.lines.Line2D at 0x26f28526fb0>,\n",
       "  <matplotlib.lines.Line2D at 0x26f28564250>,\n",
       "  <matplotlib.lines.Line2D at 0x26f285654b0>,\n",
       "  <matplotlib.lines.Line2D at 0x26f28566710>],\n",
       " 'fliers': [<matplotlib.lines.Line2D at 0x26f10af8130>,\n",
       "  <matplotlib.lines.Line2D at 0x26f10af93c0>,\n",
       "  <matplotlib.lines.Line2D at 0x26f10afa620>,\n",
       "  <matplotlib.lines.Line2D at 0x26f10afb880>,\n",
       "  <matplotlib.lines.Line2D at 0x26f10b2cb20>,\n",
       "  <matplotlib.lines.Line2D at 0x26f10b2dd80>,\n",
       "  <matplotlib.lines.Line2D at 0x26f10b2efe0>,\n",
       "  <matplotlib.lines.Line2D at 0x26f10b64280>,\n",
       "  <matplotlib.lines.Line2D at 0x26f10b654e0>,\n",
       "  <matplotlib.lines.Line2D at 0x26f10b66740>,\n",
       "  <matplotlib.lines.Line2D at 0x26f10b679a0>,\n",
       "  <matplotlib.lines.Line2D at 0x26f10b98b20>,\n",
       "  <matplotlib.lines.Line2D at 0x26f10b99d80>,\n",
       "  <matplotlib.lines.Line2D at 0x26f10b9afe0>,\n",
       "  <matplotlib.lines.Line2D at 0x26f28480280>,\n",
       "  <matplotlib.lines.Line2D at 0x26f284814e0>,\n",
       "  <matplotlib.lines.Line2D at 0x26f28482740>,\n",
       "  <matplotlib.lines.Line2D at 0x26f284839a0>,\n",
       "  <matplotlib.lines.Line2D at 0x26f284b8c40>,\n",
       "  <matplotlib.lines.Line2D at 0x26f284b9ea0>,\n",
       "  <matplotlib.lines.Line2D at 0x26f284bb100>,\n",
       "  <matplotlib.lines.Line2D at 0x26f284f43d0>,\n",
       "  <matplotlib.lines.Line2D at 0x26f284f5630>,\n",
       "  <matplotlib.lines.Line2D at 0x26f284f6890>,\n",
       "  <matplotlib.lines.Line2D at 0x26f284f7af0>,\n",
       "  <matplotlib.lines.Line2D at 0x26f28524d90>,\n",
       "  <matplotlib.lines.Line2D at 0x26f28525ff0>,\n",
       "  <matplotlib.lines.Line2D at 0x26f28527250>,\n",
       "  <matplotlib.lines.Line2D at 0x26f285644f0>,\n",
       "  <matplotlib.lines.Line2D at 0x26f28565750>,\n",
       "  <matplotlib.lines.Line2D at 0x26f285669b0>],\n",
       " 'means': []}"
      ]
     },
     "execution_count": 29,
     "metadata": {},
     "output_type": "execute_result"
    },
    {
     "data": {
      "image/png": "[encoded data removed]",
      "text/plain": [
       "<Figure size 640x480 with 1 Axes>"
      ]
     },
     "metadata": {},
     "output_type": "display_data"
    }
   ],
   "source": [
    "plt.boxplot(met)\n",
    "#plt.boxplot(np.arange(len(masmeans)),mas)"
   ]
  },
  {
   "cell_type": "code",
   "execution_count": 30,
   "metadata": {},
   "outputs": [
    {
     "data": {
      "text/plain": [
       "{'whiskers': [<matplotlib.lines.Line2D at 0x26f2c0f80a0>,\n",
       "  <matplotlib.lines.Line2D at 0x26f2c0f88b0>,\n",
       "  <matplotlib.lines.Line2D at 0x26f2c11c760>,\n",
       "  <matplotlib.lines.Line2D at 0x26f2c11c1c0>,\n",
       "  <matplotlib.lines.Line2D at 0x26d74685cc0>,\n",
       "  <matplotlib.lines.Line2D at 0x26d746864d0>,\n",
       "  <matplotlib.lines.Line2D at 0x26eb1300a30>,\n",
       "  <matplotlib.lines.Line2D at 0x26d74730b50>,\n",
       "  <matplotlib.lines.Line2D at 0x26f2c154fa0>,\n",
       "  <matplotlib.lines.Line2D at 0x26f2c155240>,\n",
       "  <matplotlib.lines.Line2D at 0x26f2c156200>,\n",
       "  <matplotlib.lines.Line2D at 0x26f2c1564a0>,\n",
       "  <matplotlib.lines.Line2D at 0x26f2c157460>,\n",
       "  <matplotlib.lines.Line2D at 0x26f2c157700>,\n",
       "  <matplotlib.lines.Line2D at 0x26f2c344700>,\n",
       "  <matplotlib.lines.Line2D at 0x26f2c3449a0>,\n",
       "  <matplotlib.lines.Line2D at 0x26f2c345960>,\n",
       "  <matplotlib.lines.Line2D at 0x26f2c345c00>,\n",
       "  <matplotlib.lines.Line2D at 0x26f2c346bc0>,\n",
       "  <matplotlib.lines.Line2D at 0x26f2c346e60>,\n",
       "  <matplotlib.lines.Line2D at 0x26f2c347c70>,\n",
       "  <matplotlib.lines.Line2D at 0x26f2c347f10>,\n",
       "  <matplotlib.lines.Line2D at 0x26f2c380f10>,\n",
       "  <matplotlib.lines.Line2D at 0x26f2c3811b0>,\n",
       "  <matplotlib.lines.Line2D at 0x26f2c382170>,\n",
       "  <matplotlib.lines.Line2D at 0x26f2c382410>,\n",
       "  <matplotlib.lines.Line2D at 0x26f2c3833d0>,\n",
       "  <matplotlib.lines.Line2D at 0x26f2c383670>,\n",
       "  <matplotlib.lines.Line2D at 0x26f2c178670>,\n",
       "  <matplotlib.lines.Line2D at 0x26f2c178910>,\n",
       "  <matplotlib.lines.Line2D at 0x26f2c1798d0>,\n",
       "  <matplotlib.lines.Line2D at 0x26f2c179b70>,\n",
       "  <matplotlib.lines.Line2D at 0x26f2c17ab30>,\n",
       "  <matplotlib.lines.Line2D at 0x26f2c17add0>,\n",
       "  <matplotlib.lines.Line2D at 0x26f2c17bd90>,\n",
       "  <matplotlib.lines.Line2D at 0x26f2c1b0070>,\n",
       "  <matplotlib.lines.Line2D at 0x26f2c1b1030>,\n",
       "  <matplotlib.lines.Line2D at 0x26f2c1b12d0>,\n",
       "  <matplotlib.lines.Line2D at 0x26f2c1b22c0>,\n",
       "  <matplotlib.lines.Line2D at 0x26f2c1b2560>,\n",
       "  <matplotlib.lines.Line2D at 0x26f2c1b3520>,\n",
       "  <matplotlib.lines.Line2D at 0x26f2c1b37c0>,\n",
       "  <matplotlib.lines.Line2D at 0x26f2c1e47c0>,\n",
       "  <matplotlib.lines.Line2D at 0x26f2c1e4a60>,\n",
       "  <matplotlib.lines.Line2D at 0x26f2c1e5a20>,\n",
       "  <matplotlib.lines.Line2D at 0x26f2c1e5cc0>,\n",
       "  <matplotlib.lines.Line2D at 0x26f2c1e6cb0>,\n",
       "  <matplotlib.lines.Line2D at 0x26f2c1e6f50>,\n",
       "  <matplotlib.lines.Line2D at 0x26f2c1e7f10>,\n",
       "  <matplotlib.lines.Line2D at 0x26f2c21c1f0>,\n",
       "  <matplotlib.lines.Line2D at 0x26f2c21d1b0>,\n",
       "  <matplotlib.lines.Line2D at 0x26f2c21d450>,\n",
       "  <matplotlib.lines.Line2D at 0x26f2c21e410>,\n",
       "  <matplotlib.lines.Line2D at 0x26f2c21e6b0>,\n",
       "  <matplotlib.lines.Line2D at 0x26f2c21f670>,\n",
       "  <matplotlib.lines.Line2D at 0x26f2c21f940>,\n",
       "  <matplotlib.lines.Line2D at 0x26f2c254940>,\n",
       "  <matplotlib.lines.Line2D at 0x26f2c254be0>,\n",
       "  <matplotlib.lines.Line2D at 0x26f2c255ba0>,\n",
       "  <matplotlib.lines.Line2D at 0x26f2c255e40>,\n",
       "  <matplotlib.lines.Line2D at 0x26f2c256e00>,\n",
       "  <matplotlib.lines.Line2D at 0x26f2c2570a0>],\n",
       " 'caps': [<matplotlib.lines.Line2D at 0x26f2c0f92a0>,\n",
       "  <matplotlib.lines.Line2D at 0x26f2c0f9d20>,\n",
       "  <matplotlib.lines.Line2D at 0x26d74686290>,\n",
       "  <matplotlib.lines.Line2D at 0x26d746857b0>,\n",
       "  <matplotlib.lines.Line2D at 0x26d716a9f30>,\n",
       "  <matplotlib.lines.Line2D at 0x26f1096c490>,\n",
       "  <matplotlib.lines.Line2D at 0x26f2c154220>,\n",
       "  <matplotlib.lines.Line2D at 0x26f2c154520>,\n",
       "  <matplotlib.lines.Line2D at 0x26f2c1554e0>,\n",
       "  <matplotlib.lines.Line2D at 0x26f2c155780>,\n",
       "  <matplotlib.lines.Line2D at 0x26f2c156740>,\n",
       "  <matplotlib.lines.Line2D at 0x26f2c1569e0>,\n",
       "  <matplotlib.lines.Line2D at 0x26f2c1579a0>,\n",
       "  <matplotlib.lines.Line2D at 0x26f2c157c40>,\n",
       "  <matplotlib.lines.Line2D at 0x26f2c344c40>,\n",
       "  <matplotlib.lines.Line2D at 0x26f2c344ee0>,\n",
       "  <matplotlib.lines.Line2D at 0x26f2c345ea0>,\n",
       "  <matplotlib.lines.Line2D at 0x26f2c346140>,\n",
       "  <matplotlib.lines.Line2D at 0x26f2c347100>,\n",
       "  <matplotlib.lines.Line2D at 0x26f2c3473a0>,\n",
       "  <matplotlib.lines.Line2D at 0x26f2c3801f0>,\n",
       "  <matplotlib.lines.Line2D at 0x26f2c380490>,\n",
       "  <matplotlib.lines.Line2D at 0x26f2c381450>,\n",
       "  <matplotlib.lines.Line2D at 0x26f2c3816f0>,\n",
       "  <matplotlib.lines.Line2D at 0x26f2c3826b0>,\n",
       "  <matplotlib.lines.Line2D at 0x26f2c382950>,\n",
       "  <matplotlib.lines.Line2D at 0x26f2c383910>,\n",
       "  <matplotlib.lines.Line2D at 0x26f2c383bb0>,\n",
       "  <matplotlib.lines.Line2D at 0x26f2c178bb0>,\n",
       "  <matplotlib.lines.Line2D at 0x26f2c178e50>,\n",
       "  <matplotlib.lines.Line2D at 0x26f2c179e10>,\n",
       "  <matplotlib.lines.Line2D at 0x26f2c17a0b0>,\n",
       "  <matplotlib.lines.Line2D at 0x26f2c17b070>,\n",
       "  <matplotlib.lines.Line2D at 0x26f2c17b310>,\n",
       "  <matplotlib.lines.Line2D at 0x26f2c1b0310>,\n",
       "  <matplotlib.lines.Line2D at 0x26f2c1b05b0>,\n",
       "  <matplotlib.lines.Line2D at 0x26f2c1b1570>,\n",
       "  <matplotlib.lines.Line2D at 0x26f2c1b1810>,\n",
       "  <matplotlib.lines.Line2D at 0x26f2c1b2800>,\n",
       "  <matplotlib.lines.Line2D at 0x26f2c1b2aa0>,\n",
       "  <matplotlib.lines.Line2D at 0x26f2c1b3a60>,\n",
       "  <matplotlib.lines.Line2D at 0x26f2c1b3d00>,\n",
       "  <matplotlib.lines.Line2D at 0x26f2c1e4d00>,\n",
       "  <matplotlib.lines.Line2D at 0x26f2c1e4fa0>,\n",
       "  <matplotlib.lines.Line2D at 0x26f2c1e5f60>,\n",
       "  <matplotlib.lines.Line2D at 0x26f2c1e6230>,\n",
       "  <matplotlib.lines.Line2D at 0x26f2c1e71f0>,\n",
       "  <matplotlib.lines.Line2D at 0x26f2c1e7490>,\n",
       "  <matplotlib.lines.Line2D at 0x26f2c21c490>,\n",
       "  <matplotlib.lines.Line2D at 0x26f2c21c730>,\n",
       "  <matplotlib.lines.Line2D at 0x26f2c21d6f0>,\n",
       "  <matplotlib.lines.Line2D at 0x26f2c21d990>,\n",
       "  <matplotlib.lines.Line2D at 0x26f2c21e950>,\n",
       "  <matplotlib.lines.Line2D at 0x26f2c21ebf0>,\n",
       "  <matplotlib.lines.Line2D at 0x26f2c21fbe0>,\n",
       "  <matplotlib.lines.Line2D at 0x26f2c21fe80>,\n",
       "  <matplotlib.lines.Line2D at 0x26f2c254e80>,\n",
       "  <matplotlib.lines.Line2D at 0x26f2c255120>,\n",
       "  <matplotlib.lines.Line2D at 0x26f2c2560e0>,\n",
       "  <matplotlib.lines.Line2D at 0x26f2c256380>,\n",
       "  <matplotlib.lines.Line2D at 0x26f2c257340>,\n",
       "  <matplotlib.lines.Line2D at 0x26f2c2575e0>],\n",
       " 'boxes': [<matplotlib.lines.Line2D at 0x26f2c0f8340>,\n",
       "  <matplotlib.lines.Line2D at 0x26f2c0fb1c0>,\n",
       "  <matplotlib.lines.Line2D at 0x26d746853c0>,\n",
       "  <matplotlib.lines.Line2D at 0x26eb1301a20>,\n",
       "  <matplotlib.lines.Line2D at 0x26f2c154d00>,\n",
       "  <matplotlib.lines.Line2D at 0x26f2c155f60>,\n",
       "  <matplotlib.lines.Line2D at 0x26f2c1571c0>,\n",
       "  <matplotlib.lines.Line2D at 0x26f2c344460>,\n",
       "  <matplotlib.lines.Line2D at 0x26f2c3456c0>,\n",
       "  <matplotlib.lines.Line2D at 0x26f2c346920>,\n",
       "  <matplotlib.lines.Line2D at 0x26f2c347b80>,\n",
       "  <matplotlib.lines.Line2D at 0x26f2c380c70>,\n",
       "  <matplotlib.lines.Line2D at 0x26f2c381ed0>,\n",
       "  <matplotlib.lines.Line2D at 0x26f2c383130>,\n",
       "  <matplotlib.lines.Line2D at 0x26f2c1783d0>,\n",
       "  <matplotlib.lines.Line2D at 0x26f2c179630>,\n",
       "  <matplotlib.lines.Line2D at 0x26f2c17a890>,\n",
       "  <matplotlib.lines.Line2D at 0x26f2c17baf0>,\n",
       "  <matplotlib.lines.Line2D at 0x26f2c1b0d90>,\n",
       "  <matplotlib.lines.Line2D at 0x26f2c1b1ff0>,\n",
       "  <matplotlib.lines.Line2D at 0x26f2c1b3280>,\n",
       "  <matplotlib.lines.Line2D at 0x26f2c1e4520>,\n",
       "  <matplotlib.lines.Line2D at 0x26f2c1e5780>,\n",
       "  <matplotlib.lines.Line2D at 0x26f2c1e6a10>,\n",
       "  <matplotlib.lines.Line2D at 0x26f2c1e7c70>,\n",
       "  <matplotlib.lines.Line2D at 0x26f2c21cf10>,\n",
       "  <matplotlib.lines.Line2D at 0x26f2c21e170>,\n",
       "  <matplotlib.lines.Line2D at 0x26f2c21f3d0>,\n",
       "  <matplotlib.lines.Line2D at 0x26f2c2546a0>,\n",
       "  <matplotlib.lines.Line2D at 0x26f2c255900>,\n",
       "  <matplotlib.lines.Line2D at 0x26f2c256b60>],\n",
       " 'medians': [<matplotlib.lines.Line2D at 0x26f2c0fa770>,\n",
       "  <matplotlib.lines.Line2D at 0x26d74686740>,\n",
       "  <matplotlib.lines.Line2D at 0x26eb1301810>,\n",
       "  <matplotlib.lines.Line2D at 0x26f2c1547c0>,\n",
       "  <matplotlib.lines.Line2D at 0x26f2c155a20>,\n",
       "  <matplotlib.lines.Line2D at 0x26f2c156c80>,\n",
       "  <matplotlib.lines.Line2D at 0x26f2c157ee0>,\n",
       "  <matplotlib.lines.Line2D at 0x26f2c345180>,\n",
       "  <matplotlib.lines.Line2D at 0x26f2c3463e0>,\n",
       "  <matplotlib.lines.Line2D at 0x26f2c347640>,\n",
       "  <matplotlib.lines.Line2D at 0x26f2c380730>,\n",
       "  <matplotlib.lines.Line2D at 0x26f2c381990>,\n",
       "  <matplotlib.lines.Line2D at 0x26f2c382bf0>,\n",
       "  <matplotlib.lines.Line2D at 0x26f2c383e50>,\n",
       "  <matplotlib.lines.Line2D at 0x26f2c1790f0>,\n",
       "  <matplotlib.lines.Line2D at 0x26f2c17a350>,\n",
       "  <matplotlib.lines.Line2D at 0x26f2c17b5b0>,\n",
       "  <matplotlib.lines.Line2D at 0x26f2c1b0850>,\n",
       "  <matplotlib.lines.Line2D at 0x26f2c1b1ab0>,\n",
       "  <matplotlib.lines.Line2D at 0x26f2c1b2d40>,\n",
       "  <matplotlib.lines.Line2D at 0x26f2c1b3fa0>,\n",
       "  <matplotlib.lines.Line2D at 0x26f2c1e5240>,\n",
       "  <matplotlib.lines.Line2D at 0x26f2c1e64d0>,\n",
       "  <matplotlib.lines.Line2D at 0x26f2c1e7730>,\n",
       "  <matplotlib.lines.Line2D at 0x26f2c21c9d0>,\n",
       "  <matplotlib.lines.Line2D at 0x26f2c21dc30>,\n",
       "  <matplotlib.lines.Line2D at 0x26f2c21ee90>,\n",
       "  <matplotlib.lines.Line2D at 0x26f2c254160>,\n",
       "  <matplotlib.lines.Line2D at 0x26f2c2553c0>,\n",
       "  <matplotlib.lines.Line2D at 0x26f2c256620>,\n",
       "  <matplotlib.lines.Line2D at 0x26f2c257880>],\n",
       " 'fliers': [<matplotlib.lines.Line2D at 0x26f2c0fafb0>,\n",
       "  <matplotlib.lines.Line2D at 0x26d74684040>,\n",
       "  <matplotlib.lines.Line2D at 0x26eb1301d50>,\n",
       "  <matplotlib.lines.Line2D at 0x26f2c154a60>,\n",
       "  <matplotlib.lines.Line2D at 0x26f2c155cc0>,\n",
       "  <matplotlib.lines.Line2D at 0x26f2c156f20>,\n",
       "  <matplotlib.lines.Line2D at 0x26f2c3441c0>,\n",
       "  <matplotlib.lines.Line2D at 0x26f2c345420>,\n",
       "  <matplotlib.lines.Line2D at 0x26f2c346680>,\n",
       "  <matplotlib.lines.Line2D at 0x26f2c3478e0>,\n",
       "  <matplotlib.lines.Line2D at 0x26f2c3809d0>,\n",
       "  <matplotlib.lines.Line2D at 0x26f2c381c30>,\n",
       "  <matplotlib.lines.Line2D at 0x26f2c382e90>,\n",
       "  <matplotlib.lines.Line2D at 0x26f2c178130>,\n",
       "  <matplotlib.lines.Line2D at 0x26f2c179390>,\n",
       "  <matplotlib.lines.Line2D at 0x26f2c17a5f0>,\n",
       "  <matplotlib.lines.Line2D at 0x26f2c17b850>,\n",
       "  <matplotlib.lines.Line2D at 0x26f2c1b0af0>,\n",
       "  <matplotlib.lines.Line2D at 0x26f2c1b1d50>,\n",
       "  <matplotlib.lines.Line2D at 0x26f2c1b2fe0>,\n",
       "  <matplotlib.lines.Line2D at 0x26f2c1e4280>,\n",
       "  <matplotlib.lines.Line2D at 0x26f2c1e54e0>,\n",
       "  <matplotlib.lines.Line2D at 0x26f2c1e6770>,\n",
       "  <matplotlib.lines.Line2D at 0x26f2c1e79d0>,\n",
       "  <matplotlib.lines.Line2D at 0x26f2c21cc70>,\n",
       "  <matplotlib.lines.Line2D at 0x26f2c21ded0>,\n",
       "  <matplotlib.lines.Line2D at 0x26f2c21f130>,\n",
       "  <matplotlib.lines.Line2D at 0x26f2c254400>,\n",
       "  <matplotlib.lines.Line2D at 0x26f2c255660>,\n",
       "  <matplotlib.lines.Line2D at 0x26f2c2568c0>,\n",
       "  <matplotlib.lines.Line2D at 0x26f2c257b20>],\n",
       " 'means': []}"
      ]
     },
     "execution_count": 30,
     "metadata": {},
     "output_type": "execute_result"
    },
    {
     "data": {
      "image/png": "[encoded data removed]",
      "text/plain": [
       "<Figure size 640x480 with 1 Axes>"
      ]
     },
     "metadata": {},
     "output_type": "display_data"
    }
   ],
   "source": [
    "plt.boxplot(mas)"
   ]
  },
  {
   "cell_type": "code",
   "execution_count": 31,
   "metadata": {},
   "outputs": [
    {
     "data": {
      "text/plain": [
       "0.01134984"
      ]
     },
     "execution_count": 31,
     "metadata": {},
     "output_type": "execute_result"
    }
   ],
   "source": [
    "np.mean(masmeans)"
   ]
  },
  {
   "cell_type": "code",
   "execution_count": 32,
   "metadata": {},
   "outputs": [
    {
     "data": {
      "text/plain": [
       "0.05736066"
      ]
     },
     "execution_count": 32,
     "metadata": {},
     "output_type": "execute_result"
    }
   ],
   "source": [
    "np.mean(attmeans)"
   ]
  },
  {
   "cell_type": "code",
   "execution_count": null,
   "metadata": {},
   "outputs": [],
   "source": []
  }
 ],
 "metadata": {
  "kernelspec": {
   "display_name": "keras-jax",
   "language": "python",
   "name": "python3"
  },
  "language_info": {
   "codemirror_mode": {
    "name": "ipython",
    "version": 3
   },
   "file_extension": ".py",
   "mimetype": "text/x-python",
   "name": "python",
   "nbconvert_exporter": "python",
   "pygments_lexer": "ipython3",
   "version": "3.10.13"
  }
 },
 "nbformat": 4,
 "nbformat_minor": 2
}

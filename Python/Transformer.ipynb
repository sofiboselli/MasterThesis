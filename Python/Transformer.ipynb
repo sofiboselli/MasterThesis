{
 "cells": [
  {
   "cell_type": "code",
   "execution_count": 1,
   "id": "f2054e8b-4385-4b89-a496-1789052efb2c",
   "metadata": {},
   "outputs": [],
   "source": [
    "from pymatreader import read_mat\n",
    "import os\n",
    "os.environ[\"KERAS_BACKEND\"] = \"torch\"\n",
    "os.environ[\"PYTORCH_CUDA_ALLOC_CONF\"] = \"max_split_size_mb:512\"\n",
    "import numpy as np\n",
    "import librosa\n",
    "import scipy\n",
    "import matplotlib.pyplot as plt\n",
    "from sklearn.preprocessing import StandardScaler, MinMaxScaler\n",
    "from sklearn.model_selection import train_test_split\n",
    "import keras\n",
    "from keras.layers import Conv2D, BatchNormalization, AveragePooling2D, Input, Flatten, Dense, Reshape, SpatialDropout2D, MultiHeadAttention, Conv1D, Dropout\n",
    "from keras.layers import LayerNormalization, AveragePooling1D, RepeatVector, Multiply, Concatenate,GlobalAveragePooling1D, Add, DepthwiseConv2D\n",
    "import torch\n",
    "from keras.losses import CosineSimilarity\n",
    "from torch.utils.data import Dataset\n",
    "import tensorflow as tf\n",
    "torch.set_default_device('cuda')\n",
    "from sklearn.preprocessing import scale\n",
    "from torch.utils.data import Dataset, DataLoader\n",
    "import more_itertools\n",
    "from keras_pos_embd import TrigPosEmbedding\n",
    "from scipy.signal import sosfiltfilt, butter\n",
    "from scipy.signal import sosfiltfilt, butter\n",
    "\n",
    "#from keras_nlp.layers import TransformerEncoder\n",
    "\n",
    "\n",
    "#torch.backends.cudnn.benchmark = True"
   ]
  },
  {
   "cell_type": "code",
   "execution_count": 11,
   "id": "6e06cc80-3117-4213-a728-7ed3933ca512",
   "metadata": {},
   "outputs": [],
   "source": [
    "X = np.load('sub1.npy')\n",
    "stim1 = np.load('stim.npy')\n",
    "stim2 = np.load('mask.npy')\n",
    "#label = read_mat('ExJobb/y.mat')['label'][0:4]%2\n",
    "#label = np.repeat(label.reshape(-1,1),33,axis=1)"
   ]
  },
  {
   "cell_type": "code",
   "execution_count": 12,
   "id": "8c9ccee4-d29e-40b2-b5a8-6f544eb7cf7a",
   "metadata": {},
   "outputs": [],
   "source": [
    "Xx = []\n",
    "stimulus = []\n",
    "masker = []\n",
    "for i in range(80):\n",
    "    x = []\n",
    "    for j in range(66):\n",
    "        t = np.array(list(more_itertools.sliced(X[i][j],n=128)))\n",
    "        x.append(t.T)\n",
    "    Xx.append(np.asarray(x).T)\n",
    "    stimulus.append(np.array(list(more_itertools.sliced(stim1[i],n=128))))\n",
    "    masker.append(np.array(list(more_itertools.sliced(stim2[i],n=128))))\n",
    "\n",
    "X = np.array(Xx)\n",
    "stim = np.array(stimulus)\n",
    "mask = np.array(masker)\n",
    "\n",
    "X = X.reshape((80*33,128,66))\n",
    "stim = stim.reshape((80*33,128))\n",
    "mask = mask.reshape((80*33,128))\n",
    "#label = label.reshape((80*33,1))"
   ]
  },
  {
   "cell_type": "code",
   "execution_count": 13,
   "id": "c03e2552-6cfd-4795-8a1a-e18396f99210",
   "metadata": {},
   "outputs": [],
   "source": [
    "X_train,X_valid,y_tr,y_val,m,mv = train_test_split(X,stim,mask,test_size=0.2)"
   ]
  },
  {
   "cell_type": "code",
   "execution_count": 14,
   "id": "3efe0591-ed89-444b-8e70-4ab029277008",
   "metadata": {},
   "outputs": [
    {
     "data": {
      "text/plain": [
       "(2112, 128)"
      ]
     },
     "execution_count": 14,
     "metadata": {},
     "output_type": "execute_result"
    }
   ],
   "source": [
    "y_tr.shape"
   ]
  },
  {
   "cell_type": "code",
   "execution_count": 15,
   "id": "4f690ba7-8e00-4fa2-8001-85d3a42ce246",
   "metadata": {},
   "outputs": [],
   "source": [
    "trsc = StandardScaler()\n",
    "X_tr = []\n",
    "X_val = []\n",
    "for i in range(len(X_train)):\n",
    "    X_tr.append(np.expand_dims(trsc.fit_transform(X_train[i]),axis=-1).astype(np.float32))\n",
    "\n",
    "for i in range(len(X_valid)):\n",
    "    X_val.append(np.expand_dims(trsc.fit_transform(X_valid[i]),axis=-1).astype(np.float32))\n",
    "#X_test = np.expand_dims(trsc.fit_transform(respts),axis=-1).astype(np.float32)\n",
    "\n",
    "X_tr = np.array(X_tr)\n",
    "X_val = np.array(X_val)\n",
    "\n",
    "trst = StandardScaler()\n",
    "y_tr = trst.fit_transform(y_tr.T).astype(np.float32).T\n",
    "y_val = trst.fit_transform(y_val.T).astype(np.float32).T\n",
    "#y_test = trst.fit_transform(stimts).astype(np.float32)\n",
    "\n",
    "trsm = StandardScaler()\n",
    "m_tr = trsm.fit_transform(m.T).astype(np.float32).T\n",
    "m_val = trsm.fit_transform(mv.T).astype(np.float32).T\n",
    "#m_test = trsm.fit_transform(masts).astype(np.float32)"
   ]
  },
  {
   "cell_type": "code",
   "execution_count": 22,
   "id": "bc1387fd-3a9f-4611-91e4-b46d9009e735",
   "metadata": {},
   "outputs": [],
   "source": [
    "y_tr = np.expand_dims(y_tr,axis=-1)\n",
    "y_val = np.expand_dims(y_val,axis=-1)\n",
    "m_val = np.expand_dims(m_val,axis=-1)\n",
    "m_tr = np.expand_dims(m_tr,axis=-1)"
   ]
  },
  {
   "cell_type": "code",
   "execution_count": 64,
   "id": "a497e3bf-46e4-462c-803a-4f407821f0d6",
   "metadata": {},
   "outputs": [],
   "source": [
    "stimtr = np.roll(y_tr,1,axis=1)\n",
    "stimval = np.roll(y_val,1,axis=1)\n",
    "stimtr[:,0] = -4\n",
    "stimval[:,0] = -4"
   ]
  },
  {
   "cell_type": "code",
   "execution_count": 67,
   "id": "0edef70a-0104-40c1-8025-c3ac082dcf6c",
   "metadata": {},
   "outputs": [],
   "source": [
    "train_dataset = tf.data.Dataset.from_tensor_slices(((X_tr,stimtr),y_tr))\n",
    "val_dataset = tf.data.Dataset.from_tensor_slices(((X_val,stimval),y_val))"
   ]
  },
  {
   "cell_type": "code",
   "execution_count": 68,
   "id": "481b112b-8cc8-48df-a3f5-f04bef9302f7",
   "metadata": {},
   "outputs": [],
   "source": [
    "train_dataset = train_dataset.batch(4).shuffle(64)\n",
    "train_dataset = train_dataset.prefetch(tf.data.AUTOTUNE)"
   ]
  },
  {
   "cell_type": "code",
   "execution_count": 69,
   "id": "a4c68db2-fdbe-4007-bcc0-9dbda2254742",
   "metadata": {},
   "outputs": [],
   "source": [
    "val_dataset = val_dataset.batch(4)\n",
    "val_dataset = val_dataset.prefetch(tf.data.AUTOTUNE)"
   ]
  },
  {
   "cell_type": "code",
   "execution_count": 70,
   "id": "1bbd2c56-f421-465e-a7f6-e6258883e375",
   "metadata": {},
   "outputs": [],
   "source": [
    "def EEG_Channel(input_shape):\n",
    "    input = Input(input_shape)\n",
    "    x = input\n",
    "    \n",
    "    eeg = Conv2D(32,(3,3),padding=\"same\",activation=\"gelu\")(x)\n",
    "    eeg = AveragePooling2D((3,1))(eeg)\n",
    "    eeg = Conv2D(16,(3,3),padding=\"same\",activation = \"gelu\")(eeg)\n",
    "    eeg = AveragePooling2D((4,1))(eeg)\n",
    "    #eeg = Conv2D(4,(3,3),padding=\"same\",activation = \"elu\")(eeg)\n",
    "\n",
    "    #eeg = Conv2D(2,(1,1),padding=\"same\",activation=\"elu\")(eeg)\n",
    "\n",
    "    out =AveragePooling2D((8,8))(eeg)\n",
    "    \n",
    "    model = keras.Model(input,out)\n",
    "    return model"
   ]
  },
  {
   "cell_type": "code",
   "execution_count": 27,
   "id": "d2ea7060-f22a-475f-85f4-3eb840345c86",
   "metadata": {},
   "outputs": [
    {
     "name": "stdout",
     "output_type": "stream",
     "text": [
      "Model: \"model\"\n",
      "_________________________________________________________________\n",
      " Layer (type)                Output Shape              Param #   \n",
      "=================================================================\n",
      " input_4 (InputLayer)        [(None, 128, 66, 1)]      0         \n",
      "                                                                 \n",
      " conv2d (Conv2D)             (None, 128, 66, 32)       320       \n",
      "                                                                 \n",
      " average_pooling2d (AverageP  (None, 42, 66, 32)       0         \n",
      " ooling2D)                                                       \n",
      "                                                                 \n",
      " conv2d_1 (Conv2D)           (None, 42, 66, 16)        4624      \n",
      "                                                                 \n",
      " average_pooling2d_1 (Averag  (None, 10, 66, 16)       0         \n",
      " ePooling2D)                                                     \n",
      "                                                                 \n",
      " average_pooling2d_2 (Averag  (None, 1, 8, 16)         0         \n",
      " ePooling2D)                                                     \n",
      "                                                                 \n",
      "=================================================================\n",
      "Total params: 4,944\n",
      "Trainable params: 4,944\n",
      "Non-trainable params: 0\n",
      "_________________________________________________________________\n"
     ]
    }
   ],
   "source": [
    "mod = EEG_Channel((128,66,1))\n",
    "mod.summary()"
   ]
  },
  {
   "cell_type": "code",
   "execution_count": 28,
   "id": "a631f9dd-d3f7-4437-9011-430611b63388",
   "metadata": {},
   "outputs": [],
   "source": [
    "def Envelope_model(input_shape):\n",
    "    input = Input(input_shape)\n",
    "\n",
    "    x = input\n",
    "\n",
    "    env = Conv1D(64,5,padding=\"valid\",activation=\"gelu\")(x)\n",
    "    out = Conv1D(4,7,padding=\"valid\",activation = \"gelu\")(env)\n",
    "    #out = Conv1D(16,5,padding=\"same\",activation=\"elu\")(env)\n",
    "    out = AveragePooling1D(8)(out)\n",
    "\n",
    "    #out = Reshape((128,4,1))(out)\n",
    "\n",
    "\n",
    "    model = keras.Model(input,out)\n",
    "    return model"
   ]
  },
  {
   "cell_type": "code",
   "execution_count": 29,
   "id": "043d7ada-c9bd-47e4-88fb-25c7dde79184",
   "metadata": {},
   "outputs": [
    {
     "name": "stdout",
     "output_type": "stream",
     "text": [
      "Model: \"model_1\"\n",
      "_________________________________________________________________\n",
      " Layer (type)                Output Shape              Param #   \n",
      "=================================================================\n",
      " input_5 (InputLayer)        [(None, 128, 1)]          0         \n",
      "                                                                 \n",
      " conv1d (Conv1D)             (None, 124, 64)           384       \n",
      "                                                                 \n",
      " conv1d_1 (Conv1D)           (None, 118, 4)            1796      \n",
      "                                                                 \n",
      " average_pooling1d (AverageP  (None, 14, 4)            0         \n",
      " ooling1D)                                                       \n",
      "                                                                 \n",
      "=================================================================\n",
      "Total params: 2,180\n",
      "Trainable params: 2,180\n",
      "Non-trainable params: 0\n",
      "_________________________________________________________________\n"
     ]
    }
   ],
   "source": [
    "mod = Envelope_model((128,1))\n",
    "mod.summary()"
   ]
  },
  {
   "cell_type": "code",
   "execution_count": 30,
   "id": "acb366e2-8b45-4b91-a705-97eccb707ad0",
   "metadata": {},
   "outputs": [],
   "source": [
    "def transform_block(inputs,head_dim,num_heads,dropout,filters):\n",
    "    x = MultiHeadAttention(key_dim=head_dim,num_heads=num_heads,dropout=dropout)(inputs,inputs)\n",
    "    x = Dropout(dropout)(x)\n",
    "    x = LayerNormalization(epsilon=1e-6)(x)\n",
    "\n",
    "    res = x+inputs\n",
    "\n",
    "    x = Conv2D(filters,(3,3),padding=\"same\",activation=\"relu\")(res)\n",
    "    x = Dropout(dropout)(x)\n",
    "    x = Conv2D(inputs.shape[-1],(1,1),activation=\"relu\")(x)\n",
    "    x = LayerNormalization(epsilon=1e-6)(x)\n",
    "    return x+res"
   ]
  },
  {
   "cell_type": "code",
   "execution_count": 31,
   "id": "bc94178d-3a04-41e8-b448-ea94aa61ae6d",
   "metadata": {},
   "outputs": [],
   "source": [
    "def mlp(x, hidden_units, dropout_rate):\n",
    "    for units in hidden_units:\n",
    "        x = Dense(units, activation=keras.activations.gelu)(x)\n",
    "        x = Dropout(dropout_rate)(x)\n",
    "    return x\n",
    "\n",
    "projection_dim = 64\n",
    "num_heads = 4\n",
    "transformer_units = [\n",
    "    projection_dim * 2,\n",
    "    projection_dim,\n",
    "]"
   ]
  },
  {
   "cell_type": "code",
   "execution_count": 32,
   "id": "89f8d3f5-ee4e-4bb5-933c-fd12a967eef2",
   "metadata": {},
   "outputs": [],
   "source": [
    "def Combined_model(inputsh,head_dim,num_heads,dropout,filters,num_transf):\n",
    "    \n",
    "    eeg = Input(inputsh[0])\n",
    "    stim = Input(inputsh[1])\n",
    "    mask = Input(inputsh[2])\n",
    "    \n",
    "    eeg_model = EEG_Channel((128,66,1))\n",
    "    eeg_out = eeg_model(eeg)\n",
    "\n",
    "    stim_model = Envelope_model((128,1))\n",
    "    stim_out = stim_model(stim)\n",
    "\n",
    "    mask_model = Envelope_model((128,1))\n",
    "    mask_out = mask_model(mask)\n",
    "    eeg_out = Flatten()(eeg_out)\n",
    "    stim_out = Flatten()(stim_out)\n",
    "    mask_out = Flatten()(mask_out)\n",
    "\n",
    "    comb = Concatenate(axis=-1)([eeg_out,stim_out,mask_out])\n",
    "    x = Flatten()(comb)\n",
    "    x = TrigPosEmbedding(input_shape=(None,),output_dim=64,mode=TrigPosEmbedding.MODE_EXPAND)(x)\n",
    "    \n",
    "    \n",
    "    for _ in range(num_transf):\n",
    "        # Layer normalization 1.\n",
    "        x1 = LayerNormalization(epsilon=1e-6)(x)\n",
    "        # Create a multi-head attention layer.\n",
    "        attention_output = MultiHeadAttention(\n",
    "            num_heads=num_heads, key_dim=64, dropout=0.2\n",
    "        )(x1, x1)\n",
    "        # Skip connection 1.\n",
    "        x2 = Add()([attention_output, x])\n",
    "        # Layer normalization 2.\n",
    "        x3 = LayerNormalization(epsilon=1e-6)(x2)\n",
    "        # MLP.\n",
    "        x3 = mlp(x3, hidden_units=[128,64], dropout_rate=0.2)\n",
    "        # Skip connection 2.\n",
    "        x = Add()([x3, x2])\n",
    "\n",
    "    x = AveragePooling1D(16)(x)\n",
    "    x = Dropout(dropout)(x)\n",
    "    #x = Conv2D(1,(5,2),activation=\"elu\")(x)\n",
    "\n",
    "    x = Flatten()(x)\n",
    "\n",
    "    x = Dense(16)(x)\n",
    "\n",
    "    x = Dense(1,activation=\"sigmoid\")(x)\n",
    "\n",
    "    return keras.Model([eeg,stim,mask],x)\n",
    "\n",
    "    "
   ]
  },
  {
   "cell_type": "code",
   "execution_count": 33,
   "id": "ae34e228-d385-4810-855c-19a5b07f116c",
   "metadata": {},
   "outputs": [],
   "source": [
    "inputsh = [(128,66,1),(128,1),(128,1)]\n",
    "head_dim = 64\n",
    "num_heads = 4\n",
    "dropout = 0.2\n",
    "filters = 4\n",
    "num_transf = 6"
   ]
  },
  {
   "cell_type": "code",
   "execution_count": 34,
   "id": "5e02cd87-f3c8-4b88-87ad-0687df5e07d9",
   "metadata": {},
   "outputs": [],
   "source": [
    "model = Combined_model(inputsh,head_dim,num_heads,dropout,filters,num_transf)"
   ]
  },
  {
   "cell_type": "code",
   "execution_count": 36,
   "id": "90b683d8-ae45-44b8-84a0-511118bce086",
   "metadata": {},
   "outputs": [],
   "source": [
    "model.compile(optimizer=keras.optimizers.Nadam(),loss=keras.losses.BinaryCrossentropy(),metrics=[keras.metrics.BinaryAccuracy(),keras.metrics.FalseNegatives(),keras.metrics.FalsePositives()])"
   ]
  },
  {
   "cell_type": "code",
   "execution_count": null,
   "id": "332f2344-369f-41eb-983e-d7468bd27530",
   "metadata": {},
   "outputs": [
    {
     "name": "stdout",
     "output_type": "stream",
     "text": [
      "Epoch 1/10\n",
      "378/528 [====================>.........] - ETA: 27s - loss: 1.0347 - binary_accuracy: 0.5317 - false_negatives: 355.0000 - false_positives: 353.0000"
     ]
    }
   ],
   "source": [
    "model.fit(train_dataset,epochs=10,validation_data = val_dataset)"
   ]
  },
  {
   "cell_type": "code",
   "execution_count": null,
   "id": "68b3d1c1-b6f2-4feb-ab0a-8d9a4ca1ffb7",
   "metadata": {},
   "outputs": [],
   "source": []
  },
  {
   "cell_type": "code",
   "execution_count": null,
   "id": "c70bff89-b548-4f9c-aef9-c2cad4ef1d81",
   "metadata": {},
   "outputs": [],
   "source": []
  },
  {
   "cell_type": "code",
   "execution_count": null,
   "id": "c6cab7a9-5e26-46d7-a3a5-120384b220e3",
   "metadata": {},
   "outputs": [],
   "source": []
  },
  {
   "cell_type": "code",
   "execution_count": 71,
   "id": "539dcd86-f17e-4244-90d3-797505e0ab99",
   "metadata": {},
   "outputs": [],
   "source": [
    "def Encoder(inputs,kdim,dropout,n_tr,n_heads):\n",
    "\n",
    "    inp = Input((inputs))\n",
    "    x = Conv2D(64,(1,8),activation=\"gelu\",strides=(4,4),padding=\"valid\")(inp)\n",
    "    x = BatchNormalization()(x)\n",
    "    x = DepthwiseConv2D(8,activation=\"gelu\",padding=\"same\")(x)\n",
    "    x = Conv2D(16,(1,15),activation = \"gelu\")(x)\n",
    "    x = Flatten()(x)\n",
    "    #x = Dense(256)(x)\n",
    "    x = Dense(64)(x)\n",
    "    x = TrigPosEmbedding(input_shape=(None,),output_dim=kdim,mode=TrigPosEmbedding.MODE_EXPAND)(x)\n",
    "\n",
    "    for _ in range(n_tr):\n",
    "        x1 = MultiHeadAttention(num_heads=n_heads,key_dim = kdim)(x,x)\n",
    "        x2 = Add()([x1,x])\n",
    "        x3 = LayerNormalization()(x2)\n",
    "        x4 = Dense(kdim*2)(x3)\n",
    "        x5 = Dense(kdim)(x4)\n",
    "        x6 = Dropout(dropout)(x5)\n",
    "        x = Add()([x6,x3])\n",
    "    \n",
    "        \n",
    "        \n",
    "    return keras.Model(inp,x)"
   ]
  },
  {
   "cell_type": "code",
   "execution_count": 175,
   "id": "962a9e79-8bc1-4bd7-bf36-255220fff1d3",
   "metadata": {},
   "outputs": [],
   "source": [
    "def Decoder(context,targs,kdim,dropout,n_tr,n_heads):\n",
    "    tar = Input(targs)\n",
    "    cont = Input(context)\n",
    "    #tar = Conv1D(1,2,activation=\"gelu\")(tar)\n",
    "\n",
    "    #x = Conv1D(8,2,activation=\"gelu\")(tar)\n",
    "    x = TrigPosEmbedding(input_shape=(None,),output_dim=kdim,mode=TrigPosEmbedding.MODE_EXPAND)(tar)\n",
    "\n",
    "    for _ in range(n_tr):\n",
    "        x1 = MultiHeadAttention(num_heads=n_heads,key_dim = kdim)(x,x,use_causal_mask=True)\n",
    "        x2 = Add()([x1,x])\n",
    "        x2 = LayerNormalization()(x2)\n",
    "        x3 = MultiHeadAttention(num_heads=n_heads,key_dim = kdim)(x2,cont)\n",
    "        x4 = Add()([x3,x2])\n",
    "        x4 = LayerNormalization()(x4)\n",
    "        x5 = Dense(2*kdim)(x4)\n",
    "        x5 = Dense(kdim)(x5)\n",
    "        x5 = Dropout(dropout)(x5)\n",
    "        x5 = Add()([x4,x5])\n",
    "        x = LayerNormalization()(x5)\n",
    "\n",
    "    x = Dense(1)(x)\n",
    "\n",
    "    return keras.Model((tar,cont),x)"
   ]
  },
  {
   "cell_type": "code",
   "execution_count": 73,
   "id": "31f50067-b99b-4d61-a7d8-5c05bd05ce32",
   "metadata": {},
   "outputs": [],
   "source": [
    "def Transformer(inp_shape,kdim,dropout,n_tr,n_heads):\n",
    "    inp = Input(inp_shape[0])\n",
    "    tar = Input(inp_shape[1])\n",
    "    enc_model = Encoder(inp_shape[0],kdim,dropout,n_tr,n_heads)\n",
    "    context = enc_model(inp)\n",
    "    sh2 = inp_shape[1]\n",
    "    sh1 = context.shape[1:]\n",
    "    dec_model = Decoder(sh1,sh2,kdim,dropout,n_tr,n_heads)\n",
    "    out = dec_model((tar,context))\n",
    "    return keras.Model((inp,tar),out)"
   ]
  },
  {
   "cell_type": "code",
   "execution_count": 188,
   "id": "17008d90-20d8-4806-8dcd-84f9985c5e76",
   "metadata": {},
   "outputs": [],
   "source": [
    "inp_shape = [(128,66,1),(128,1)]\n",
    "kdim = 32\n",
    "dropout = 0.2\n",
    "n_tr = 8\n",
    "n_heads = 2\n",
    "\n",
    "inp = Input(inp_shape[0])\n",
    "tar = Input(inp_shape[1])\n",
    "enc_model = Encoder(inp_shape[0],kdim,dropout,n_tr,n_heads)\n",
    "context = enc_model(inp)\n",
    "sh2 = inp_shape[1]\n",
    "sh1 = context.shape[1:]\n",
    "dec_model = Decoder(sh1,sh2,kdim,dropout,n_tr,n_heads)\n",
    "out = dec_model((tar,context))\n",
    "\n",
    "model = keras.Model((inp,tar),out)"
   ]
  },
  {
   "cell_type": "code",
   "execution_count": 190,
   "id": "e35f8726-4a6c-4886-a3d9-b89f4d75eb83",
   "metadata": {},
   "outputs": [],
   "source": [
    "model.compile(optimizer=keras.optimizers.Nadam(),loss=keras.losses.MeanSquaredError(),metrics = [keras.metrics.CosineSimilarity()])"
   ]
  },
  {
   "cell_type": "code",
   "execution_count": 191,
   "id": "ef64478a-42f7-4731-a9b5-5c4546dcbc5c",
   "metadata": {},
   "outputs": [
    {
     "name": "stdout",
     "output_type": "stream",
     "text": [
      "Epoch 1/10\n",
      "528/528 [==============================] - 238s 401ms/step - loss: 0.9597 - cosine_similarity: 0.2139 - val_loss: 0.9435 - val_cosine_similarity: 0.2547\n",
      "Epoch 2/10\n",
      "  9/528 [..............................] - ETA: 3:15 - loss: 0.9404 - cosine_similarity: 0.2602"
     ]
    },
    {
     "ename": "KeyboardInterrupt",
     "evalue": "",
     "output_type": "error",
     "traceback": [
      "\u001b[1;31m---------------------------------------------------------------------------\u001b[0m",
      "\u001b[1;31mKeyboardInterrupt\u001b[0m                         Traceback (most recent call last)",
      "Cell \u001b[1;32mIn[191], line 1\u001b[0m\n\u001b[1;32m----> 1\u001b[0m \u001b[43mmodel\u001b[49m\u001b[38;5;241;43m.\u001b[39;49m\u001b[43mfit\u001b[49m\u001b[43m(\u001b[49m\u001b[43mtrain_dataset\u001b[49m\u001b[43m,\u001b[49m\u001b[43mepochs\u001b[49m\u001b[38;5;241;43m=\u001b[39;49m\u001b[38;5;241;43m10\u001b[39;49m\u001b[43m,\u001b[49m\u001b[43mvalidation_data\u001b[49m\u001b[43m \u001b[49m\u001b[38;5;241;43m=\u001b[39;49m\u001b[43m \u001b[49m\u001b[43mval_dataset\u001b[49m\u001b[43m)\u001b[49m\n",
      "File \u001b[1;32m~\\AppData\\Roaming\\Python\\Python310\\site-packages\\keras\\utils\\traceback_utils.py:65\u001b[0m, in \u001b[0;36mfilter_traceback.<locals>.error_handler\u001b[1;34m(*args, **kwargs)\u001b[0m\n\u001b[0;32m     63\u001b[0m filtered_tb \u001b[38;5;241m=\u001b[39m \u001b[38;5;28;01mNone\u001b[39;00m\n\u001b[0;32m     64\u001b[0m \u001b[38;5;28;01mtry\u001b[39;00m:\n\u001b[1;32m---> 65\u001b[0m     \u001b[38;5;28;01mreturn\u001b[39;00m fn(\u001b[38;5;241m*\u001b[39margs, \u001b[38;5;241m*\u001b[39m\u001b[38;5;241m*\u001b[39mkwargs)\n\u001b[0;32m     66\u001b[0m \u001b[38;5;28;01mexcept\u001b[39;00m \u001b[38;5;167;01mException\u001b[39;00m \u001b[38;5;28;01mas\u001b[39;00m e:\n\u001b[0;32m     67\u001b[0m     filtered_tb \u001b[38;5;241m=\u001b[39m _process_traceback_frames(e\u001b[38;5;241m.\u001b[39m__traceback__)\n",
      "File \u001b[1;32m~\\AppData\\Roaming\\Python\\Python310\\site-packages\\keras\\engine\\training.py:1564\u001b[0m, in \u001b[0;36mModel.fit\u001b[1;34m(self, x, y, batch_size, epochs, verbose, callbacks, validation_split, validation_data, shuffle, class_weight, sample_weight, initial_epoch, steps_per_epoch, validation_steps, validation_batch_size, validation_freq, max_queue_size, workers, use_multiprocessing)\u001b[0m\n\u001b[0;32m   1556\u001b[0m \u001b[38;5;28;01mwith\u001b[39;00m tf\u001b[38;5;241m.\u001b[39mprofiler\u001b[38;5;241m.\u001b[39mexperimental\u001b[38;5;241m.\u001b[39mTrace(\n\u001b[0;32m   1557\u001b[0m     \u001b[38;5;124m\"\u001b[39m\u001b[38;5;124mtrain\u001b[39m\u001b[38;5;124m\"\u001b[39m,\n\u001b[0;32m   1558\u001b[0m     epoch_num\u001b[38;5;241m=\u001b[39mepoch,\n\u001b[1;32m   (...)\u001b[0m\n\u001b[0;32m   1561\u001b[0m     _r\u001b[38;5;241m=\u001b[39m\u001b[38;5;241m1\u001b[39m,\n\u001b[0;32m   1562\u001b[0m ):\n\u001b[0;32m   1563\u001b[0m     callbacks\u001b[38;5;241m.\u001b[39mon_train_batch_begin(step)\n\u001b[1;32m-> 1564\u001b[0m     tmp_logs \u001b[38;5;241m=\u001b[39m \u001b[38;5;28;43mself\u001b[39;49m\u001b[38;5;241;43m.\u001b[39;49m\u001b[43mtrain_function\u001b[49m\u001b[43m(\u001b[49m\u001b[43miterator\u001b[49m\u001b[43m)\u001b[49m\n\u001b[0;32m   1565\u001b[0m     \u001b[38;5;28;01mif\u001b[39;00m data_handler\u001b[38;5;241m.\u001b[39mshould_sync:\n\u001b[0;32m   1566\u001b[0m         context\u001b[38;5;241m.\u001b[39masync_wait()\n",
      "File \u001b[1;32m~\\AppData\\Roaming\\Python\\Python310\\site-packages\\tensorflow\\python\\util\\traceback_utils.py:150\u001b[0m, in \u001b[0;36mfilter_traceback.<locals>.error_handler\u001b[1;34m(*args, **kwargs)\u001b[0m\n\u001b[0;32m    148\u001b[0m filtered_tb \u001b[38;5;241m=\u001b[39m \u001b[38;5;28;01mNone\u001b[39;00m\n\u001b[0;32m    149\u001b[0m \u001b[38;5;28;01mtry\u001b[39;00m:\n\u001b[1;32m--> 150\u001b[0m   \u001b[38;5;28;01mreturn\u001b[39;00m fn(\u001b[38;5;241m*\u001b[39margs, \u001b[38;5;241m*\u001b[39m\u001b[38;5;241m*\u001b[39mkwargs)\n\u001b[0;32m    151\u001b[0m \u001b[38;5;28;01mexcept\u001b[39;00m \u001b[38;5;167;01mException\u001b[39;00m \u001b[38;5;28;01mas\u001b[39;00m e:\n\u001b[0;32m    152\u001b[0m   filtered_tb \u001b[38;5;241m=\u001b[39m _process_traceback_frames(e\u001b[38;5;241m.\u001b[39m__traceback__)\n",
      "File \u001b[1;32m~\\AppData\\Roaming\\Python\\Python310\\site-packages\\tensorflow\\python\\eager\\def_function.py:915\u001b[0m, in \u001b[0;36mFunction.__call__\u001b[1;34m(self, *args, **kwds)\u001b[0m\n\u001b[0;32m    912\u001b[0m compiler \u001b[38;5;241m=\u001b[39m \u001b[38;5;124m\"\u001b[39m\u001b[38;5;124mxla\u001b[39m\u001b[38;5;124m\"\u001b[39m \u001b[38;5;28;01mif\u001b[39;00m \u001b[38;5;28mself\u001b[39m\u001b[38;5;241m.\u001b[39m_jit_compile \u001b[38;5;28;01melse\u001b[39;00m \u001b[38;5;124m\"\u001b[39m\u001b[38;5;124mnonXla\u001b[39m\u001b[38;5;124m\"\u001b[39m\n\u001b[0;32m    914\u001b[0m \u001b[38;5;28;01mwith\u001b[39;00m OptionalXlaContext(\u001b[38;5;28mself\u001b[39m\u001b[38;5;241m.\u001b[39m_jit_compile):\n\u001b[1;32m--> 915\u001b[0m   result \u001b[38;5;241m=\u001b[39m \u001b[38;5;28mself\u001b[39m\u001b[38;5;241m.\u001b[39m_call(\u001b[38;5;241m*\u001b[39margs, \u001b[38;5;241m*\u001b[39m\u001b[38;5;241m*\u001b[39mkwds)\n\u001b[0;32m    917\u001b[0m new_tracing_count \u001b[38;5;241m=\u001b[39m \u001b[38;5;28mself\u001b[39m\u001b[38;5;241m.\u001b[39mexperimental_get_tracing_count()\n\u001b[0;32m    918\u001b[0m without_tracing \u001b[38;5;241m=\u001b[39m (tracing_count \u001b[38;5;241m==\u001b[39m new_tracing_count)\n",
      "File \u001b[1;32m~\\AppData\\Roaming\\Python\\Python310\\site-packages\\tensorflow\\python\\eager\\def_function.py:947\u001b[0m, in \u001b[0;36mFunction._call\u001b[1;34m(self, *args, **kwds)\u001b[0m\n\u001b[0;32m    944\u001b[0m   \u001b[38;5;28mself\u001b[39m\u001b[38;5;241m.\u001b[39m_lock\u001b[38;5;241m.\u001b[39mrelease()\n\u001b[0;32m    945\u001b[0m   \u001b[38;5;66;03m# In this case we have created variables on the first call, so we run the\u001b[39;00m\n\u001b[0;32m    946\u001b[0m   \u001b[38;5;66;03m# defunned version which is guaranteed to never create variables.\u001b[39;00m\n\u001b[1;32m--> 947\u001b[0m   \u001b[38;5;28;01mreturn\u001b[39;00m \u001b[38;5;28mself\u001b[39m\u001b[38;5;241m.\u001b[39m_stateless_fn(\u001b[38;5;241m*\u001b[39margs, \u001b[38;5;241m*\u001b[39m\u001b[38;5;241m*\u001b[39mkwds)  \u001b[38;5;66;03m# pylint: disable=not-callable\u001b[39;00m\n\u001b[0;32m    948\u001b[0m \u001b[38;5;28;01melif\u001b[39;00m \u001b[38;5;28mself\u001b[39m\u001b[38;5;241m.\u001b[39m_stateful_fn \u001b[38;5;129;01mis\u001b[39;00m \u001b[38;5;129;01mnot\u001b[39;00m \u001b[38;5;28;01mNone\u001b[39;00m:\n\u001b[0;32m    949\u001b[0m   \u001b[38;5;66;03m# Release the lock early so that multiple threads can perform the call\u001b[39;00m\n\u001b[0;32m    950\u001b[0m   \u001b[38;5;66;03m# in parallel.\u001b[39;00m\n\u001b[0;32m    951\u001b[0m   \u001b[38;5;28mself\u001b[39m\u001b[38;5;241m.\u001b[39m_lock\u001b[38;5;241m.\u001b[39mrelease()\n",
      "File \u001b[1;32m~\\AppData\\Roaming\\Python\\Python310\\site-packages\\tensorflow\\python\\eager\\function.py:2496\u001b[0m, in \u001b[0;36mFunction.__call__\u001b[1;34m(self, *args, **kwargs)\u001b[0m\n\u001b[0;32m   2493\u001b[0m \u001b[38;5;28;01mwith\u001b[39;00m \u001b[38;5;28mself\u001b[39m\u001b[38;5;241m.\u001b[39m_lock:\n\u001b[0;32m   2494\u001b[0m   (graph_function,\n\u001b[0;32m   2495\u001b[0m    filtered_flat_args) \u001b[38;5;241m=\u001b[39m \u001b[38;5;28mself\u001b[39m\u001b[38;5;241m.\u001b[39m_maybe_define_function(args, kwargs)\n\u001b[1;32m-> 2496\u001b[0m \u001b[38;5;28;01mreturn\u001b[39;00m \u001b[43mgraph_function\u001b[49m\u001b[38;5;241;43m.\u001b[39;49m\u001b[43m_call_flat\u001b[49m\u001b[43m(\u001b[49m\n\u001b[0;32m   2497\u001b[0m \u001b[43m    \u001b[49m\u001b[43mfiltered_flat_args\u001b[49m\u001b[43m,\u001b[49m\u001b[43m \u001b[49m\u001b[43mcaptured_inputs\u001b[49m\u001b[38;5;241;43m=\u001b[39;49m\u001b[43mgraph_function\u001b[49m\u001b[38;5;241;43m.\u001b[39;49m\u001b[43mcaptured_inputs\u001b[49m\u001b[43m)\u001b[49m\n",
      "File \u001b[1;32m~\\AppData\\Roaming\\Python\\Python310\\site-packages\\tensorflow\\python\\eager\\function.py:1862\u001b[0m, in \u001b[0;36mConcreteFunction._call_flat\u001b[1;34m(self, args, captured_inputs, cancellation_manager)\u001b[0m\n\u001b[0;32m   1858\u001b[0m possible_gradient_type \u001b[38;5;241m=\u001b[39m gradients_util\u001b[38;5;241m.\u001b[39mPossibleTapeGradientTypes(args)\n\u001b[0;32m   1859\u001b[0m \u001b[38;5;28;01mif\u001b[39;00m (possible_gradient_type \u001b[38;5;241m==\u001b[39m gradients_util\u001b[38;5;241m.\u001b[39mPOSSIBLE_GRADIENT_TYPES_NONE\n\u001b[0;32m   1860\u001b[0m     \u001b[38;5;129;01mand\u001b[39;00m executing_eagerly):\n\u001b[0;32m   1861\u001b[0m   \u001b[38;5;66;03m# No tape is watching; skip to running the function.\u001b[39;00m\n\u001b[1;32m-> 1862\u001b[0m   \u001b[38;5;28;01mreturn\u001b[39;00m \u001b[38;5;28mself\u001b[39m\u001b[38;5;241m.\u001b[39m_build_call_outputs(\u001b[38;5;28;43mself\u001b[39;49m\u001b[38;5;241;43m.\u001b[39;49m\u001b[43m_inference_function\u001b[49m\u001b[38;5;241;43m.\u001b[39;49m\u001b[43mcall\u001b[49m\u001b[43m(\u001b[49m\n\u001b[0;32m   1863\u001b[0m \u001b[43m      \u001b[49m\u001b[43mctx\u001b[49m\u001b[43m,\u001b[49m\u001b[43m \u001b[49m\u001b[43margs\u001b[49m\u001b[43m,\u001b[49m\u001b[43m \u001b[49m\u001b[43mcancellation_manager\u001b[49m\u001b[38;5;241;43m=\u001b[39;49m\u001b[43mcancellation_manager\u001b[49m\u001b[43m)\u001b[49m)\n\u001b[0;32m   1864\u001b[0m forward_backward \u001b[38;5;241m=\u001b[39m \u001b[38;5;28mself\u001b[39m\u001b[38;5;241m.\u001b[39m_select_forward_and_backward_functions(\n\u001b[0;32m   1865\u001b[0m     args,\n\u001b[0;32m   1866\u001b[0m     possible_gradient_type,\n\u001b[0;32m   1867\u001b[0m     executing_eagerly)\n\u001b[0;32m   1868\u001b[0m forward_function, args_with_tangents \u001b[38;5;241m=\u001b[39m forward_backward\u001b[38;5;241m.\u001b[39mforward()\n",
      "File \u001b[1;32m~\\AppData\\Roaming\\Python\\Python310\\site-packages\\tensorflow\\python\\eager\\function.py:499\u001b[0m, in \u001b[0;36m_EagerDefinedFunction.call\u001b[1;34m(self, ctx, args, cancellation_manager)\u001b[0m\n\u001b[0;32m    497\u001b[0m \u001b[38;5;28;01mwith\u001b[39;00m _InterpolateFunctionError(\u001b[38;5;28mself\u001b[39m):\n\u001b[0;32m    498\u001b[0m   \u001b[38;5;28;01mif\u001b[39;00m cancellation_manager \u001b[38;5;129;01mis\u001b[39;00m \u001b[38;5;28;01mNone\u001b[39;00m:\n\u001b[1;32m--> 499\u001b[0m     outputs \u001b[38;5;241m=\u001b[39m \u001b[43mexecute\u001b[49m\u001b[38;5;241;43m.\u001b[39;49m\u001b[43mexecute\u001b[49m\u001b[43m(\u001b[49m\n\u001b[0;32m    500\u001b[0m \u001b[43m        \u001b[49m\u001b[38;5;28;43mstr\u001b[39;49m\u001b[43m(\u001b[49m\u001b[38;5;28;43mself\u001b[39;49m\u001b[38;5;241;43m.\u001b[39;49m\u001b[43msignature\u001b[49m\u001b[38;5;241;43m.\u001b[39;49m\u001b[43mname\u001b[49m\u001b[43m)\u001b[49m\u001b[43m,\u001b[49m\n\u001b[0;32m    501\u001b[0m \u001b[43m        \u001b[49m\u001b[43mnum_outputs\u001b[49m\u001b[38;5;241;43m=\u001b[39;49m\u001b[38;5;28;43mself\u001b[39;49m\u001b[38;5;241;43m.\u001b[39;49m\u001b[43m_num_outputs\u001b[49m\u001b[43m,\u001b[49m\n\u001b[0;32m    502\u001b[0m \u001b[43m        \u001b[49m\u001b[43minputs\u001b[49m\u001b[38;5;241;43m=\u001b[39;49m\u001b[43margs\u001b[49m\u001b[43m,\u001b[49m\n\u001b[0;32m    503\u001b[0m \u001b[43m        \u001b[49m\u001b[43mattrs\u001b[49m\u001b[38;5;241;43m=\u001b[39;49m\u001b[43mattrs\u001b[49m\u001b[43m,\u001b[49m\n\u001b[0;32m    504\u001b[0m \u001b[43m        \u001b[49m\u001b[43mctx\u001b[49m\u001b[38;5;241;43m=\u001b[39;49m\u001b[43mctx\u001b[49m\u001b[43m)\u001b[49m\n\u001b[0;32m    505\u001b[0m   \u001b[38;5;28;01melse\u001b[39;00m:\n\u001b[0;32m    506\u001b[0m     outputs \u001b[38;5;241m=\u001b[39m execute\u001b[38;5;241m.\u001b[39mexecute_with_cancellation(\n\u001b[0;32m    507\u001b[0m         \u001b[38;5;28mstr\u001b[39m(\u001b[38;5;28mself\u001b[39m\u001b[38;5;241m.\u001b[39msignature\u001b[38;5;241m.\u001b[39mname),\n\u001b[0;32m    508\u001b[0m         num_outputs\u001b[38;5;241m=\u001b[39m\u001b[38;5;28mself\u001b[39m\u001b[38;5;241m.\u001b[39m_num_outputs,\n\u001b[1;32m   (...)\u001b[0m\n\u001b[0;32m    511\u001b[0m         ctx\u001b[38;5;241m=\u001b[39mctx,\n\u001b[0;32m    512\u001b[0m         cancellation_manager\u001b[38;5;241m=\u001b[39mcancellation_manager)\n",
      "File \u001b[1;32m~\\AppData\\Roaming\\Python\\Python310\\site-packages\\tensorflow\\python\\eager\\execute.py:54\u001b[0m, in \u001b[0;36mquick_execute\u001b[1;34m(op_name, num_outputs, inputs, attrs, ctx, name)\u001b[0m\n\u001b[0;32m     52\u001b[0m \u001b[38;5;28;01mtry\u001b[39;00m:\n\u001b[0;32m     53\u001b[0m   ctx\u001b[38;5;241m.\u001b[39mensure_initialized()\n\u001b[1;32m---> 54\u001b[0m   tensors \u001b[38;5;241m=\u001b[39m \u001b[43mpywrap_tfe\u001b[49m\u001b[38;5;241;43m.\u001b[39;49m\u001b[43mTFE_Py_Execute\u001b[49m\u001b[43m(\u001b[49m\u001b[43mctx\u001b[49m\u001b[38;5;241;43m.\u001b[39;49m\u001b[43m_handle\u001b[49m\u001b[43m,\u001b[49m\u001b[43m \u001b[49m\u001b[43mdevice_name\u001b[49m\u001b[43m,\u001b[49m\u001b[43m \u001b[49m\u001b[43mop_name\u001b[49m\u001b[43m,\u001b[49m\n\u001b[0;32m     55\u001b[0m \u001b[43m                                      \u001b[49m\u001b[43minputs\u001b[49m\u001b[43m,\u001b[49m\u001b[43m \u001b[49m\u001b[43mattrs\u001b[49m\u001b[43m,\u001b[49m\u001b[43m \u001b[49m\u001b[43mnum_outputs\u001b[49m\u001b[43m)\u001b[49m\n\u001b[0;32m     56\u001b[0m \u001b[38;5;28;01mexcept\u001b[39;00m core\u001b[38;5;241m.\u001b[39m_NotOkStatusException \u001b[38;5;28;01mas\u001b[39;00m e:\n\u001b[0;32m     57\u001b[0m   \u001b[38;5;28;01mif\u001b[39;00m name \u001b[38;5;129;01mis\u001b[39;00m \u001b[38;5;129;01mnot\u001b[39;00m \u001b[38;5;28;01mNone\u001b[39;00m:\n",
      "\u001b[1;31mKeyboardInterrupt\u001b[0m: "
     ]
    }
   ],
   "source": [
    "model.fit(train_dataset,epochs=10,validation_data = val_dataset)"
   ]
  },
  {
   "cell_type": "code",
   "execution_count": 201,
   "id": "7662ddae-1a19-4a6c-8b86-fd7e5aac8f0e",
   "metadata": {},
   "outputs": [],
   "source": [
    "def decode(Encoder,Decoder,eeg):\n",
    "    context = Encoder(eeg)\n",
    "    tar = np.zeros((1,128,1))\n",
    "    tar[0][0] = -4\n",
    "    for i in range(5):\n",
    "        out = Decoder((tar,context))\n",
    "        tar[0][i+1] = out[0][-1]\n",
    "        print(tar[0][i])\n",
    "    return out"
   ]
  },
  {
   "cell_type": "code",
   "execution_count": 202,
   "id": "2c614386-936e-4e7e-99a2-f79a9b4193f1",
   "metadata": {},
   "outputs": [
    {
     "name": "stdout",
     "output_type": "stream",
     "text": [
      "[-4.]\n",
      "[-0.1698627]\n",
      "[-0.16986364]\n",
      "[-0.16986464]\n",
      "[-0.1698657]\n"
     ]
    }
   ],
   "source": [
    "pred = decode(enc_model,dec_model,np.expand_dims(X_val[1],axis=0))"
   ]
  },
  {
   "cell_type": "code",
   "execution_count": 162,
   "id": "625296a2-654c-4cad-bf2e-281c60a8d6b4",
   "metadata": {},
   "outputs": [
    {
     "data": {
      "text/plain": [
       "[<matplotlib.lines.Line2D at 0x213a74c3bb0>]"
      ]
     },
     "execution_count": 162,
     "metadata": {},
     "output_type": "execute_result"
    },
    {
     "data": {
      "image/png": "[encoded data removed]",
      "text/plain": [
       "<Figure size 640x480 with 1 Axes>"
      ]
     },
     "metadata": {},
     "output_type": "display_data"
    }
   ],
   "source": [
    "plt.plot(pred[0])"
   ]
  },
  {
   "cell_type": "code",
   "execution_count": 135,
   "id": "d0d91be9-5af3-4f35-b10c-d239550ff7a1",
   "metadata": {},
   "outputs": [],
   "source": [
    "for inp,tar in val_dataset:\n",
    "    t = np.squeeze(tar[0])\n",
    "    break"
   ]
  },
  {
   "cell_type": "code",
   "execution_count": 136,
   "id": "5e65248c-8f7b-4e36-b197-749ec8d5a2db",
   "metadata": {},
   "outputs": [
    {
     "data": {
      "text/plain": [
       "[<matplotlib.lines.Line2D at 0x213ce8b1a80>]"
      ]
     },
     "execution_count": 136,
     "metadata": {},
     "output_type": "execute_result"
    },
    {
     "data": {
      "image/png": "[encoded data removed]",
      "text/plain": [
       "<Figure size 640x480 with 1 Axes>"
      ]
     },
     "metadata": {},
     "output_type": "display_data"
    }
   ],
   "source": [
    "plt.plot(t)\n",
    "plt.plot(pred[0])"
   ]
  },
  {
   "cell_type": "code",
   "execution_count": 116,
   "id": "9b6fb522-246b-4f2b-b18d-5e43181537cb",
   "metadata": {},
   "outputs": [],
   "source": [
    "t = np.expand_dims(t,axis=-1)"
   ]
  },
  {
   "cell_type": "code",
   "execution_count": 118,
   "id": "7187d143-a0e5-46e3-9d42-f364e4a82e73",
   "metadata": {},
   "outputs": [
    {
     "data": {
      "text/plain": [
       "array([201.25641], dtype=float32)"
      ]
     },
     "execution_count": 118,
     "metadata": {},
     "output_type": "execute_result"
    }
   ],
   "source": [
    "sum((pred[0]-(t+0.5))**2)"
   ]
  },
  {
   "cell_type": "code",
   "execution_count": null,
   "id": "df95bf46-68e8-4d8d-b558-964938e6a792",
   "metadata": {},
   "outputs": [],
   "source": []
  }
 ],
 "metadata": {
  "kernelspec": {
   "display_name": "Python 3 (ipykernel)",
   "language": "python",
   "name": "python3"
  },
  "language_info": {
   "codemirror_mode": {
    "name": "ipython",
    "version": 3
   },
   "file_extension": ".py",
   "mimetype": "text/x-python",
   "name": "python",
   "nbconvert_exporter": "python",
   "pygments_lexer": "ipython3",
   "version": "3.10.13"
  }
 },
 "nbformat": 4,
 "nbformat_minor": 5
}

{
 "cells": [
  {
   "cell_type": "code",
   "execution_count": 1,
   "id": "f2054e8b-4385-4b89-a496-1789052efb2c",
   "metadata": {},
   "outputs": [],
   "source": [
    "from pymatreader import read_mat\n",
    "import os\n",
    "os.environ[\"KERAS_BACKEND\"] = \"torch\"\n",
    "os.environ[\"PYTORCH_CUDA_ALLOC_CONF\"] = \"max_split_size_mb:512\"\n",
    "import numpy as np\n",
    "import librosa\n",
    "import scipy\n",
    "import matplotlib.pyplot as plt\n",
    "from sklearn.preprocessing import StandardScaler, MinMaxScaler\n",
    "from sklearn.model_selection import train_test_split\n",
    "import keras\n",
    "from keras.layers import Conv2D, BatchNormalization, AveragePooling2D, Input, Flatten, Dense, Reshape, SpatialDropout2D, MultiHeadAttention, Conv1D, Dropout\n",
    "from keras.layers import LayerNormalization, AveragePooling1D, RepeatVector, Multiply, Concatenate,GlobalAveragePooling1D, Add, DepthwiseConv2D, Masking,UpSampling2D\n",
    "import torch\n",
    "from keras.losses import CosineSimilarity\n",
    "from torch.utils.data import Dataset\n",
    "import tensorflow as tf\n",
    "torch.set_default_device('cuda')\n",
    "from sklearn.preprocessing import scale\n",
    "from torch.utils.data import Dataset, DataLoader\n",
    "import more_itertools\n",
    "from keras_pos_embd import TrigPosEmbedding\n",
    "from scipy.signal import sosfiltfilt, butter\n",
    "from scipy.signal import sosfiltfilt, butter\n",
    "\n",
    "#from keras_nlp.layers import TransformerEncoder\n",
    "\n",
    "\n",
    "#torch.backends.cudnn.benchmark = True"
   ]
  },
  {
   "cell_type": "code",
   "execution_count": 2,
   "id": "6e06cc80-3117-4213-a728-7ed3933ca512",
   "metadata": {},
   "outputs": [],
   "source": [
    "X = np.load('sub1.npy')\n",
    "stim1 = np.load('stim.npy')\n",
    "stim2 = np.load('mask.npy')\n",
    "#label = read_mat('ExJobb/y.mat')['label'][0:4]%2\n",
    "#label = np.repeat(label.reshape(-1,1),33,axis=1)"
   ]
  },
  {
   "cell_type": "code",
   "execution_count": 3,
   "id": "8c9ccee4-d29e-40b2-b5a8-6f544eb7cf7a",
   "metadata": {},
   "outputs": [],
   "source": [
    "Xx = []\n",
    "stimulus = []\n",
    "masker = []\n",
    "for i in range(80):\n",
    "    x = []\n",
    "    for j in range(66):\n",
    "        t = np.array(list(more_itertools.sliced(X[i][j],n=128)))\n",
    "        x.append(t.T)\n",
    "    Xx.append(np.asarray(x).T)\n",
    "    stimulus.append(np.array(list(more_itertools.sliced(stim1[i],n=128))))\n",
    "    masker.append(np.array(list(more_itertools.sliced(stim2[i],n=128))))\n",
    "\n",
    "X = np.array(Xx)\n",
    "stim = np.array(stimulus)\n",
    "mask = np.array(masker)\n",
    "\n",
    "X = X.reshape((80*33,128,66))\n",
    "stim = stim.reshape((80*33,128))\n",
    "mask = mask.reshape((80*33,128))\n",
    "#label = label.reshape((80*33,1))"
   ]
  },
  {
   "cell_type": "code",
   "execution_count": 4,
   "id": "c03e2552-6cfd-4795-8a1a-e18396f99210",
   "metadata": {},
   "outputs": [],
   "source": [
    "X_train,X_valid,y_tr,y_val,m,mv = train_test_split(X,stim,mask,test_size=0.2)"
   ]
  },
  {
   "cell_type": "code",
   "execution_count": 5,
   "id": "3efe0591-ed89-444b-8e70-4ab029277008",
   "metadata": {},
   "outputs": [
    {
     "data": {
      "text/plain": [
       "(2112, 128)"
      ]
     },
     "execution_count": 5,
     "metadata": {},
     "output_type": "execute_result"
    }
   ],
   "source": [
    "y_tr.shape"
   ]
  },
  {
   "cell_type": "code",
   "execution_count": 6,
   "id": "4f690ba7-8e00-4fa2-8001-85d3a42ce246",
   "metadata": {},
   "outputs": [],
   "source": [
    "trsc = StandardScaler()\n",
    "X_tr = []\n",
    "X_val = []\n",
    "for i in range(len(X_train)):\n",
    "    X_tr.append(np.expand_dims(trsc.fit_transform(X_train[i]),axis=-1).astype(np.float32))\n",
    "\n",
    "for i in range(len(X_valid)):\n",
    "    X_val.append(np.expand_dims(trsc.fit_transform(X_valid[i]),axis=-1).astype(np.float32))\n",
    "#X_test = np.expand_dims(trsc.fit_transform(respts),axis=-1).astype(np.float32)\n",
    "\n",
    "X_tr = np.array(X_tr)\n",
    "X_val = np.array(X_val)\n",
    "\n",
    "trst = StandardScaler()\n",
    "y_tr = trst.fit_transform(y_tr.T).astype(np.float32).T\n",
    "y_val = trst.fit_transform(y_val.T).astype(np.float32).T\n",
    "#y_test = trst.fit_transform(stimts).astype(np.float32)\n",
    "\n",
    "trsm = StandardScaler()\n",
    "m_tr = trsm.fit_transform(m.T).astype(np.float32).T\n",
    "m_val = trsm.fit_transform(mv.T).astype(np.float32).T\n",
    "#m_test = trsm.fit_transform(masts).astype(np.float32)"
   ]
  },
  {
   "cell_type": "code",
   "execution_count": 7,
   "id": "bc1387fd-3a9f-4611-91e4-b46d9009e735",
   "metadata": {},
   "outputs": [],
   "source": [
    "y_tr = np.expand_dims(y_tr,axis=-1)\n",
    "y_val = np.expand_dims(y_val,axis=-1)\n",
    "m_val = np.expand_dims(m_val,axis=-1)\n",
    "m_tr = np.expand_dims(m_tr,axis=-1)"
   ]
  },
  {
   "cell_type": "code",
   "execution_count": 8,
   "id": "a497e3bf-46e4-462c-803a-4f407821f0d6",
   "metadata": {},
   "outputs": [],
   "source": [
    "stimtr = np.roll(y_tr,1,axis=1)\n",
    "stimval = np.roll(y_val,1,axis=1)\n",
    "stimtr[:,0] = np.mean(X_tr,axis=2)[:,0]\n",
    "stimval[:,0] =  np.mean(X_val,axis=2)[:,0]"
   ]
  },
  {
   "cell_type": "code",
   "execution_count": 9,
   "id": "0edef70a-0104-40c1-8025-c3ac082dcf6c",
   "metadata": {},
   "outputs": [],
   "source": [
    "train_dataset = tf.data.Dataset.from_tensor_slices(((X_tr,stimtr),y_tr))\n",
    "val_dataset = tf.data.Dataset.from_tensor_slices(((X_val,stimval),y_val))"
   ]
  },
  {
   "cell_type": "code",
   "execution_count": 10,
   "id": "481b112b-8cc8-48df-a3f5-f04bef9302f7",
   "metadata": {},
   "outputs": [],
   "source": [
    "train_dataset = train_dataset.batch(4).shuffle(32)\n",
    "train_dataset = train_dataset.prefetch(tf.data.AUTOTUNE)"
   ]
  },
  {
   "cell_type": "code",
   "execution_count": 11,
   "id": "a4c68db2-fdbe-4007-bcc0-9dbda2254742",
   "metadata": {},
   "outputs": [],
   "source": [
    "val_dataset = val_dataset.batch(4)\n",
    "val_dataset = val_dataset.prefetch(tf.data.AUTOTUNE)"
   ]
  },
  {
   "cell_type": "code",
   "execution_count": 12,
   "id": "c70bff89-b548-4f9c-aef9-c2cad4ef1d81",
   "metadata": {},
   "outputs": [
    {
     "name": "stdout",
     "output_type": "stream",
     "text": [
      "Using PyTorch backend.\n"
     ]
    }
   ],
   "source": [
    "from keras import backend\n",
    "from keras_core import ops\n",
    "\n",
    "class SinePositionEncoding(torch.nn.Module):\n",
    "    def __init__(self, max_wavelength=10000, **kwargs):\n",
    "        super().__init__(**kwargs)\n",
    "        self.max_wavelength = max_wavelength\n",
    "        self.built = True\n",
    "\n",
    "    def forward(self, inputs, start_index=0):\n",
    "        shape = inputs.shape\n",
    "        seq_length = shape[-2]\n",
    "        hidden_size = shape[-1]\n",
    "        positions = torch.arange(seq_length)\n",
    "        positions = positions + start_index\n",
    "        min_freq = 1 / self.max_wavelength\n",
    "        timescales = min_freq ** (\n",
    "            (2 * (torch.arange(hidden_size) // 2).to(torch.float32))\n",
    "            / hidden_size\n",
    "        )\n",
    "        angles = positions.unsqueeze(1) * timescales.unsqueeze(0)\n",
    "        # even indices are sine, odd are cosine\n",
    "        cos_mask = torch.tensor(torch.arange(hidden_size) % 2, dtype=torch.float32)\n",
    "        sin_mask = 1 - cos_mask\n",
    "        # embedding shape is [seq_length, hidden_size]\n",
    "        positional_encodings = (\n",
    "            torch.sin(angles) * sin_mask + torch.cos(angles) * cos_mask\n",
    "        )\n",
    "\n",
    "        return positional_encodings.cpu()\n",
    "\n",
    "    def get_config(self):\n",
    "        config = super().get_config()\n",
    "        config.update(\n",
    "            {\n",
    "                \"max_wavelength\": self.max_wavelength,\n",
    "            }\n",
    "        )\n",
    "        return config\n",
    "\n",
    "    def compute_output_shape(self, input_shape):\n",
    "        return input_shape"
   ]
  },
  {
   "cell_type": "code",
   "execution_count": 13,
   "id": "539dcd86-f17e-4244-90d3-797505e0ab99",
   "metadata": {},
   "outputs": [],
   "source": [
    "def Encoder(inputs,kdim,dropout,n_tr,n_heads):\n",
    "\n",
    "    inp = Input((inputs))\n",
    "    x = Conv2D(64,(1,8),activation=\"gelu\",strides=(4,4),padding=\"valid\")(inp)\n",
    "    x = BatchNormalization()(x)\n",
    "    x = DepthwiseConv2D(8,activation=\"gelu\",padding=\"same\")(x)\n",
    "    x = Conv2D(16,(1,15),activation = \"gelu\")(x)\n",
    "    x = Reshape((32,16))(x)\n",
    "    #x = Dense(256)(x)\n",
    "    d = Dense(kdim)(x)\n",
    "    \n",
    "    \n",
    "    emb = SinePositionEncoding()(d)\n",
    "    emb =  tf.convert_to_tensor(emb)\n",
    "    x = d+emb\n",
    "    #x = Add()([emb,d])\n",
    "    \n",
    "\n",
    "    for _ in range(n_tr):\n",
    "        x1 = MultiHeadAttention(num_heads=n_heads,key_dim = kdim)(x,x)\n",
    "        x2 = Add()([x1,x])\n",
    "        x3 = LayerNormalization()(x2)\n",
    "        x4 = Dense(kdim*2)(x3)\n",
    "        x5 = Dense(kdim)(x4)\n",
    "        x6 = Dropout(dropout)(x5)\n",
    "        x = Add()([x6,x3])\n",
    "        x = LayerNormalization()(x)\n",
    "        \n",
    "    return keras.Model(inp,x)"
   ]
  },
  {
   "cell_type": "code",
   "execution_count": 14,
   "id": "962a9e79-8bc1-4bd7-bf36-255220fff1d3",
   "metadata": {},
   "outputs": [],
   "source": [
    "def Decoder(context,targs,kdim,dropout,n_tr,n_heads):\n",
    "    tar = Input(targs)\n",
    "    cont = Input(context)\n",
    "    #tar = Conv1D(1,2,activation=\"gelu\")(tar)\n",
    "\n",
    "    #x = Conv1D(8,2,activation=\"gelu\")(tar)\n",
    "    tar = Masking(mask_value=0.)(tar)\n",
    "    d = Conv1D(kdim,2,padding=\"causal\",activation=\"gelu\")(tar)\n",
    "    emb = SinePositionEncoding()(d)\n",
    "    emb = tf.convert_to_tensor(emb)\n",
    "    x = d+emb\n",
    "    #print(x.shape)\n",
    "\n",
    "    for _ in range(n_tr):\n",
    "        x1 = MultiHeadAttention(num_heads=n_heads,key_dim = kdim)(x,x,use_causal_mask=True)\n",
    "        x2 = Add()([x1,x])\n",
    "        x2 = LayerNormalization()(x2)\n",
    "        x3 = MultiHeadAttention(num_heads=n_heads,key_dim = kdim)(x2,cont,use_causal_mask=True)\n",
    "        x4 = Add()([x3,x2])\n",
    "        x4 = LayerNormalization()(x4)\n",
    "        x5 = Dense(2*kdim)(x4)\n",
    "        x5 = Dense(kdim)(x5)\n",
    "        x5 = Dropout(dropout)(x5)\n",
    "        x5 = Add()([x4,x5])\n",
    "        x = LayerNormalization()(x5)\n",
    "\n",
    "    x = Dense(1)(x)\n",
    "\n",
    "    return keras.Model((tar,cont),x)"
   ]
  },
  {
   "cell_type": "code",
   "execution_count": 15,
   "id": "31f50067-b99b-4d61-a7d8-5c05bd05ce32",
   "metadata": {},
   "outputs": [],
   "source": [
    "def Transformer(inp_shape,kdim,dropout,n_tr,n_heads):\n",
    "    inp = Input(inp_shape[0])\n",
    "    tar = Input(inp_shape[1])\n",
    "    enc_model = Encoder(inp_shape[0],kdim,dropout,n_tr,n_heads)\n",
    "    context = enc_model(inp)\n",
    "    sh2 = inp_shape[1]\n",
    "    sh1 = context.shape[1:]\n",
    "    dec_model = Decoder(sh1,sh2,kdim,dropout,n_tr,n_heads)\n",
    "    out = dec_model((tar,context))\n",
    "    return keras.Model((inp,tar),out)"
   ]
  },
  {
   "cell_type": "code",
   "execution_count": 16,
   "id": "17008d90-20d8-4806-8dcd-84f9985c5e76",
   "metadata": {},
   "outputs": [
    {
     "name": "stderr",
     "output_type": "stream",
     "text": [
      "C:\\Users\\gauta\\anaconda3\\envs\\keras-jax\\lib\\site-packages\\torch\\utils\\_device.py:77: UserWarning: To copy construct from a tensor, it is recommended to use sourceTensor.clone().detach() or sourceTensor.clone().detach().requires_grad_(True), rather than torch.tensor(sourceTensor).\n",
      "  return func(*args, **kwargs)\n"
     ]
    }
   ],
   "source": [
    "inp_shape = [(128,66,1),(128,1)]\n",
    "kdim = 32\n",
    "dropout = 0.2\n",
    "n_tr = 4\n",
    "n_heads = 2\n",
    "\n",
    "inp = Input(inp_shape[0])\n",
    "tar = Input(inp_shape[1])\n",
    "enc_model = Encoder(inp_shape[0],kdim,dropout,n_tr,n_heads)\n",
    "context = enc_model(inp)\n",
    "sh2 = inp_shape[1]\n",
    "sh1 = context.shape[1:]\n",
    "dec_model = Decoder(sh1,sh2,kdim,dropout,n_tr,n_heads)\n",
    "out = dec_model((tar,context))\n",
    "\n",
    "model = keras.Model((inp,tar),out)"
   ]
  },
  {
   "cell_type": "code",
   "execution_count": 17,
   "id": "1cfb83cf-1390-43b1-b99d-396f6995a068",
   "metadata": {},
   "outputs": [
    {
     "name": "stdout",
     "output_type": "stream",
     "text": [
      "Model: \"model_2\"\n",
      "__________________________________________________________________________________________________\n",
      " Layer (type)                   Output Shape         Param #     Connected to                     \n",
      "==================================================================================================\n",
      " input_1 (InputLayer)           [(None, 128, 66, 1)  0           []                               \n",
      "                                ]                                                                 \n",
      "                                                                                                  \n",
      " input_2 (InputLayer)           [(None, 128, 1)]     0           []                               \n",
      "                                                                                                  \n",
      " model (Functional)             (None, 32, 32)       71856       ['input_1[0][0]']                \n",
      "                                                                                                  \n",
      " model_1 (Functional)           (None, 128, 1)       84993       ['input_2[0][0]',                \n",
      "                                                                  'model[0][0]']                  \n",
      "                                                                                                  \n",
      "==================================================================================================\n",
      "Total params: 156,849\n",
      "Trainable params: 156,721\n",
      "Non-trainable params: 128\n",
      "__________________________________________________________________________________________________\n"
     ]
    }
   ],
   "source": [
    "model.summary()"
   ]
  },
  {
   "cell_type": "code",
   "execution_count": 18,
   "id": "e35f8726-4a6c-4886-a3d9-b89f4d75eb83",
   "metadata": {},
   "outputs": [],
   "source": [
    "model.compile(optimizer=keras.optimizers.Nadam(),loss=keras.losses.MeanSquaredError(),metrics = [keras.metrics.CosineSimilarity()])"
   ]
  },
  {
   "cell_type": "code",
   "execution_count": 19,
   "id": "ef64478a-42f7-4731-a9b5-5c4546dcbc5c",
   "metadata": {},
   "outputs": [
    {
     "name": "stdout",
     "output_type": "stream",
     "text": [
      "Epoch 1/10\n",
      "528/528 [==============================] - 63s 87ms/step - loss: 0.7502 - cosine_similarity: 0.3364 - val_loss: 0.6463 - val_cosine_similarity: 0.3888\n",
      "Epoch 2/10\n",
      " 24/528 [>.............................] - ETA: 43s - loss: 0.6576 - cosine_similarity: 0.3952"
     ]
    },
    {
     "ename": "KeyboardInterrupt",
     "evalue": "",
     "output_type": "error",
     "traceback": [
      "\u001b[1;31m---------------------------------------------------------------------------\u001b[0m",
      "\u001b[1;31mKeyboardInterrupt\u001b[0m                         Traceback (most recent call last)",
      "Cell \u001b[1;32mIn[19], line 1\u001b[0m\n\u001b[1;32m----> 1\u001b[0m \u001b[43mmodel\u001b[49m\u001b[38;5;241;43m.\u001b[39;49m\u001b[43mfit\u001b[49m\u001b[43m(\u001b[49m\u001b[43mtrain_dataset\u001b[49m\u001b[43m,\u001b[49m\u001b[43mepochs\u001b[49m\u001b[38;5;241;43m=\u001b[39;49m\u001b[38;5;241;43m10\u001b[39;49m\u001b[43m,\u001b[49m\u001b[43mvalidation_data\u001b[49m\u001b[43m \u001b[49m\u001b[38;5;241;43m=\u001b[39;49m\u001b[43m \u001b[49m\u001b[43mval_dataset\u001b[49m\u001b[43m)\u001b[49m\n",
      "File \u001b[1;32m~\\AppData\\Roaming\\Python\\Python310\\site-packages\\keras\\utils\\traceback_utils.py:65\u001b[0m, in \u001b[0;36mfilter_traceback.<locals>.error_handler\u001b[1;34m(*args, **kwargs)\u001b[0m\n\u001b[0;32m     63\u001b[0m filtered_tb \u001b[38;5;241m=\u001b[39m \u001b[38;5;28;01mNone\u001b[39;00m\n\u001b[0;32m     64\u001b[0m \u001b[38;5;28;01mtry\u001b[39;00m:\n\u001b[1;32m---> 65\u001b[0m     \u001b[38;5;28;01mreturn\u001b[39;00m fn(\u001b[38;5;241m*\u001b[39margs, \u001b[38;5;241m*\u001b[39m\u001b[38;5;241m*\u001b[39mkwargs)\n\u001b[0;32m     66\u001b[0m \u001b[38;5;28;01mexcept\u001b[39;00m \u001b[38;5;167;01mException\u001b[39;00m \u001b[38;5;28;01mas\u001b[39;00m e:\n\u001b[0;32m     67\u001b[0m     filtered_tb \u001b[38;5;241m=\u001b[39m _process_traceback_frames(e\u001b[38;5;241m.\u001b[39m__traceback__)\n",
      "File \u001b[1;32m~\\AppData\\Roaming\\Python\\Python310\\site-packages\\keras\\engine\\training.py:1564\u001b[0m, in \u001b[0;36mModel.fit\u001b[1;34m(self, x, y, batch_size, epochs, verbose, callbacks, validation_split, validation_data, shuffle, class_weight, sample_weight, initial_epoch, steps_per_epoch, validation_steps, validation_batch_size, validation_freq, max_queue_size, workers, use_multiprocessing)\u001b[0m\n\u001b[0;32m   1556\u001b[0m \u001b[38;5;28;01mwith\u001b[39;00m tf\u001b[38;5;241m.\u001b[39mprofiler\u001b[38;5;241m.\u001b[39mexperimental\u001b[38;5;241m.\u001b[39mTrace(\n\u001b[0;32m   1557\u001b[0m     \u001b[38;5;124m\"\u001b[39m\u001b[38;5;124mtrain\u001b[39m\u001b[38;5;124m\"\u001b[39m,\n\u001b[0;32m   1558\u001b[0m     epoch_num\u001b[38;5;241m=\u001b[39mepoch,\n\u001b[1;32m   (...)\u001b[0m\n\u001b[0;32m   1561\u001b[0m     _r\u001b[38;5;241m=\u001b[39m\u001b[38;5;241m1\u001b[39m,\n\u001b[0;32m   1562\u001b[0m ):\n\u001b[0;32m   1563\u001b[0m     callbacks\u001b[38;5;241m.\u001b[39mon_train_batch_begin(step)\n\u001b[1;32m-> 1564\u001b[0m     tmp_logs \u001b[38;5;241m=\u001b[39m \u001b[38;5;28;43mself\u001b[39;49m\u001b[38;5;241;43m.\u001b[39;49m\u001b[43mtrain_function\u001b[49m\u001b[43m(\u001b[49m\u001b[43miterator\u001b[49m\u001b[43m)\u001b[49m\n\u001b[0;32m   1565\u001b[0m     \u001b[38;5;28;01mif\u001b[39;00m data_handler\u001b[38;5;241m.\u001b[39mshould_sync:\n\u001b[0;32m   1566\u001b[0m         context\u001b[38;5;241m.\u001b[39masync_wait()\n",
      "File \u001b[1;32m~\\AppData\\Roaming\\Python\\Python310\\site-packages\\tensorflow\\python\\util\\traceback_utils.py:150\u001b[0m, in \u001b[0;36mfilter_traceback.<locals>.error_handler\u001b[1;34m(*args, **kwargs)\u001b[0m\n\u001b[0;32m    148\u001b[0m filtered_tb \u001b[38;5;241m=\u001b[39m \u001b[38;5;28;01mNone\u001b[39;00m\n\u001b[0;32m    149\u001b[0m \u001b[38;5;28;01mtry\u001b[39;00m:\n\u001b[1;32m--> 150\u001b[0m   \u001b[38;5;28;01mreturn\u001b[39;00m fn(\u001b[38;5;241m*\u001b[39margs, \u001b[38;5;241m*\u001b[39m\u001b[38;5;241m*\u001b[39mkwargs)\n\u001b[0;32m    151\u001b[0m \u001b[38;5;28;01mexcept\u001b[39;00m \u001b[38;5;167;01mException\u001b[39;00m \u001b[38;5;28;01mas\u001b[39;00m e:\n\u001b[0;32m    152\u001b[0m   filtered_tb \u001b[38;5;241m=\u001b[39m _process_traceback_frames(e\u001b[38;5;241m.\u001b[39m__traceback__)\n",
      "File \u001b[1;32m~\\AppData\\Roaming\\Python\\Python310\\site-packages\\tensorflow\\python\\eager\\def_function.py:915\u001b[0m, in \u001b[0;36mFunction.__call__\u001b[1;34m(self, *args, **kwds)\u001b[0m\n\u001b[0;32m    912\u001b[0m compiler \u001b[38;5;241m=\u001b[39m \u001b[38;5;124m\"\u001b[39m\u001b[38;5;124mxla\u001b[39m\u001b[38;5;124m\"\u001b[39m \u001b[38;5;28;01mif\u001b[39;00m \u001b[38;5;28mself\u001b[39m\u001b[38;5;241m.\u001b[39m_jit_compile \u001b[38;5;28;01melse\u001b[39;00m \u001b[38;5;124m\"\u001b[39m\u001b[38;5;124mnonXla\u001b[39m\u001b[38;5;124m\"\u001b[39m\n\u001b[0;32m    914\u001b[0m \u001b[38;5;28;01mwith\u001b[39;00m OptionalXlaContext(\u001b[38;5;28mself\u001b[39m\u001b[38;5;241m.\u001b[39m_jit_compile):\n\u001b[1;32m--> 915\u001b[0m   result \u001b[38;5;241m=\u001b[39m \u001b[38;5;28mself\u001b[39m\u001b[38;5;241m.\u001b[39m_call(\u001b[38;5;241m*\u001b[39margs, \u001b[38;5;241m*\u001b[39m\u001b[38;5;241m*\u001b[39mkwds)\n\u001b[0;32m    917\u001b[0m new_tracing_count \u001b[38;5;241m=\u001b[39m \u001b[38;5;28mself\u001b[39m\u001b[38;5;241m.\u001b[39mexperimental_get_tracing_count()\n\u001b[0;32m    918\u001b[0m without_tracing \u001b[38;5;241m=\u001b[39m (tracing_count \u001b[38;5;241m==\u001b[39m new_tracing_count)\n",
      "File \u001b[1;32m~\\AppData\\Roaming\\Python\\Python310\\site-packages\\tensorflow\\python\\eager\\def_function.py:947\u001b[0m, in \u001b[0;36mFunction._call\u001b[1;34m(self, *args, **kwds)\u001b[0m\n\u001b[0;32m    944\u001b[0m   \u001b[38;5;28mself\u001b[39m\u001b[38;5;241m.\u001b[39m_lock\u001b[38;5;241m.\u001b[39mrelease()\n\u001b[0;32m    945\u001b[0m   \u001b[38;5;66;03m# In this case we have created variables on the first call, so we run the\u001b[39;00m\n\u001b[0;32m    946\u001b[0m   \u001b[38;5;66;03m# defunned version which is guaranteed to never create variables.\u001b[39;00m\n\u001b[1;32m--> 947\u001b[0m   \u001b[38;5;28;01mreturn\u001b[39;00m \u001b[38;5;28mself\u001b[39m\u001b[38;5;241m.\u001b[39m_stateless_fn(\u001b[38;5;241m*\u001b[39margs, \u001b[38;5;241m*\u001b[39m\u001b[38;5;241m*\u001b[39mkwds)  \u001b[38;5;66;03m# pylint: disable=not-callable\u001b[39;00m\n\u001b[0;32m    948\u001b[0m \u001b[38;5;28;01melif\u001b[39;00m \u001b[38;5;28mself\u001b[39m\u001b[38;5;241m.\u001b[39m_stateful_fn \u001b[38;5;129;01mis\u001b[39;00m \u001b[38;5;129;01mnot\u001b[39;00m \u001b[38;5;28;01mNone\u001b[39;00m:\n\u001b[0;32m    949\u001b[0m   \u001b[38;5;66;03m# Release the lock early so that multiple threads can perform the call\u001b[39;00m\n\u001b[0;32m    950\u001b[0m   \u001b[38;5;66;03m# in parallel.\u001b[39;00m\n\u001b[0;32m    951\u001b[0m   \u001b[38;5;28mself\u001b[39m\u001b[38;5;241m.\u001b[39m_lock\u001b[38;5;241m.\u001b[39mrelease()\n",
      "File \u001b[1;32m~\\AppData\\Roaming\\Python\\Python310\\site-packages\\tensorflow\\python\\eager\\function.py:2496\u001b[0m, in \u001b[0;36mFunction.__call__\u001b[1;34m(self, *args, **kwargs)\u001b[0m\n\u001b[0;32m   2493\u001b[0m \u001b[38;5;28;01mwith\u001b[39;00m \u001b[38;5;28mself\u001b[39m\u001b[38;5;241m.\u001b[39m_lock:\n\u001b[0;32m   2494\u001b[0m   (graph_function,\n\u001b[0;32m   2495\u001b[0m    filtered_flat_args) \u001b[38;5;241m=\u001b[39m \u001b[38;5;28mself\u001b[39m\u001b[38;5;241m.\u001b[39m_maybe_define_function(args, kwargs)\n\u001b[1;32m-> 2496\u001b[0m \u001b[38;5;28;01mreturn\u001b[39;00m \u001b[43mgraph_function\u001b[49m\u001b[38;5;241;43m.\u001b[39;49m\u001b[43m_call_flat\u001b[49m\u001b[43m(\u001b[49m\n\u001b[0;32m   2497\u001b[0m \u001b[43m    \u001b[49m\u001b[43mfiltered_flat_args\u001b[49m\u001b[43m,\u001b[49m\u001b[43m \u001b[49m\u001b[43mcaptured_inputs\u001b[49m\u001b[38;5;241;43m=\u001b[39;49m\u001b[43mgraph_function\u001b[49m\u001b[38;5;241;43m.\u001b[39;49m\u001b[43mcaptured_inputs\u001b[49m\u001b[43m)\u001b[49m\n",
      "File \u001b[1;32m~\\AppData\\Roaming\\Python\\Python310\\site-packages\\tensorflow\\python\\eager\\function.py:1862\u001b[0m, in \u001b[0;36mConcreteFunction._call_flat\u001b[1;34m(self, args, captured_inputs, cancellation_manager)\u001b[0m\n\u001b[0;32m   1858\u001b[0m possible_gradient_type \u001b[38;5;241m=\u001b[39m gradients_util\u001b[38;5;241m.\u001b[39mPossibleTapeGradientTypes(args)\n\u001b[0;32m   1859\u001b[0m \u001b[38;5;28;01mif\u001b[39;00m (possible_gradient_type \u001b[38;5;241m==\u001b[39m gradients_util\u001b[38;5;241m.\u001b[39mPOSSIBLE_GRADIENT_TYPES_NONE\n\u001b[0;32m   1860\u001b[0m     \u001b[38;5;129;01mand\u001b[39;00m executing_eagerly):\n\u001b[0;32m   1861\u001b[0m   \u001b[38;5;66;03m# No tape is watching; skip to running the function.\u001b[39;00m\n\u001b[1;32m-> 1862\u001b[0m   \u001b[38;5;28;01mreturn\u001b[39;00m \u001b[38;5;28mself\u001b[39m\u001b[38;5;241m.\u001b[39m_build_call_outputs(\u001b[38;5;28;43mself\u001b[39;49m\u001b[38;5;241;43m.\u001b[39;49m\u001b[43m_inference_function\u001b[49m\u001b[38;5;241;43m.\u001b[39;49m\u001b[43mcall\u001b[49m\u001b[43m(\u001b[49m\n\u001b[0;32m   1863\u001b[0m \u001b[43m      \u001b[49m\u001b[43mctx\u001b[49m\u001b[43m,\u001b[49m\u001b[43m \u001b[49m\u001b[43margs\u001b[49m\u001b[43m,\u001b[49m\u001b[43m \u001b[49m\u001b[43mcancellation_manager\u001b[49m\u001b[38;5;241;43m=\u001b[39;49m\u001b[43mcancellation_manager\u001b[49m\u001b[43m)\u001b[49m)\n\u001b[0;32m   1864\u001b[0m forward_backward \u001b[38;5;241m=\u001b[39m \u001b[38;5;28mself\u001b[39m\u001b[38;5;241m.\u001b[39m_select_forward_and_backward_functions(\n\u001b[0;32m   1865\u001b[0m     args,\n\u001b[0;32m   1866\u001b[0m     possible_gradient_type,\n\u001b[0;32m   1867\u001b[0m     executing_eagerly)\n\u001b[0;32m   1868\u001b[0m forward_function, args_with_tangents \u001b[38;5;241m=\u001b[39m forward_backward\u001b[38;5;241m.\u001b[39mforward()\n",
      "File \u001b[1;32m~\\AppData\\Roaming\\Python\\Python310\\site-packages\\tensorflow\\python\\eager\\function.py:499\u001b[0m, in \u001b[0;36m_EagerDefinedFunction.call\u001b[1;34m(self, ctx, args, cancellation_manager)\u001b[0m\n\u001b[0;32m    497\u001b[0m \u001b[38;5;28;01mwith\u001b[39;00m _InterpolateFunctionError(\u001b[38;5;28mself\u001b[39m):\n\u001b[0;32m    498\u001b[0m   \u001b[38;5;28;01mif\u001b[39;00m cancellation_manager \u001b[38;5;129;01mis\u001b[39;00m \u001b[38;5;28;01mNone\u001b[39;00m:\n\u001b[1;32m--> 499\u001b[0m     outputs \u001b[38;5;241m=\u001b[39m \u001b[43mexecute\u001b[49m\u001b[38;5;241;43m.\u001b[39;49m\u001b[43mexecute\u001b[49m\u001b[43m(\u001b[49m\n\u001b[0;32m    500\u001b[0m \u001b[43m        \u001b[49m\u001b[38;5;28;43mstr\u001b[39;49m\u001b[43m(\u001b[49m\u001b[38;5;28;43mself\u001b[39;49m\u001b[38;5;241;43m.\u001b[39;49m\u001b[43msignature\u001b[49m\u001b[38;5;241;43m.\u001b[39;49m\u001b[43mname\u001b[49m\u001b[43m)\u001b[49m\u001b[43m,\u001b[49m\n\u001b[0;32m    501\u001b[0m \u001b[43m        \u001b[49m\u001b[43mnum_outputs\u001b[49m\u001b[38;5;241;43m=\u001b[39;49m\u001b[38;5;28;43mself\u001b[39;49m\u001b[38;5;241;43m.\u001b[39;49m\u001b[43m_num_outputs\u001b[49m\u001b[43m,\u001b[49m\n\u001b[0;32m    502\u001b[0m \u001b[43m        \u001b[49m\u001b[43minputs\u001b[49m\u001b[38;5;241;43m=\u001b[39;49m\u001b[43margs\u001b[49m\u001b[43m,\u001b[49m\n\u001b[0;32m    503\u001b[0m \u001b[43m        \u001b[49m\u001b[43mattrs\u001b[49m\u001b[38;5;241;43m=\u001b[39;49m\u001b[43mattrs\u001b[49m\u001b[43m,\u001b[49m\n\u001b[0;32m    504\u001b[0m \u001b[43m        \u001b[49m\u001b[43mctx\u001b[49m\u001b[38;5;241;43m=\u001b[39;49m\u001b[43mctx\u001b[49m\u001b[43m)\u001b[49m\n\u001b[0;32m    505\u001b[0m   \u001b[38;5;28;01melse\u001b[39;00m:\n\u001b[0;32m    506\u001b[0m     outputs \u001b[38;5;241m=\u001b[39m execute\u001b[38;5;241m.\u001b[39mexecute_with_cancellation(\n\u001b[0;32m    507\u001b[0m         \u001b[38;5;28mstr\u001b[39m(\u001b[38;5;28mself\u001b[39m\u001b[38;5;241m.\u001b[39msignature\u001b[38;5;241m.\u001b[39mname),\n\u001b[0;32m    508\u001b[0m         num_outputs\u001b[38;5;241m=\u001b[39m\u001b[38;5;28mself\u001b[39m\u001b[38;5;241m.\u001b[39m_num_outputs,\n\u001b[1;32m   (...)\u001b[0m\n\u001b[0;32m    511\u001b[0m         ctx\u001b[38;5;241m=\u001b[39mctx,\n\u001b[0;32m    512\u001b[0m         cancellation_manager\u001b[38;5;241m=\u001b[39mcancellation_manager)\n",
      "File \u001b[1;32m~\\AppData\\Roaming\\Python\\Python310\\site-packages\\tensorflow\\python\\eager\\execute.py:54\u001b[0m, in \u001b[0;36mquick_execute\u001b[1;34m(op_name, num_outputs, inputs, attrs, ctx, name)\u001b[0m\n\u001b[0;32m     52\u001b[0m \u001b[38;5;28;01mtry\u001b[39;00m:\n\u001b[0;32m     53\u001b[0m   ctx\u001b[38;5;241m.\u001b[39mensure_initialized()\n\u001b[1;32m---> 54\u001b[0m   tensors \u001b[38;5;241m=\u001b[39m \u001b[43mpywrap_tfe\u001b[49m\u001b[38;5;241;43m.\u001b[39;49m\u001b[43mTFE_Py_Execute\u001b[49m\u001b[43m(\u001b[49m\u001b[43mctx\u001b[49m\u001b[38;5;241;43m.\u001b[39;49m\u001b[43m_handle\u001b[49m\u001b[43m,\u001b[49m\u001b[43m \u001b[49m\u001b[43mdevice_name\u001b[49m\u001b[43m,\u001b[49m\u001b[43m \u001b[49m\u001b[43mop_name\u001b[49m\u001b[43m,\u001b[49m\n\u001b[0;32m     55\u001b[0m \u001b[43m                                      \u001b[49m\u001b[43minputs\u001b[49m\u001b[43m,\u001b[49m\u001b[43m \u001b[49m\u001b[43mattrs\u001b[49m\u001b[43m,\u001b[49m\u001b[43m \u001b[49m\u001b[43mnum_outputs\u001b[49m\u001b[43m)\u001b[49m\n\u001b[0;32m     56\u001b[0m \u001b[38;5;28;01mexcept\u001b[39;00m core\u001b[38;5;241m.\u001b[39m_NotOkStatusException \u001b[38;5;28;01mas\u001b[39;00m e:\n\u001b[0;32m     57\u001b[0m   \u001b[38;5;28;01mif\u001b[39;00m name \u001b[38;5;129;01mis\u001b[39;00m \u001b[38;5;129;01mnot\u001b[39;00m \u001b[38;5;28;01mNone\u001b[39;00m:\n",
      "\u001b[1;31mKeyboardInterrupt\u001b[0m: "
     ]
    }
   ],
   "source": [
    "model.fit(train_dataset,epochs=10,validation_data = val_dataset)"
   ]
  },
  {
   "cell_type": "code",
   "execution_count": 22,
   "id": "7662ddae-1a19-4a6c-8b86-fd7e5aac8f0e",
   "metadata": {},
   "outputs": [],
   "source": [
    "def decode(Encoder,Decoder,eeg,y_val):\n",
    "    context = Encoder.predict(eeg,verbose=False)\n",
    "    tar = np.ones((1,128,1))*-10\n",
    "    for i in range(127):\n",
    "        out = Decoder.predict((tar,context),verbose=False)\n",
    "        #print(out.shape)\n",
    "        tar[0][i+1] = out[0][i]\n",
    "        #print(tar[0][1:10])\n",
    "    return out"
   ]
  },
  {
   "cell_type": "code",
   "execution_count": 23,
   "id": "2c614386-936e-4e7e-99a2-f79a9b4193f1",
   "metadata": {},
   "outputs": [],
   "source": [
    "pred = decode(enc_model,dec_model,np.expand_dims(X_val[2],axis=0),y_val[2])"
   ]
  },
  {
   "cell_type": "code",
   "execution_count": 25,
   "id": "625296a2-654c-4cad-bf2e-281c60a8d6b4",
   "metadata": {},
   "outputs": [
    {
     "data": {
      "text/plain": [
       "[<matplotlib.lines.Line2D at 0x210b6710490>]"
      ]
     },
     "execution_count": 25,
     "metadata": {},
     "output_type": "execute_result"
    },
    {
     "data": {
      "image/png": "[encoded data removed]",
      "text/plain": [
       "<Figure size 640x480 with 1 Axes>"
      ]
     },
     "metadata": {},
     "output_type": "display_data"
    }
   ],
   "source": [
    "plt.plot(pred[0])\n",
    "plt.plot(y_val[2])"
   ]
  },
  {
   "cell_type": "code",
   "execution_count": 66,
   "id": "dede4869-1e1d-441a-acdd-6f9622c91283",
   "metadata": {},
   "outputs": [
    {
     "data": {
      "text/plain": [
       "0.22617158"
      ]
     },
     "execution_count": 66,
     "metadata": {},
     "output_type": "execute_result"
    }
   ],
   "source": [
    "np.std(pred[0])"
   ]
  },
  {
   "cell_type": "code",
   "execution_count": 55,
   "id": "07e0a655-ec36-49c9-b7de-f650b9137140",
   "metadata": {},
   "outputs": [
    {
     "name": "stdout",
     "output_type": "stream",
     "text": [
      "0.3031151041603789\n",
      "-0.4550092833358759\n",
      "0.22675197119193363\n",
      "-0.3436988957909297\n",
      "-0.3903875740556414\n",
      "0.024968178728252244\n",
      "-0.021128625648223563\n",
      "0.10155157915930266\n",
      "0.12736869361772288\n",
      "-0.16975069121675695\n",
      "-0.27531509960892653\n",
      "0.3873069772972818\n",
      "0.2594701770635985\n",
      "0.1053028063368121\n",
      "0.2995975764646439\n",
      "-0.11510650947230812\n",
      "-0.2357430549997724\n",
      "-0.1818277696804196\n",
      "0.536272142703135\n",
      "0.3574966205268815\n",
      "0.011363636363636364\n"
     ]
    }
   ],
   "source": [
    "from scipy.stats import pearsonr\n",
    "\n",
    "total = 0\n",
    "for i in range(10):\n",
    "    pred = np.squeeze(decode(enc_model,dec_model,np.expand_dims(X_val[i],axis=0)))\n",
    "    p = pearsonr(pred,np.squeeze(y_val[i]))\n",
    "    m = pearsonr(pred,np.squeeze(m_val[i]))\n",
    "    print(p.statistic)\n",
    "    print(m.statistic)\n",
    "    if p>m:\n",
    "        total+=1\n",
    "print(total/len(y_val))"
   ]
  },
  {
   "cell_type": "code",
   "execution_count": 56,
   "id": "0e8b3e70-50ac-48ba-bdcf-82495a40e36c",
   "metadata": {},
   "outputs": [
    {
     "data": {
      "text/plain": [
       "6"
      ]
     },
     "execution_count": 56,
     "metadata": {},
     "output_type": "execute_result"
    }
   ],
   "source": [
    "total"
   ]
  },
  {
   "cell_type": "code",
   "execution_count": 20,
   "id": "1b80904a-a2a5-486a-ad4a-2ee9fa99952a",
   "metadata": {},
   "outputs": [
    {
     "name": "stdout",
     "output_type": "stream",
     "text": [
      "132/132 [==============================] - 6s 30ms/step\n"
     ]
    }
   ],
   "source": [
    "pred = model.predict(val_dataset)"
   ]
  },
  {
   "cell_type": "code",
   "execution_count": 21,
   "id": "d0d91be9-5af3-4f35-b10c-d239550ff7a1",
   "metadata": {},
   "outputs": [
    {
     "data": {
      "text/plain": [
       "[<matplotlib.lines.Line2D at 0x210c4f3abf0>]"
      ]
     },
     "execution_count": 21,
     "metadata": {},
     "output_type": "execute_result"
    },
    {
     "data": {
      "image/png": "[encoded data removed]",
      "text/plain": [
       "<Figure size 640x480 with 1 Axes>"
      ]
     },
     "metadata": {},
     "output_type": "display_data"
    }
   ],
   "source": [
    "plt.plot(pred[0])\n",
    "plt.plot(y_val[0])"
   ]
  },
  {
   "cell_type": "code",
   "execution_count": 102,
   "id": "5e65248c-8f7b-4e36-b197-749ec8d5a2db",
   "metadata": {},
   "outputs": [],
   "source": [
    "def Transf(inputs,targs,kdim,dropout,n_tr,n_heads):\n",
    "\n",
    "    inp = Input((inputs))\n",
    "    x = Conv2D(64,(1,8),activation=\"gelu\",strides=(4,4),padding=\"valid\")(inp)\n",
    "    x = BatchNormalization()(x)\n",
    "    x = DepthwiseConv2D(8,activation=\"gelu\",padding=\"same\")(x)\n",
    "    x = Conv2D(16,(1,15),activation = \"gelu\")(x)\n",
    "    x = Reshape((32,16))(x)\n",
    "    #x = Dense(256)(x)\n",
    "    d = Dense(kdim)(x)\n",
    "    \n",
    "    \n",
    "    emb = TrigPosEmbedding(input_shape=(4,),output_dim=kdim,mode=TrigPosEmbedding.MODE_EXPAND)(d)\n",
    "    x = Add()([emb,d])\n",
    "\n",
    "    for _ in range(n_tr):\n",
    "        x1 = MultiHeadAttention(num_heads=n_heads,key_dim = kdim)(x,x)\n",
    "        x2 = Add()([x1,x])\n",
    "        x3 = LayerNormalization()(x2)\n",
    "        x4 = Dense(kdim*2)(x3)\n",
    "        x5 = Dense(kdim)(x4)\n",
    "        x6 = Dropout(dropout)(x5)\n",
    "        x = Add()([x6,x3])\n",
    "    tar = Input(targs)\n",
    "    cont = x\n",
    "    #tar = Conv1D(1,2,activation=\"gelu\")(tar)\n",
    "\n",
    "    #x = Conv1D(8,2,activation=\"gelu\")(tar)\n",
    "    #tar = Masking(mask_value=0.)(tar)\n",
    "    d = Conv1D(64,1,padding=\"same\",activation=\"gelu\")(tar)\n",
    "    emb = TrigPosEmbedding(input_shape=(4,),output_dim=kdim,mode=TrigPosEmbedding.MODE_EXPAND)(d)\n",
    "    x = Add()([emb,d])\n",
    "    print(x.shape)\n",
    "\n",
    "    for _ in range(n_tr):\n",
    "        x1 = MultiHeadAttention(num_heads=n_heads,key_dim = kdim)(x,x,use_causal_mask=True)\n",
    "        x2 = Add()([x1,x])\n",
    "        x2 = LayerNormalization()(x2)\n",
    "        x3 = MultiHeadAttention(num_heads=n_heads,key_dim = kdim)(x2,cont)\n",
    "        x4 = Add()([x3,x2])\n",
    "        x4 = LayerNormalization()(x4)\n",
    "        x5 = Dense(2*kdim)(x4)\n",
    "        x5 = Dense(kdim)(x5)\n",
    "        x5 = Dropout(dropout)(x5)\n",
    "        x5 = Add()([x4,x5])\n",
    "        x = LayerNormalization()(x5)\n",
    "\n",
    "    x = Dense(1)(x)\n",
    "        \n",
    "        \n",
    "    return keras.Model((inp,tar),x)"
   ]
  },
  {
   "cell_type": "code",
   "execution_count": 103,
   "id": "9b6fb522-246b-4f2b-b18d-5e43181537cb",
   "metadata": {},
   "outputs": [
    {
     "name": "stdout",
     "output_type": "stream",
     "text": [
      "(None, 128, 64)\n",
      "Model: \"model_32\"\n",
      "__________________________________________________________________________________________________\n",
      " Layer (type)                   Output Shape         Param #     Connected to                     \n",
      "==================================================================================================\n",
      " input_67 (InputLayer)          [(None, 128, 66, 1)  0           []                               \n",
      "                                ]                                                                 \n",
      "                                                                                                  \n",
      " conv2d_42 (Conv2D)             (None, 32, 15, 64)   576         ['input_67[0][0]']               \n",
      "                                                                                                  \n",
      " batch_normalization_21 (BatchN  (None, 32, 15, 64)  256         ['conv2d_42[1][0]']              \n",
      " ormalization)                                                                                    \n",
      "                                                                                                  \n",
      " depthwise_conv2d_21 (Depthwise  (None, 32, 15, 64)  4160        ['batch_normalization_21[1][0]'] \n",
      " Conv2D)                                                                                          \n",
      "                                                                                                  \n",
      " conv2d_43 (Conv2D)             (None, 32, 1, 16)    15376       ['depthwise_conv2d_21[1][0]']    \n",
      "                                                                                                  \n",
      " reshape_16 (Reshape)           (None, 32, 16)       0           ['conv2d_43[1][0]']              \n",
      "                                                                                                  \n",
      " dense_386 (Dense)              (None, 32, 64)       1088        ['reshape_16[1][0]']             \n",
      "                                                                                                  \n",
      " trig_pos_embedding_30 (TrigPos  (None, 32, 64)      0           ['dense_386[1][0]']              \n",
      " Embedding)                                                                                       \n",
      "                                                                                                  \n",
      " add_437 (Add)                  (None, 32, 64)       0           ['trig_pos_embedding_30[1][0]',  \n",
      "                                                                  'dense_386[1][0]']              \n",
      "                                                                                                  \n",
      " multi_head_attention_240 (Mult  (None, 32, 64)      66368       ['add_437[1][0]',                \n",
      " iHeadAttention)                                                  'add_437[1][0]']                \n",
      "                                                                                                  \n",
      " add_438 (Add)                  (None, 32, 64)       0           ['multi_head_attention_240[1][0]'\n",
      "                                                                 , 'add_437[1][0]']               \n",
      "                                                                                                  \n",
      " layer_normalization_308 (Layer  (None, 32, 64)      128         ['add_438[1][0]']                \n",
      " Normalization)                                                                                   \n",
      "                                                                                                  \n",
      " dense_387 (Dense)              (None, 32, 128)      8320        ['layer_normalization_308[1][0]']\n",
      "                                                                                                  \n",
      " dense_388 (Dense)              (None, 32, 64)       8256        ['dense_387[1][0]']              \n",
      "                                                                                                  \n",
      " dropout_172 (Dropout)          (None, 32, 64)       0           ['dense_388[1][0]']              \n",
      "                                                                                                  \n",
      " add_439 (Add)                  (None, 32, 64)       0           ['dropout_172[1][0]',            \n",
      "                                                                  'layer_normalization_308[1][0]']\n",
      "                                                                                                  \n",
      " multi_head_attention_241 (Mult  (None, 32, 64)      66368       ['add_439[1][0]',                \n",
      " iHeadAttention)                                                  'add_439[1][0]']                \n",
      "                                                                                                  \n",
      " add_440 (Add)                  (None, 32, 64)       0           ['multi_head_attention_241[1][0]'\n",
      "                                                                 , 'add_439[1][0]']               \n",
      "                                                                                                  \n",
      " layer_normalization_309 (Layer  (None, 32, 64)      128         ['add_440[1][0]']                \n",
      " Normalization)                                                                                   \n",
      "                                                                                                  \n",
      " dense_389 (Dense)              (None, 32, 128)      8320        ['layer_normalization_309[1][0]']\n",
      "                                                                                                  \n",
      " dense_390 (Dense)              (None, 32, 64)       8256        ['dense_389[1][0]']              \n",
      "                                                                                                  \n",
      " dropout_173 (Dropout)          (None, 32, 64)       0           ['dense_390[1][0]']              \n",
      "                                                                                                  \n",
      " add_441 (Add)                  (None, 32, 64)       0           ['dropout_173[1][0]',            \n",
      "                                                                  'layer_normalization_309[1][0]']\n",
      "                                                                                                  \n",
      " multi_head_attention_242 (Mult  (None, 32, 64)      66368       ['add_441[1][0]',                \n",
      " iHeadAttention)                                                  'add_441[1][0]']                \n",
      "                                                                                                  \n",
      " add_442 (Add)                  (None, 32, 64)       0           ['multi_head_attention_242[1][0]'\n",
      "                                                                 , 'add_441[1][0]']               \n",
      "                                                                                                  \n",
      " layer_normalization_310 (Layer  (None, 32, 64)      128         ['add_442[1][0]']                \n",
      " Normalization)                                                                                   \n",
      "                                                                                                  \n",
      " dense_391 (Dense)              (None, 32, 128)      8320        ['layer_normalization_310[1][0]']\n",
      "                                                                                                  \n",
      " dense_392 (Dense)              (None, 32, 64)       8256        ['dense_391[1][0]']              \n",
      "                                                                                                  \n",
      " dropout_174 (Dropout)          (None, 32, 64)       0           ['dense_392[1][0]']              \n",
      "                                                                                                  \n",
      " add_443 (Add)                  (None, 32, 64)       0           ['dropout_174[1][0]',            \n",
      "                                                                  'layer_normalization_310[1][0]']\n",
      "                                                                                                  \n",
      " input_69 (InputLayer)          [(None, 128, 1)]     0           []                               \n",
      "                                                                                                  \n",
      " multi_head_attention_243 (Mult  (None, 32, 64)      66368       ['add_443[1][0]',                \n",
      " iHeadAttention)                                                  'add_443[1][0]']                \n",
      "                                                                                                  \n",
      " conv1d (Conv1D)                (None, 128, 64)      128         ['input_69[0][0]']               \n",
      "                                                                                                  \n",
      " add_444 (Add)                  (None, 32, 64)       0           ['multi_head_attention_243[1][0]'\n",
      "                                                                 , 'add_443[1][0]']               \n",
      "                                                                                                  \n",
      " trig_pos_embedding_31 (TrigPos  (None, 128, 64)     0           ['conv1d[1][0]']                 \n",
      " Embedding)                                                                                       \n",
      "                                                                                                  \n",
      " layer_normalization_311 (Layer  (None, 32, 64)      128         ['add_444[1][0]']                \n",
      " Normalization)                                                                                   \n",
      "                                                                                                  \n",
      " add_446 (Add)                  (None, 128, 64)      0           ['trig_pos_embedding_31[1][0]',  \n",
      "                                                                  'conv1d[1][0]']                 \n",
      "                                                                                                  \n",
      " dense_393 (Dense)              (None, 32, 128)      8320        ['layer_normalization_311[1][0]']\n",
      "                                                                                                  \n",
      " multi_head_attention_244 (Mult  (None, 128, 64)     66368       ['add_446[1][0]',                \n",
      " iHeadAttention)                                                  'add_446[1][0]']                \n",
      "                                                                                                  \n",
      " dense_394 (Dense)              (None, 32, 64)       8256        ['dense_393[1][0]']              \n",
      "                                                                                                  \n",
      " add_447 (Add)                  (None, 128, 64)      0           ['multi_head_attention_244[1][0]'\n",
      "                                                                 , 'add_446[1][0]']               \n",
      "                                                                                                  \n",
      " dropout_175 (Dropout)          (None, 32, 64)       0           ['dense_394[1][0]']              \n",
      "                                                                                                  \n",
      " layer_normalization_312 (Layer  (None, 128, 64)     128         ['add_447[1][0]']                \n",
      " Normalization)                                                                                   \n",
      "                                                                                                  \n",
      " add_445 (Add)                  (None, 32, 64)       0           ['dropout_175[1][0]',            \n",
      "                                                                  'layer_normalization_311[1][0]']\n",
      "                                                                                                  \n",
      " multi_head_attention_245 (Mult  (None, 128, 64)     66368       ['layer_normalization_312[1][0]',\n",
      " iHeadAttention)                                                  'add_445[1][0]']                \n",
      "                                                                                                  \n",
      " add_448 (Add)                  (None, 128, 64)      0           ['multi_head_attention_245[1][0]'\n",
      "                                                                 , 'layer_normalization_312[1][0]'\n",
      "                                                                 ]                                \n",
      "                                                                                                  \n",
      " layer_normalization_313 (Layer  (None, 128, 64)     128         ['add_448[1][0]']                \n",
      " Normalization)                                                                                   \n",
      "                                                                                                  \n",
      " dense_395 (Dense)              (None, 128, 128)     8320        ['layer_normalization_313[1][0]']\n",
      "                                                                                                  \n",
      " dense_396 (Dense)              (None, 128, 64)      8256        ['dense_395[1][0]']              \n",
      "                                                                                                  \n",
      " dropout_176 (Dropout)          (None, 128, 64)      0           ['dense_396[1][0]']              \n",
      "                                                                                                  \n",
      " add_449 (Add)                  (None, 128, 64)      0           ['layer_normalization_313[1][0]',\n",
      "                                                                  'dropout_176[1][0]']            \n",
      "                                                                                                  \n",
      " layer_normalization_314 (Layer  (None, 128, 64)     128         ['add_449[1][0]']                \n",
      " Normalization)                                                                                   \n",
      "                                                                                                  \n",
      " multi_head_attention_246 (Mult  (None, 128, 64)     66368       ['layer_normalization_314[1][0]',\n",
      " iHeadAttention)                                                  'layer_normalization_314[1][0]']\n",
      "                                                                                                  \n",
      " add_450 (Add)                  (None, 128, 64)      0           ['multi_head_attention_246[1][0]'\n",
      "                                                                 , 'layer_normalization_314[1][0]'\n",
      "                                                                 ]                                \n",
      "                                                                                                  \n",
      " layer_normalization_315 (Layer  (None, 128, 64)     128         ['add_450[1][0]']                \n",
      " Normalization)                                                                                   \n",
      "                                                                                                  \n",
      " multi_head_attention_247 (Mult  (None, 128, 64)     66368       ['layer_normalization_315[1][0]',\n",
      " iHeadAttention)                                                  'add_445[1][0]']                \n",
      "                                                                                                  \n",
      " add_451 (Add)                  (None, 128, 64)      0           ['multi_head_attention_247[1][0]'\n",
      "                                                                 , 'layer_normalization_315[1][0]'\n",
      "                                                                 ]                                \n",
      "                                                                                                  \n",
      " layer_normalization_316 (Layer  (None, 128, 64)     128         ['add_451[1][0]']                \n",
      " Normalization)                                                                                   \n",
      "                                                                                                  \n",
      " dense_397 (Dense)              (None, 128, 128)     8320        ['layer_normalization_316[1][0]']\n",
      "                                                                                                  \n",
      " dense_398 (Dense)              (None, 128, 64)      8256        ['dense_397[1][0]']              \n",
      "                                                                                                  \n",
      " dropout_177 (Dropout)          (None, 128, 64)      0           ['dense_398[1][0]']              \n",
      "                                                                                                  \n",
      " add_452 (Add)                  (None, 128, 64)      0           ['layer_normalization_316[1][0]',\n",
      "                                                                  'dropout_177[1][0]']            \n",
      "                                                                                                  \n",
      " layer_normalization_317 (Layer  (None, 128, 64)     128         ['add_452[1][0]']                \n",
      " Normalization)                                                                                   \n",
      "                                                                                                  \n",
      " multi_head_attention_248 (Mult  (None, 128, 64)     66368       ['layer_normalization_317[1][0]',\n",
      " iHeadAttention)                                                  'layer_normalization_317[1][0]']\n",
      "                                                                                                  \n",
      " add_453 (Add)                  (None, 128, 64)      0           ['multi_head_attention_248[1][0]'\n",
      "                                                                 , 'layer_normalization_317[1][0]'\n",
      "                                                                 ]                                \n",
      "                                                                                                  \n",
      " layer_normalization_318 (Layer  (None, 128, 64)     128         ['add_453[1][0]']                \n",
      " Normalization)                                                                                   \n",
      "                                                                                                  \n",
      " multi_head_attention_249 (Mult  (None, 128, 64)     66368       ['layer_normalization_318[1][0]',\n",
      " iHeadAttention)                                                  'add_445[1][0]']                \n",
      "                                                                                                  \n",
      " add_454 (Add)                  (None, 128, 64)      0           ['multi_head_attention_249[1][0]'\n",
      "                                                                 , 'layer_normalization_318[1][0]'\n",
      "                                                                 ]                                \n",
      "                                                                                                  \n",
      " layer_normalization_319 (Layer  (None, 128, 64)     128         ['add_454[1][0]']                \n",
      " Normalization)                                                                                   \n",
      "                                                                                                  \n",
      " dense_399 (Dense)              (None, 128, 128)     8320        ['layer_normalization_319[1][0]']\n",
      "                                                                                                  \n",
      " dense_400 (Dense)              (None, 128, 64)      8256        ['dense_399[1][0]']              \n",
      "                                                                                                  \n",
      " dropout_178 (Dropout)          (None, 128, 64)      0           ['dense_400[1][0]']              \n",
      "                                                                                                  \n",
      " add_455 (Add)                  (None, 128, 64)      0           ['layer_normalization_319[1][0]',\n",
      "                                                                  'dropout_178[1][0]']            \n",
      "                                                                                                  \n",
      " layer_normalization_320 (Layer  (None, 128, 64)     128         ['add_455[1][0]']                \n",
      " Normalization)                                                                                   \n",
      "                                                                                                  \n",
      " multi_head_attention_250 (Mult  (None, 128, 64)     66368       ['layer_normalization_320[1][0]',\n",
      " iHeadAttention)                                                  'layer_normalization_320[1][0]']\n",
      "                                                                                                  \n",
      " add_456 (Add)                  (None, 128, 64)      0           ['multi_head_attention_250[1][0]'\n",
      "                                                                 , 'layer_normalization_320[1][0]'\n",
      "                                                                 ]                                \n",
      "                                                                                                  \n",
      " layer_normalization_321 (Layer  (None, 128, 64)     128         ['add_456[1][0]']                \n",
      " Normalization)                                                                                   \n",
      "                                                                                                  \n",
      " multi_head_attention_251 (Mult  (None, 128, 64)     66368       ['layer_normalization_321[1][0]',\n",
      " iHeadAttention)                                                  'add_445[1][0]']                \n",
      "                                                                                                  \n",
      " add_457 (Add)                  (None, 128, 64)      0           ['multi_head_attention_251[1][0]'\n",
      "                                                                 , 'layer_normalization_321[1][0]'\n",
      "                                                                 ]                                \n",
      "                                                                                                  \n",
      " layer_normalization_322 (Layer  (None, 128, 64)     128         ['add_457[1][0]']                \n",
      " Normalization)                                                                                   \n",
      "                                                                                                  \n",
      " dense_401 (Dense)              (None, 128, 128)     8320        ['layer_normalization_322[1][0]']\n",
      "                                                                                                  \n",
      " dense_402 (Dense)              (None, 128, 64)      8256        ['dense_401[1][0]']              \n",
      "                                                                                                  \n",
      " dropout_179 (Dropout)          (None, 128, 64)      0           ['dense_402[1][0]']              \n",
      "                                                                                                  \n",
      " add_458 (Add)                  (None, 128, 64)      0           ['layer_normalization_322[1][0]',\n",
      "                                                                  'dropout_179[1][0]']            \n",
      "                                                                                                  \n",
      " layer_normalization_323 (Layer  (None, 128, 64)     128         ['add_458[1][0]']                \n",
      " Normalization)                                                                                   \n",
      "                                                                                                  \n",
      " dense_403 (Dense)              (None, 128, 1)       65          ['layer_normalization_323[1][0]']\n",
      "                                                                                                  \n",
      "==================================================================================================\n",
      "Total params: 952,721\n",
      "Trainable params: 952,593\n",
      "Non-trainable params: 128\n",
      "__________________________________________________________________________________________________\n"
     ]
    }
   ],
   "source": [
    "model = Transf((128,66,1),(128,1),64,0.2,4,4)\n",
    "model.summary()"
   ]
  },
  {
   "cell_type": "code",
   "execution_count": 104,
   "id": "7187d143-a0e5-46e3-9d42-f364e4a82e73",
   "metadata": {},
   "outputs": [],
   "source": [
    "model.compile(optimizer=keras.optimizers.Nadam(),loss=keras.losses.MeanSquaredError(),metrics = [keras.metrics.CosineSimilarity()])"
   ]
  },
  {
   "cell_type": "code",
   "execution_count": 105,
   "id": "df95bf46-68e8-4d8d-b558-964938e6a792",
   "metadata": {},
   "outputs": [
    {
     "name": "stdout",
     "output_type": "stream",
     "text": [
      "Epoch 1/10\n"
     ]
    },
    {
     "ename": "InvalidArgumentError",
     "evalue": "Graph execution error:\n\nDetected at node 'gradient_tape/model_32/add_446/add/BroadcastGradientArgs' defined at (most recent call last):\n    File \"C:\\Users\\gauta\\anaconda3\\envs\\keras-jax\\lib\\runpy.py\", line 196, in _run_module_as_main\n      return _run_code(code, main_globals, None,\n    File \"C:\\Users\\gauta\\anaconda3\\envs\\keras-jax\\lib\\runpy.py\", line 86, in _run_code\n      exec(code, run_globals)\n    File \"C:\\Users\\gauta\\anaconda3\\envs\\keras-jax\\lib\\site-packages\\ipykernel_launcher.py\", line 18, in <module>\n      app.launch_new_instance()\n    File \"C:\\Users\\gauta\\anaconda3\\envs\\keras-jax\\lib\\site-packages\\traitlets\\config\\application.py\", line 1075, in launch_instance\n      app.start()\n    File \"C:\\Users\\gauta\\anaconda3\\envs\\keras-jax\\lib\\site-packages\\ipykernel\\kernelapp.py\", line 739, in start\n      self.io_loop.start()\n    File \"C:\\Users\\gauta\\anaconda3\\envs\\keras-jax\\lib\\site-packages\\tornado\\platform\\asyncio.py\", line 205, in start\n      self.asyncio_loop.run_forever()\n    File \"C:\\Users\\gauta\\anaconda3\\envs\\keras-jax\\lib\\asyncio\\base_events.py\", line 603, in run_forever\n      self._run_once()\n    File \"C:\\Users\\gauta\\anaconda3\\envs\\keras-jax\\lib\\asyncio\\base_events.py\", line 1909, in _run_once\n      handle._run()\n    File \"C:\\Users\\gauta\\anaconda3\\envs\\keras-jax\\lib\\asyncio\\events.py\", line 80, in _run\n      self._context.run(self._callback, *self._args)\n    File \"C:\\Users\\gauta\\anaconda3\\envs\\keras-jax\\lib\\site-packages\\ipykernel\\kernelbase.py\", line 545, in dispatch_queue\n      await self.process_one()\n    File \"C:\\Users\\gauta\\anaconda3\\envs\\keras-jax\\lib\\site-packages\\ipykernel\\kernelbase.py\", line 534, in process_one\n      await dispatch(*args)\n    File \"C:\\Users\\gauta\\anaconda3\\envs\\keras-jax\\lib\\site-packages\\ipykernel\\kernelbase.py\", line 437, in dispatch_shell\n      await result\n    File \"C:\\Users\\gauta\\anaconda3\\envs\\keras-jax\\lib\\site-packages\\ipykernel\\ipkernel.py\", line 359, in execute_request\n      await super().execute_request(stream, ident, parent)\n    File \"C:\\Users\\gauta\\anaconda3\\envs\\keras-jax\\lib\\site-packages\\ipykernel\\kernelbase.py\", line 778, in execute_request\n      reply_content = await reply_content\n    File \"C:\\Users\\gauta\\anaconda3\\envs\\keras-jax\\lib\\site-packages\\ipykernel\\ipkernel.py\", line 446, in do_execute\n      res = shell.run_cell(\n    File \"C:\\Users\\gauta\\anaconda3\\envs\\keras-jax\\lib\\site-packages\\ipykernel\\zmqshell.py\", line 549, in run_cell\n      return super().run_cell(*args, **kwargs)\n    File \"C:\\Users\\gauta\\anaconda3\\envs\\keras-jax\\lib\\site-packages\\IPython\\core\\interactiveshell.py\", line 3075, in run_cell\n      result = self._run_cell(\n    File \"C:\\Users\\gauta\\anaconda3\\envs\\keras-jax\\lib\\site-packages\\IPython\\core\\interactiveshell.py\", line 3130, in _run_cell\n      result = runner(coro)\n    File \"C:\\Users\\gauta\\anaconda3\\envs\\keras-jax\\lib\\site-packages\\IPython\\core\\async_helpers.py\", line 129, in _pseudo_sync_runner\n      coro.send(None)\n    File \"C:\\Users\\gauta\\anaconda3\\envs\\keras-jax\\lib\\site-packages\\IPython\\core\\interactiveshell.py\", line 3334, in run_cell_async\n      has_raised = await self.run_ast_nodes(code_ast.body, cell_name,\n    File \"C:\\Users\\gauta\\anaconda3\\envs\\keras-jax\\lib\\site-packages\\IPython\\core\\interactiveshell.py\", line 3517, in run_ast_nodes\n      if await self.run_code(code, result, async_=asy):\n    File \"C:\\Users\\gauta\\anaconda3\\envs\\keras-jax\\lib\\site-packages\\IPython\\core\\interactiveshell.py\", line 3577, in run_code\n      exec(code_obj, self.user_global_ns, self.user_ns)\n    File \"C:\\Users\\gauta\\AppData\\Local\\Temp\\ipykernel_18736\\2832722568.py\", line 1, in <module>\n      model.fit(train_dataset,epochs=10,validation_data = val_dataset)\n    File \"C:\\Users\\gauta\\AppData\\Roaming\\Python\\Python310\\site-packages\\keras\\utils\\traceback_utils.py\", line 65, in error_handler\n      return fn(*args, **kwargs)\n    File \"C:\\Users\\gauta\\AppData\\Roaming\\Python\\Python310\\site-packages\\keras\\engine\\training.py\", line 1564, in fit\n      tmp_logs = self.train_function(iterator)\n    File \"C:\\Users\\gauta\\AppData\\Roaming\\Python\\Python310\\site-packages\\keras\\engine\\training.py\", line 1160, in train_function\n      return step_function(self, iterator)\n    File \"C:\\Users\\gauta\\AppData\\Roaming\\Python\\Python310\\site-packages\\keras\\engine\\training.py\", line 1146, in step_function\n      outputs = model.distribute_strategy.run(run_step, args=(data,))\n    File \"C:\\Users\\gauta\\AppData\\Roaming\\Python\\Python310\\site-packages\\keras\\engine\\training.py\", line 1135, in run_step\n      outputs = model.train_step(data)\n    File \"C:\\Users\\gauta\\AppData\\Roaming\\Python\\Python310\\site-packages\\keras\\engine\\training.py\", line 997, in train_step\n      self.optimizer.minimize(loss, self.trainable_variables, tape=tape)\n    File \"C:\\Users\\gauta\\AppData\\Roaming\\Python\\Python310\\site-packages\\keras\\optimizers\\optimizer_v2\\optimizer_v2.py\", line 576, in minimize\n      grads_and_vars = self._compute_gradients(\n    File \"C:\\Users\\gauta\\AppData\\Roaming\\Python\\Python310\\site-packages\\keras\\optimizers\\optimizer_v2\\optimizer_v2.py\", line 634, in _compute_gradients\n      grads_and_vars = self._get_gradients(\n    File \"C:\\Users\\gauta\\AppData\\Roaming\\Python\\Python310\\site-packages\\keras\\optimizers\\optimizer_v2\\optimizer_v2.py\", line 510, in _get_gradients\n      grads = tape.gradient(loss, var_list, grad_loss)\nNode: 'gradient_tape/model_32/add_446/add/BroadcastGradientArgs'\nIncompatible shapes: [256,128,64] vs. [4,128,64]\n\t [[{{node gradient_tape/model_32/add_446/add/BroadcastGradientArgs}}]] [Op:__inference_train_function_292971]",
     "output_type": "error",
     "traceback": [
      "\u001b[1;31m---------------------------------------------------------------------------\u001b[0m",
      "\u001b[1;31mInvalidArgumentError\u001b[0m                      Traceback (most recent call last)",
      "Cell \u001b[1;32mIn[105], line 1\u001b[0m\n\u001b[1;32m----> 1\u001b[0m \u001b[43mmodel\u001b[49m\u001b[38;5;241;43m.\u001b[39;49m\u001b[43mfit\u001b[49m\u001b[43m(\u001b[49m\u001b[43mtrain_dataset\u001b[49m\u001b[43m,\u001b[49m\u001b[43mepochs\u001b[49m\u001b[38;5;241;43m=\u001b[39;49m\u001b[38;5;241;43m10\u001b[39;49m\u001b[43m,\u001b[49m\u001b[43mvalidation_data\u001b[49m\u001b[43m \u001b[49m\u001b[38;5;241;43m=\u001b[39;49m\u001b[43m \u001b[49m\u001b[43mval_dataset\u001b[49m\u001b[43m)\u001b[49m\n",
      "File \u001b[1;32m~\\AppData\\Roaming\\Python\\Python310\\site-packages\\keras\\utils\\traceback_utils.py:70\u001b[0m, in \u001b[0;36mfilter_traceback.<locals>.error_handler\u001b[1;34m(*args, **kwargs)\u001b[0m\n\u001b[0;32m     67\u001b[0m     filtered_tb \u001b[38;5;241m=\u001b[39m _process_traceback_frames(e\u001b[38;5;241m.\u001b[39m__traceback__)\n\u001b[0;32m     68\u001b[0m     \u001b[38;5;66;03m# To get the full stack trace, call:\u001b[39;00m\n\u001b[0;32m     69\u001b[0m     \u001b[38;5;66;03m# `tf.debugging.disable_traceback_filtering()`\u001b[39;00m\n\u001b[1;32m---> 70\u001b[0m     \u001b[38;5;28;01mraise\u001b[39;00m e\u001b[38;5;241m.\u001b[39mwith_traceback(filtered_tb) \u001b[38;5;28;01mfrom\u001b[39;00m \u001b[38;5;28;01mNone\u001b[39;00m\n\u001b[0;32m     71\u001b[0m \u001b[38;5;28;01mfinally\u001b[39;00m:\n\u001b[0;32m     72\u001b[0m     \u001b[38;5;28;01mdel\u001b[39;00m filtered_tb\n",
      "File \u001b[1;32m~\\AppData\\Roaming\\Python\\Python310\\site-packages\\tensorflow\\python\\eager\\execute.py:54\u001b[0m, in \u001b[0;36mquick_execute\u001b[1;34m(op_name, num_outputs, inputs, attrs, ctx, name)\u001b[0m\n\u001b[0;32m     52\u001b[0m \u001b[38;5;28;01mtry\u001b[39;00m:\n\u001b[0;32m     53\u001b[0m   ctx\u001b[38;5;241m.\u001b[39mensure_initialized()\n\u001b[1;32m---> 54\u001b[0m   tensors \u001b[38;5;241m=\u001b[39m pywrap_tfe\u001b[38;5;241m.\u001b[39mTFE_Py_Execute(ctx\u001b[38;5;241m.\u001b[39m_handle, device_name, op_name,\n\u001b[0;32m     55\u001b[0m                                       inputs, attrs, num_outputs)\n\u001b[0;32m     56\u001b[0m \u001b[38;5;28;01mexcept\u001b[39;00m core\u001b[38;5;241m.\u001b[39m_NotOkStatusException \u001b[38;5;28;01mas\u001b[39;00m e:\n\u001b[0;32m     57\u001b[0m   \u001b[38;5;28;01mif\u001b[39;00m name \u001b[38;5;129;01mis\u001b[39;00m \u001b[38;5;129;01mnot\u001b[39;00m \u001b[38;5;28;01mNone\u001b[39;00m:\n",
      "\u001b[1;31mInvalidArgumentError\u001b[0m: Graph execution error:\n\nDetected at node 'gradient_tape/model_32/add_446/add/BroadcastGradientArgs' defined at (most recent call last):\n    File \"C:\\Users\\gauta\\anaconda3\\envs\\keras-jax\\lib\\runpy.py\", line 196, in _run_module_as_main\n      return _run_code(code, main_globals, None,\n    File \"C:\\Users\\gauta\\anaconda3\\envs\\keras-jax\\lib\\runpy.py\", line 86, in _run_code\n      exec(code, run_globals)\n    File \"C:\\Users\\gauta\\anaconda3\\envs\\keras-jax\\lib\\site-packages\\ipykernel_launcher.py\", line 18, in <module>\n      app.launch_new_instance()\n    File \"C:\\Users\\gauta\\anaconda3\\envs\\keras-jax\\lib\\site-packages\\traitlets\\config\\application.py\", line 1075, in launch_instance\n      app.start()\n    File \"C:\\Users\\gauta\\anaconda3\\envs\\keras-jax\\lib\\site-packages\\ipykernel\\kernelapp.py\", line 739, in start\n      self.io_loop.start()\n    File \"C:\\Users\\gauta\\anaconda3\\envs\\keras-jax\\lib\\site-packages\\tornado\\platform\\asyncio.py\", line 205, in start\n      self.asyncio_loop.run_forever()\n    File \"C:\\Users\\gauta\\anaconda3\\envs\\keras-jax\\lib\\asyncio\\base_events.py\", line 603, in run_forever\n      self._run_once()\n    File \"C:\\Users\\gauta\\anaconda3\\envs\\keras-jax\\lib\\asyncio\\base_events.py\", line 1909, in _run_once\n      handle._run()\n    File \"C:\\Users\\gauta\\anaconda3\\envs\\keras-jax\\lib\\asyncio\\events.py\", line 80, in _run\n      self._context.run(self._callback, *self._args)\n    File \"C:\\Users\\gauta\\anaconda3\\envs\\keras-jax\\lib\\site-packages\\ipykernel\\kernelbase.py\", line 545, in dispatch_queue\n      await self.process_one()\n    File \"C:\\Users\\gauta\\anaconda3\\envs\\keras-jax\\lib\\site-packages\\ipykernel\\kernelbase.py\", line 534, in process_one\n      await dispatch(*args)\n    File \"C:\\Users\\gauta\\anaconda3\\envs\\keras-jax\\lib\\site-packages\\ipykernel\\kernelbase.py\", line 437, in dispatch_shell\n      await result\n    File \"C:\\Users\\gauta\\anaconda3\\envs\\keras-jax\\lib\\site-packages\\ipykernel\\ipkernel.py\", line 359, in execute_request\n      await super().execute_request(stream, ident, parent)\n    File \"C:\\Users\\gauta\\anaconda3\\envs\\keras-jax\\lib\\site-packages\\ipykernel\\kernelbase.py\", line 778, in execute_request\n      reply_content = await reply_content\n    File \"C:\\Users\\gauta\\anaconda3\\envs\\keras-jax\\lib\\site-packages\\ipykernel\\ipkernel.py\", line 446, in do_execute\n      res = shell.run_cell(\n    File \"C:\\Users\\gauta\\anaconda3\\envs\\keras-jax\\lib\\site-packages\\ipykernel\\zmqshell.py\", line 549, in run_cell\n      return super().run_cell(*args, **kwargs)\n    File \"C:\\Users\\gauta\\anaconda3\\envs\\keras-jax\\lib\\site-packages\\IPython\\core\\interactiveshell.py\", line 3075, in run_cell\n      result = self._run_cell(\n    File \"C:\\Users\\gauta\\anaconda3\\envs\\keras-jax\\lib\\site-packages\\IPython\\core\\interactiveshell.py\", line 3130, in _run_cell\n      result = runner(coro)\n    File \"C:\\Users\\gauta\\anaconda3\\envs\\keras-jax\\lib\\site-packages\\IPython\\core\\async_helpers.py\", line 129, in _pseudo_sync_runner\n      coro.send(None)\n    File \"C:\\Users\\gauta\\anaconda3\\envs\\keras-jax\\lib\\site-packages\\IPython\\core\\interactiveshell.py\", line 3334, in run_cell_async\n      has_raised = await self.run_ast_nodes(code_ast.body, cell_name,\n    File \"C:\\Users\\gauta\\anaconda3\\envs\\keras-jax\\lib\\site-packages\\IPython\\core\\interactiveshell.py\", line 3517, in run_ast_nodes\n      if await self.run_code(code, result, async_=asy):\n    File \"C:\\Users\\gauta\\anaconda3\\envs\\keras-jax\\lib\\site-packages\\IPython\\core\\interactiveshell.py\", line 3577, in run_code\n      exec(code_obj, self.user_global_ns, self.user_ns)\n    File \"C:\\Users\\gauta\\AppData\\Local\\Temp\\ipykernel_18736\\2832722568.py\", line 1, in <module>\n      model.fit(train_dataset,epochs=10,validation_data = val_dataset)\n    File \"C:\\Users\\gauta\\AppData\\Roaming\\Python\\Python310\\site-packages\\keras\\utils\\traceback_utils.py\", line 65, in error_handler\n      return fn(*args, **kwargs)\n    File \"C:\\Users\\gauta\\AppData\\Roaming\\Python\\Python310\\site-packages\\keras\\engine\\training.py\", line 1564, in fit\n      tmp_logs = self.train_function(iterator)\n    File \"C:\\Users\\gauta\\AppData\\Roaming\\Python\\Python310\\site-packages\\keras\\engine\\training.py\", line 1160, in train_function\n      return step_function(self, iterator)\n    File \"C:\\Users\\gauta\\AppData\\Roaming\\Python\\Python310\\site-packages\\keras\\engine\\training.py\", line 1146, in step_function\n      outputs = model.distribute_strategy.run(run_step, args=(data,))\n    File \"C:\\Users\\gauta\\AppData\\Roaming\\Python\\Python310\\site-packages\\keras\\engine\\training.py\", line 1135, in run_step\n      outputs = model.train_step(data)\n    File \"C:\\Users\\gauta\\AppData\\Roaming\\Python\\Python310\\site-packages\\keras\\engine\\training.py\", line 997, in train_step\n      self.optimizer.minimize(loss, self.trainable_variables, tape=tape)\n    File \"C:\\Users\\gauta\\AppData\\Roaming\\Python\\Python310\\site-packages\\keras\\optimizers\\optimizer_v2\\optimizer_v2.py\", line 576, in minimize\n      grads_and_vars = self._compute_gradients(\n    File \"C:\\Users\\gauta\\AppData\\Roaming\\Python\\Python310\\site-packages\\keras\\optimizers\\optimizer_v2\\optimizer_v2.py\", line 634, in _compute_gradients\n      grads_and_vars = self._get_gradients(\n    File \"C:\\Users\\gauta\\AppData\\Roaming\\Python\\Python310\\site-packages\\keras\\optimizers\\optimizer_v2\\optimizer_v2.py\", line 510, in _get_gradients\n      grads = tape.gradient(loss, var_list, grad_loss)\nNode: 'gradient_tape/model_32/add_446/add/BroadcastGradientArgs'\nIncompatible shapes: [256,128,64] vs. [4,128,64]\n\t [[{{node gradient_tape/model_32/add_446/add/BroadcastGradientArgs}}]] [Op:__inference_train_function_292971]"
     ]
    }
   ],
   "source": [
    "model.fit(train_dataset,epochs=10,validation_data = val_dataset)"
   ]
  },
  {
   "cell_type": "code",
   "execution_count": 10,
   "id": "c30723f6-6137-44fb-8a6a-8cc112b35121",
   "metadata": {},
   "outputs": [
    {
     "ename": "ModuleNotFoundError",
     "evalue": "No module named 'keras_core'",
     "output_type": "error",
     "traceback": [
      "\u001b[1;31m---------------------------------------------------------------------------\u001b[0m",
      "\u001b[1;31mModuleNotFoundError\u001b[0m                       Traceback (most recent call last)",
      "Cell \u001b[1;32mIn[10], line 1\u001b[0m\n\u001b[1;32m----> 1\u001b[0m \u001b[38;5;28;01mimport\u001b[39;00m \u001b[38;5;21;01mkeras_core\u001b[39;00m\n",
      "\u001b[1;31mModuleNotFoundError\u001b[0m: No module named 'keras_core'"
     ]
    }
   ],
   "source": [
    "import keras_core"
   ]
  },
  {
   "cell_type": "code",
   "execution_count": 33,
   "id": "ad501fff-3d6a-4cfd-a383-4746bb6b612a",
   "metadata": {},
   "outputs": [
    {
     "data": {
      "text/plain": [
       "<function keras.backend.arange(start, stop=None, step=1, dtype='int32')>"
      ]
     },
     "execution_count": 33,
     "metadata": {},
     "output_type": "execute_result"
    }
   ],
   "source": [
    "keras.backend.arange"
   ]
  },
  {
   "cell_type": "code",
   "execution_count": null,
   "id": "43ed0663-0cb8-486e-93eb-7e4c0acb0af6",
   "metadata": {},
   "outputs": [],
   "source": []
  }
 ],
 "metadata": {
  "kernelspec": {
   "display_name": "Python 3 (ipykernel)",
   "language": "python",
   "name": "python3"
  },
  "language_info": {
   "codemirror_mode": {
    "name": "ipython",
    "version": 3
   },
   "file_extension": ".py",
   "mimetype": "text/x-python",
   "name": "python",
   "nbconvert_exporter": "python",
   "pygments_lexer": "ipython3",
   "version": "3.10.13"
  }
 },
 "nbformat": 4,
 "nbformat_minor": 5
}
